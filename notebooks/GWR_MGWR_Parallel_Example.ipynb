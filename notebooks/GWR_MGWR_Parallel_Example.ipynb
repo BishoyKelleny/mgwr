{
 "cells": [
  {
   "cell_type": "code",
   "execution_count": 1,
   "metadata": {},
   "outputs": [
    {
     "name": "stderr",
     "output_type": "stream",
     "text": [
      "/Users/Ziqi/anaconda/lib/python3.5/site-packages/libpysal/io/iohandlers/__init__.py:25: UserWarning: SQLAlchemy and Geomet not installed, database I/O disabled\n",
      "  warnings.warn('SQLAlchemy and Geomet not installed, database I/O disabled')\n"
     ]
    }
   ],
   "source": [
    "import numpy as np\n",
    "import sys\n",
    "import numpy as np\n",
    "import geopandas as gp\n",
    "import multiprocessing as mp\n",
    "import pandas as pd\n",
    "import libpysal as ps\n",
    "sys.path.append('/Users/Ziqi/Desktop/mgwr/')\n",
    "from mgwr.gwr import GWR,MGWR\n",
    "from mgwr.sel_bw import Sel_BW\n",
    "import matplotlib.pyplot as plt\n",
    "import time\n",
    "from memory_profiler import memory_usage\n",
    "%load_ext memory_profiler"
   ]
  },
  {
   "cell_type": "code",
   "execution_count": 2,
   "metadata": {},
   "outputs": [],
   "source": [
    "#Load Georgia dataset to a pd dataframe\n",
    "prenz = gp.read_file(ps.examples.get_path('prenzlauer.zip'))"
   ]
  },
  {
   "cell_type": "code",
   "execution_count": 3,
   "metadata": {},
   "outputs": [],
   "source": [
    "b_y = np.log(prenz['price'].values.reshape((-1, 1)))\n",
    "b_X = prenz[['review_sco','accommodat','bathrooms']].values \n",
    "b_X = (b_X - b_X.mean(axis=0)) / b_X.std(axis=0)\n",
    "b_y = (b_y - b_y.mean(axis=0)) / b_y.std(axis=0)\n",
    "u = prenz['X']\n",
    "v = prenz['Y']\n",
    "b_coords = np.array(list(zip(u, v)))"
   ]
  },
  {
   "cell_type": "code",
   "execution_count": 4,
   "metadata": {},
   "outputs": [
    {
     "name": "stdout",
     "output_type": "stream",
     "text": [
      "env: OMP_NUM_THREADS=1\n"
     ]
    }
   ],
   "source": [
    "%env OMP_NUM_THREADS = 1"
   ]
  },
  {
   "cell_type": "code",
   "execution_count": 5,
   "metadata": {},
   "outputs": [
    {
     "name": "stdout",
     "output_type": "stream",
     "text": [
      "192.0\n",
      "CPU times: user 15.2 s, sys: 1.33 s, total: 16.5 s\n",
      "Wall time: 9.61 s\n"
     ]
    }
   ],
   "source": [
    "%%time\n",
    "gwr_selector = Sel_BW(b_coords, b_y, b_X)\n",
    "gwr_bw = gwr_selector.search()\n",
    "print(gwr_bw)\n",
    "gwr_results = GWR(b_coords, b_y, b_X, gwr_bw).fit()"
   ]
  },
  {
   "cell_type": "code",
   "execution_count": 6,
   "metadata": {},
   "outputs": [
    {
     "name": "stdout",
     "output_type": "stream",
     "text": [
      "Iteration 1 SOC: 0.0057381\n",
      "Bandwidths: 191.0, 1279.0, 82.0, 2200.0\n",
      "Iteration 2 SOC: 0.0013604\n",
      "Bandwidths: 191.0, 1279.0, 79.0, 2200.0\n",
      "Iteration 3 SOC: 0.0002223\n",
      "Bandwidths: 191.0, 1279.0, 79.0, 2200.0\n",
      "Iteration 4 SOC: 2.48e-05\n",
      "Bandwidths: 191.0, 1279.0, 79.0, 2200.0\n",
      "Iteration 5 SOC: 3.1e-06\n",
      "Bandwidths: 191.0, 1279.0, 79.0, 2200.0\n",
      "[ 191. 1279.   79. 2200.]\n",
      "CPU times: user 1min 17s, sys: 1.18 s, total: 1min 18s\n",
      "Wall time: 1min 12s\n"
     ]
    }
   ],
   "source": [
    "%%time\n",
    "mgwr_selector = Sel_BW(b_coords, b_y, b_X, multi=True)\n",
    "mgwr_bw = mgwr_selector.search()\n",
    "print(mgwr_bw)\n",
    "#mgwr_results = MGWR(b_coords, b_y, b_X, selector=mgwr_selector).fit()"
   ]
  },
  {
   "cell_type": "code",
   "execution_count": 7,
   "metadata": {},
   "outputs": [],
   "source": [
    "n_proc = 2\n",
    "pool = mp.Pool(n_proc)"
   ]
  },
  {
   "cell_type": "code",
   "execution_count": 8,
   "metadata": {},
   "outputs": [
    {
     "name": "stdout",
     "output_type": "stream",
     "text": [
      "192.0\n",
      "CPU times: user 342 ms, sys: 49.9 ms, total: 391 ms\n",
      "Wall time: 4.89 s\n"
     ]
    }
   ],
   "source": [
    "%%time\n",
    "gwr_selector = Sel_BW(b_coords, b_y, b_X)\n",
    "gwr_bw = gwr_selector.search(pool=pool)\n",
    "print(gwr_bw)\n",
    "gwr_results = GWR(b_coords, b_y, b_X, gwr_bw).fit(pool=pool)"
   ]
  },
  {
   "cell_type": "code",
   "execution_count": 9,
   "metadata": {},
   "outputs": [
    {
     "name": "stdout",
     "output_type": "stream",
     "text": [
      "Iteration 1 SOC: 0.0057381\n",
      "Bandwidths: 191.0, 1279.0, 82.0, 2200.0\n",
      "Iteration 2 SOC: 0.0013604\n",
      "Bandwidths: 191.0, 1279.0, 79.0, 2200.0\n",
      "Iteration 3 SOC: 0.0002223\n",
      "Bandwidths: 191.0, 1279.0, 79.0, 2200.0\n",
      "Iteration 4 SOC: 2.48e-05\n",
      "Bandwidths: 191.0, 1279.0, 79.0, 2200.0\n",
      "Iteration 5 SOC: 3.1e-06\n",
      "Bandwidths: 191.0, 1279.0, 79.0, 2200.0\n",
      "[ 191. 1279.   79. 2200.]\n",
      "CPU times: user 4.99 s, sys: 424 ms, total: 5.42 s\n",
      "Wall time: 48.9 s\n"
     ]
    }
   ],
   "source": [
    "%%time\n",
    "mgwr_selector = Sel_BW(b_coords, b_y, b_X, multi=True)\n",
    "mgwr_bw = mgwr_selector.search(pool=pool)\n",
    "print(mgwr_bw)\n",
    "#mgwr_results = MGWR(b_coords, b_y, b_X, selector=mgwr_selector).fit()"
   ]
  }
 ],
 "metadata": {
  "kernelspec": {
   "display_name": "Python [default]",
   "language": "python",
   "name": "python3"
  },
  "language_info": {
   "codemirror_mode": {
    "name": "ipython",
    "version": 3
   },
   "file_extension": ".py",
   "mimetype": "text/x-python",
   "name": "python",
   "nbconvert_exporter": "python",
   "pygments_lexer": "ipython3",
   "version": "3.5.4"
  }
 },
 "nbformat": 4,
 "nbformat_minor": 2
}
