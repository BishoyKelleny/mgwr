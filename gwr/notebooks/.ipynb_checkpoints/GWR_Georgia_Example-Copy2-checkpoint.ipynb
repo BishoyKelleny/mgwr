{
 "cells": [
  {
   "cell_type": "code",
   "execution_count": 1,
   "metadata": {
    "collapsed": false
   },
   "outputs": [
    {
     "name": "stdout",
     "output_type": "stream",
     "text": [
      "Populating the interactive namespace from numpy and matplotlib\n"
     ]
    }
   ],
   "source": [
    "import numpy as np\n",
    "import scipy as sp\n",
    "import pandas as pd\n",
    "import geopandas as gp\n",
    "import pysal as ps\n",
    "import matplotlib\n",
    "import matplotlib.pyplot as plt\n",
    "%pylab inline\n",
    "from gwr.sel_bw import Sel_BW\n",
    "from gwr.gwr import GWR\n",
    "from spglm.family import Gaussian"
   ]
  },
  {
   "cell_type": "code",
   "execution_count": null,
   "metadata": {
    "collapsed": true
   },
   "outputs": [],
   "source": []
  },
  {
   "cell_type": "code",
   "execution_count": 22,
   "metadata": {
    "collapsed": false
   },
   "outputs": [
    {
     "ename": "AttributeError",
     "evalue": "'csvWrapper' object has no attribute 'PctBach'",
     "output_type": "error",
     "traceback": [
      "\u001b[0;31m---------------------------------------------------------------------------\u001b[0m",
      "\u001b[0;31mAttributeError\u001b[0m                            Traceback (most recent call last)",
      "\u001b[0;32m<ipython-input-22-d82a71add9fa>\u001b[0m in \u001b[0;36m<module>\u001b[0;34m()\u001b[0m\n\u001b[1;32m      8\u001b[0m \u001b[0;34m\u001b[0m\u001b[0m\n\u001b[1;32m      9\u001b[0m \u001b[0;31m#Dependent variable\u001b[0m\u001b[0;34m\u001b[0m\u001b[0;34m\u001b[0m\u001b[0m\n\u001b[0;32m---> 10\u001b[0;31m \u001b[0my\u001b[0m \u001b[0;34m=\u001b[0m \u001b[0mdata\u001b[0m\u001b[0;34m.\u001b[0m\u001b[0mPctBach\u001b[0m\u001b[0;34m.\u001b[0m\u001b[0mreshape\u001b[0m\u001b[0;34m(\u001b[0m\u001b[0;34m(\u001b[0m\u001b[0;34m-\u001b[0m\u001b[0;36m1\u001b[0m\u001b[0;34m,\u001b[0m\u001b[0;36m1\u001b[0m\u001b[0;34m)\u001b[0m\u001b[0;34m)\u001b[0m\u001b[0;34m\u001b[0m\u001b[0m\n\u001b[0m\u001b[1;32m     11\u001b[0m \u001b[0;34m\u001b[0m\u001b[0m\n\u001b[1;32m     12\u001b[0m \u001b[0;31m#Design matrix - covariates - intercept added automatically\u001b[0m\u001b[0;34m\u001b[0m\u001b[0;34m\u001b[0m\u001b[0m\n",
      "\u001b[0;31mAttributeError\u001b[0m: 'csvWrapper' object has no attribute 'PctBach'"
     ]
    }
   ],
   "source": [
    "#Data\n",
    "\n",
    "data = ps.open(ps.examples.get_path('GData_utm.csv'))\n",
    "shp = gp.read_file('/Users/toshan/dev/pysal/pysal/examples/georgia/G_utm.shp')\n",
    "\n",
    "\n",
    "# Prep data into design matrix and coordinates\n",
    "\n",
    "#Dependent variable\n",
    "y = data.PctBach.reshape((-1,1))\n",
    "\n",
    "#Design matrix - covariates - intercept added automatically\n",
    "pov = data.PctPov.reshape((-1,1))\n",
    "rural = data.PctRural.reshape((-1,1))\n",
    "blk = data.PctBlack.reshape((-1,1))\n",
    "X = np.hstack([pov, rural, blk])\n",
    "labels = ['Intercept', 'PctPov', 'PctRural', 'PctAfricanAmer']\n",
    "\n",
    "#Coordinates for calibration points\n",
    "u = shp.X\n",
    "v = shp.Y\n",
    "coords = zip(u,v)"
   ]
  },
  {
   "cell_type": "code",
   "execution_count": 3,
   "metadata": {
    "collapsed": false
   },
   "outputs": [
    {
     "name": "stdout",
     "output_type": "stream",
     "text": [
      "100.0\n"
     ]
    }
   ],
   "source": [
    "#Find optimal bandwidth using golden section search to minimize AICc\n",
    "\n",
    "#Instantiate bandwidth selection class - bisquare NN (adaptive)\n",
    "bw = Sel_BW(coords, y, X, kernel='bisquare', fixed=False)\n",
    "\n",
    "#Find optimal bandwidth by minimizing AICc using golden section search algorithm\n",
    "bw = bw.search(search='golden_section', criterion='AICc')\n",
    "print bw"
   ]
  },
  {
   "cell_type": "code",
   "execution_count": null,
   "metadata": {
    "collapsed": true
   },
   "outputs": [],
   "source": []
  },
  {
   "cell_type": "code",
   "execution_count": 17,
   "metadata": {
    "collapsed": false
   },
   "outputs": [],
   "source": [
    "#Instantiate GWR model and then estimate parameters and diagnostics using fit method\n",
    "model = GWR(coords, y, X, 46, family=Gaussian(), fixed=False, kernel='bisquare')\n",
    "results = model.fit()"
   ]
  },
  {
   "cell_type": "code",
   "execution_count": 21,
   "metadata": {
    "collapsed": false
   },
   "outputs": [
    {
     "data": {
      "text/plain": [
       "[(824645.5, 3864805),\n",
       " (797981.7, 3872640),\n",
       " (777040.1, 3858779),\n",
       " (739255.8, 3866604),\n",
       " (707834.3, 3854188),\n",
       " (686891.4, 3855274),\n",
       " (670055.9, 3862318),\n",
       " (658870.4, 3842167),\n",
       " (635964.3, 3854592),\n",
       " (732702.3, 3844809),\n",
       " (818917.1, 3839931),\n",
       " (796905.6, 3841086),\n",
       " (772600.0, 3832429),\n",
       " (842085.9, 3827075),\n",
       " (695325.1, 3822135),\n",
       " (764386.1, 3812502),\n",
       " (662257.4, 3789664),\n",
       " (653026.6, 3813760),\n",
       " (845701.3, 3813323),\n",
       " (733846.7, 3812828),\n",
       " (870749.9, 3810303),\n",
       " (794419.5, 3803344),\n",
       " (819317.3, 3807616),\n",
       " (734240.9, 3794110),\n",
       " (699011.5, 3793408),\n",
       " (765397.3, 3789005),\n",
       " (879541.2, 3785425),\n",
       " (815753.1, 3783949),\n",
       " (848638.8, 3785405),\n",
       " (845701.3, 3813323),\n",
       " (733728.4, 3733248),\n",
       " (772634.6, 3764306),\n",
       " (803747.1, 3769623),\n",
       " (668031.4, 3764766),\n",
       " (863291.8, 3756777),\n",
       " (724646.8, 3757187),\n",
       " (695329.2, 3758093),\n",
       " (832508.6, 3762905),\n",
       " (891228.5, 3749769),\n",
       " (919396.5, 3752562),\n",
       " (830735.9, 3750903),\n",
       " (759231.9, 3735253),\n",
       " (800384.3, 3742691),\n",
       " (665933.8, 3740622),\n",
       " (825920.1, 3717990),\n",
       " (678778.6, 3713250),\n",
       " (707288.7, 3731361),\n",
       " (777759.0, 3729605),\n",
       " (855577.3, 3722330),\n",
       " (884376.9, 3717493),\n",
       " (942527.9, 3722100),\n",
       " (793263.9, 3719734),\n",
       " (917730.9, 3716368),\n",
       " (902471.1, 3699878),\n",
       " (763488.4, 3699716),\n",
       " (745538.8, 3711726),\n",
       " (954272.3, 3697862),\n",
       " (777759.0, 3729605),\n",
       " (731468.7, 3700612),\n",
       " (807249.1, 3695092),\n",
       " (777759.0, 3729605),\n",
       " (840169.1, 3695254),\n",
       " (705457.9, 3694344),\n",
       " (873518.8, 3689861),\n",
       " (782448.2, 3684504),\n",
       " (954272.3, 3697862),\n",
       " (675280.4, 3685569),\n",
       " (908386.8, 3685752),\n",
       " (924108.1, 3668080),\n",
       " (971593.8, 3671394),\n",
       " (754916.2, 3685029),\n",
       " (894704.3, 3648583),\n",
       " (715359.8, 3660275),\n",
       " (705457.9, 3694344),\n",
       " (849431.3, 3665553),\n",
       " (682616.8, 3660254),\n",
       " (790338.7, 3660608),\n",
       " (766461.7, 3663959),\n",
       " (821367.1, 3660143),\n",
       " (744180.8, 3665561),\n",
       " (1004028.0, 3641918),\n",
       " (858796.9, 3637891),\n",
       " (970465.7, 3640263),\n",
       " (752165.2, 3639192),\n",
       " (809736.9, 3636468),\n",
       " (832935.0, 3623868),\n",
       " (943066.2, 3616602),\n",
       " (734217.9, 3623162),\n",
       " (908636.7, 3624562),\n",
       " (783416.5, 3623343),\n",
       " (695500.6, 3624790),\n",
       " (884830.4, 3599291),\n",
       " (759410.8, 3608179),\n",
       " (994903.4, 3600493),\n",
       " (798061.4, 3609091),\n",
       " (814118.9, 3590553),\n",
       " (1031899.0, 3596117),\n",
       " (964264.9, 3598842),\n",
       " (844270.1, 3595691),\n",
       " (700833.7, 3598228),\n",
       " (919077.6, 3595170),\n",
       " (732876.8, 3584393),\n",
       " (777055.3, 3584821),\n",
       " (759410.8, 3608179),\n",
       " (704959.2, 3577608),\n",
       " (777055.3, 3584821),\n",
       " (860451.4, 3569933),\n",
       " (752973.1, 3570222),\n",
       " (833819.6, 3567447),\n",
       " (920887.4, 3568473),\n",
       " (941734.4, 3567586),\n",
       " (963427.8, 3560039),\n",
       " (898776.3, 3563384),\n",
       " (981727.8, 3571315),\n",
       " (1059706.0, 3556747),\n",
       " (1023145.0, 3554982),\n",
       " (800031.3, 3564188),\n",
       " (763457.1, 3551752),\n",
       " (731576.3, 3544716),\n",
       " (703256.8, 3552857),\n",
       " (1031899.0, 3596117),\n",
       " (882069.4, 3534470),\n",
       " (1014742.0, 3537225),\n",
       " (882069.4, 3534470),\n",
       " (838551.5, 3538547),\n",
       " (1004544.0, 3517834),\n",
       " (805648.4, 3537103),\n",
       " (915741.9, 3530869),\n",
       " (941396.6, 3521764),\n",
       " (686875.4, 3524124),\n",
       " (882069.4, 3534470),\n",
       " (743031.8, 3522636),\n",
       " (712437.1, 3519627),\n",
       " (770455.5, 3520161),\n",
       " (986832.8, 3494323),\n",
       " (863020.8, 3520432),\n",
       " (819399.6, 3514927),\n",
       " (801018.1, 3487328),\n",
       " (894463.9, 3492465),\n",
       " (894463.9, 3492465),\n",
       " (894463.9, 3492465),\n",
       " (855461.8, 3506293),\n",
       " (1030500.0, 3500535),\n",
       " (695793.9, 3495219),\n",
       " (930946.4, 3502787),\n",
       " (764116.9, 3494367),\n",
       " (724741.2, 3492653),\n",
       " (831682.3, 3487715),\n",
       " (953533.8, 3482044),\n",
       " (1023411.0, 3471063),\n",
       " (938349.6, 3446675),\n",
       " (703495.1, 3467152),\n",
       " (859915.8, 3466377),\n",
       " (895553.0, 3471916),\n",
       " (745398.6, 3474765),\n",
       " (766238.6, 3453930),\n",
       " (979288.9, 3463849),\n",
       " (839816.1, 3449007),\n",
       " (808691.8, 3455994),\n",
       " (716369.8, 3451034),\n",
       " (1008480.0, 3437933),\n",
       " (908046.1, 3428340),\n",
       " (873804.3, 3439981),\n",
       " (962612.3, 3432769),\n",
       " (827822.0, 3421638),\n",
       " (795506.2, 3421725),\n",
       " (765058.1, 3421817),\n",
       " (732628.4, 3421800),\n",
       " (704495.6, 3422002),\n",
       " (864781.1, 3419313),\n",
       " (896654.0, 3401148),\n",
       " (827822.0, 3421638)]"
      ]
     },
     "execution_count": 21,
     "metadata": {},
     "output_type": "execute_result"
    }
   ],
   "source": [
    "coords"
   ]
  },
  {
   "cell_type": "code",
   "execution_count": 19,
   "metadata": {
    "collapsed": false
   },
   "outputs": [
    {
     "name": "stdout",
     "output_type": "stream",
     "text": [
      "4\n",
      "(172, 6)\n"
     ]
    }
   ],
   "source": [
    "def corr(cov):\n",
    "    sd = np.diag(np.sqrt(np.diag(cov)))\n",
    "    try:\n",
    "        invsd = np.linalg.inv(sd)\n",
    "        cors = np.dot(np.dot(invsd, cov), invsd)\n",
    "    except:\n",
    "        cors = np.zeros((sd.shape))\n",
    "    return cors\n",
    "\n",
    "def local_MC(gwr):\n",
    "    x = gwr.X\n",
    "    w = gwr.W \n",
    "    nvar = x.shape[1]\n",
    "    print nvar\n",
    "    nrow = len(w)\n",
    "    if nvar > 3:\n",
    "        corr_mat = np.ndarray((nrow, int(sp.special.factorial(nvar-1))))\n",
    "    else:\n",
    "        corr_mat = np.ndarray((nrow, nvar))\n",
    "    print corr_mat.shape\n",
    "    vifs_mat = np.ndarray((nrow, nvar-1))\n",
    "    vdp_idx = np.ndarray((nrow, nvar))\n",
    "    vdp_pi = np.ndarray((nrow, nvar, nvar))\n",
    "\n",
    "    for i in range(nrow):\n",
    "        wi = w[i]\n",
    "        sw = np.sum(wi)\n",
    "        wi = wi/sw\n",
    "        tag = 0\n",
    "        for j in range(nvar-1):\n",
    "            for k in range(j+1, nvar):\n",
    "                #print j,k\n",
    "                corr_mat[i, tag] = corr(np.cov(x[:,j], x[:, k], aweights=wi))[0][1]\n",
    "                tag = tag + 1\n",
    "        corr_mati = corr(np.cov(x[:,1:].T, aweights=wi))\n",
    "        vifs_mat[i,] = np.diag(np.linalg.solve(corr_mati, np.identity((nvar-1))))\n",
    "        xw = x * wi.reshape((nrow,1))\n",
    "        sxw = np.sqrt(np.sum(xw**2, axis=0))\n",
    "        sxw = np.transpose(xw.T / sxw.reshape((nvar,1))) \n",
    "        svdx = np.linalg.svd(sxw)    \n",
    "        vdp_idx[i,] = svdx[1][0]/svdx[1]\n",
    "\n",
    "        phi = np.dot(svdx[2].T, np.diag(1/svdx[1]))\n",
    "\n",
    "        phi = np.transpose(phi**2)\n",
    "        pi_ij = phi / np.sum(phi, axis=0)\n",
    "        vdp_pi[i,:,:] = pi_ij\n",
    "    local_CN = vdp_idx[:, nvar-1]\n",
    "    VDP = vdp_pi[:,nvar-1,:]\n",
    "    return corr_mat, vifs_mat, local_CN, VDP\n",
    "    \n",
    "a, b, c, d = local_MC(results)"
   ]
  },
  {
   "cell_type": "code",
   "execution_count": 20,
   "metadata": {
    "collapsed": false
   },
   "outputs": [
    {
     "data": {
      "text/plain": [
       "array([20.46002317, 21.79172227, 19.48299078, 14.06058525, 11.47436374,\n",
       "       11.85960676, 12.73049122, 12.16855332, 13.08327828, 12.89615792,\n",
       "       17.61796233, 17.23103585, 16.13549261, 18.08386457, 10.10926828,\n",
       "       12.36797785, 10.1586033 , 11.90945586, 16.80127275, 11.81173485,\n",
       "       19.67235375, 11.88163437, 13.92711409, 10.28076355,  9.52535867,\n",
       "        9.4481803 , 16.64381618, 10.48250123, 15.12967745, 16.80127275,\n",
       "       10.18220271,  7.97155658,  8.54593105,  9.37466895, 15.97257809,\n",
       "        9.35812255,  8.92003217, 11.47812055, 14.29596366, 15.05281651,\n",
       "       11.03270176, 10.13807811,  7.4729687 ,  9.19325296, 12.51198521,\n",
       "        9.40075148,  9.06731575,  9.26448661, 15.36513344, 15.6539687 ,\n",
       "       17.45650684,  9.443149  , 17.23373273, 16.98683503, 16.37740105,\n",
       "       13.51071938, 15.82753907,  9.26448661, 12.67378512, 15.61135984,\n",
       "        9.26448661, 15.7541553 , 10.74584587, 16.09300478, 17.79789602,\n",
       "       15.82753907, 10.21511948, 15.80106427, 14.48443503, 14.07612027,\n",
       "       17.61341251, 12.89471674, 13.12364643, 10.74584587, 15.53082189,\n",
       "       11.32783511, 18.79318196, 17.21179277, 18.59297685, 16.28869776,\n",
       "       12.94756268, 12.04732897, 14.04663504, 15.29142113, 16.72996193,\n",
       "       12.90911932, 18.44062091, 14.81381601, 14.98482613, 17.44046683,\n",
       "       13.62696412, 16.33395477, 16.40273103, 13.33266987, 16.04934071,\n",
       "       14.27687265, 11.38241606, 17.9297439 , 11.31121789, 15.41380474,\n",
       "       21.07666376, 16.49516853, 16.66547273, 16.40273103, 16.95909061,\n",
       "       16.66547273, 17.03556673, 16.97164942, 15.9482388 , 21.9896408 ,\n",
       "       21.71463533, 16.72489982, 19.88398311, 13.88926966, 10.85304974,\n",
       "       11.32942818, 14.97116864, 16.29965138, 18.20260232, 18.40427177,\n",
       "       11.38241606, 29.31462693, 11.88656325, 29.31462693, 25.85273797,\n",
       "       12.82066003, 15.08193045, 26.13994519, 22.92013079, 17.5738079 ,\n",
       "       29.31462693, 17.27029759, 17.55410226, 15.63055075, 14.6629307 ,\n",
       "       34.10197857, 19.41378955, 18.1170416 , 29.04703377, 29.04703377,\n",
       "       29.04703377, 34.26447419, 12.48469828, 16.96268463, 24.52968793,\n",
       "       16.79806356, 17.18317627, 24.42258075, 17.60189117, 13.04916963,\n",
       "       16.46608707, 17.65459567, 26.66504242, 25.0421138 , 17.8726801 ,\n",
       "       20.21587503, 14.1808488 , 24.85900636, 23.63853483, 18.31645042,\n",
       "       12.84420199, 19.17132347, 22.34729618, 13.80705015, 25.04156687,\n",
       "       24.35056146, 22.00979164, 19.91455362, 18.98109256, 21.79608299,\n",
       "       19.06971517, 25.04156687])"
      ]
     },
     "execution_count": 20,
     "metadata": {},
     "output_type": "execute_result"
    }
   ],
   "source": [
    "c"
   ]
  },
  {
   "cell_type": "code",
   "execution_count": 242,
   "metadata": {
    "collapsed": false
   },
   "outputs": [
    {
     "name": "stdout",
     "output_type": "stream",
     "text": [
      "[-0.69558977]\n",
      "[-0.25609056]\n",
      "[0.15321546]\n",
      "[0.43269397]\n",
      "[-0.06526484]\n",
      "[0.19200661]\n"
     ]
    }
   ],
   "source": [
    "from scipy.stats import pearsonr\n",
    "\n",
    "print pearsonr(inc, crime)[0]\n",
    "print pearsonr(inc, plumb)[0]\n",
    "print pearsonr(inc, op)[0]\n",
    "\n",
    "print pearsonr(crime, plumb)[0]\n",
    "print pearsonr(crime, op)[0]\n",
    "\n",
    "print pearsonr(plumb, op)[0]\n",
    "\n"
   ]
  },
  {
   "cell_type": "code",
   "execution_count": 247,
   "metadata": {
    "collapsed": false
   },
   "outputs": [
    {
     "name": "stdout",
     "output_type": "stream",
     "text": [
      "-0.6651485730332158\n",
      "-0.15337212082835333\n",
      "0.1638505688372199\n",
      "0.3755214471538651\n",
      "-0.05501956725183264\n",
      "0.21024044463298272\n"
     ]
    }
   ],
   "source": [
    "print np.mean(a[:, 0])\n",
    "\n",
    "print np.mean(a[:, 1])\n",
    "\n",
    "print np.mean(a[:, 2])\n",
    "\n",
    "print np.mean(a[:, 3])\n",
    "\n",
    "print np.mean(a[:, 4])\n",
    "\n",
    "print np.mean(a[:, 5])"
   ]
  },
  {
   "cell_type": "code",
   "execution_count": 195,
   "metadata": {
    "collapsed": false
   },
   "outputs": [
    {
     "data": {
      "text/plain": [
       "array(2.)"
      ]
     },
     "execution_count": 195,
     "metadata": {},
     "output_type": "execute_result"
    }
   ],
   "source": [
    "sp.special.factorial(2)"
   ]
  },
  {
   "cell_type": "code",
   "execution_count": null,
   "metadata": {
    "collapsed": true
   },
   "outputs": [],
   "source": [
    "inc = np.array(data.by_col['INC']).reshape((-1,1))\n",
    "crime = np.array(data.by_col['CRIME']).reshape((-1,1))\n",
    "plumb = np.array(data.by_col['PLUMB']).reshape((-1,1))\n",
    "op = np.array(data.by_col['OPEN']).reshape((-1,1))\n"
   ]
  }
 ],
 "metadata": {
  "anaconda-cloud": {},
  "kernelspec": {
   "display_name": "Python [Root]",
   "language": "python",
   "name": "Python [Root]"
  },
  "language_info": {
   "codemirror_mode": {
    "name": "ipython",
    "version": 2
   },
   "file_extension": ".py",
   "mimetype": "text/x-python",
   "name": "python",
   "nbconvert_exporter": "python",
   "pygments_lexer": "ipython2",
   "version": "2.7.12"
  }
 },
 "nbformat": 4,
 "nbformat_minor": 0
}
