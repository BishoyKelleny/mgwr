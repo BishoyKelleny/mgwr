{
 "cells": [
  {
   "cell_type": "code",
   "execution_count": 1,
   "metadata": {},
   "outputs": [],
   "source": [
    "#import pysal as ps\n",
    "import numpy as np\n",
    "import scipy as sp\n",
    "from gwr.sel_bw import Sel_BW\n",
    "from gwr.gwr import GWR, MGWR\n",
    "import pandas as pd"
   ]
  },
  {
   "cell_type": "code",
   "execution_count": 2,
   "metadata": {},
   "outputs": [],
   "source": [
    "data = pd.read_csv('/Users/toshan/Dropbox/DoppleBock/mgwr_inference/peak_25_full.csv')"
   ]
  },
  {
   "cell_type": "code",
   "execution_count": 11,
   "metadata": {},
   "outputs": [],
   "source": [
    "B1 = data['B1'].values.reshape((-1,1))\n",
    "\n",
    "\n",
    "B2 = data['B2'].values.reshape((-1,1))\n",
    "\n",
    "\n",
    "X1 = data['X1'].values.reshape((-1,1))\n",
    "\n",
    "\n",
    "X2 = data['X2'].values.reshape((-1,1))\n"
   ]
  },
  {
   "cell_type": "code",
   "execution_count": 12,
   "metadata": {},
   "outputs": [],
   "source": [
    "\n",
    "y = (X1*B1 + X2*B2).reshape((-1,1))# + e\n",
    "\n",
    "x_coord = np.repeat(range(1,26), 25).astype(float)\n",
    "y_coord = np.tile(range(1,26), 25).astype(float)\n",
    "coords = list(zip(x_coord, y_coord))\n",
    "\n",
    "X = np.hstack([X1.reshape((-1,1)), X2.reshape((-1,1))])"
   ]
  },
  {
   "cell_type": "code",
   "execution_count": 41,
   "metadata": {},
   "outputs": [
    {
     "name": "stdout",
     "output_type": "stream",
     "text": [
      "90.0\n",
      "CPU times: user 195 ms, sys: 26.5 ms, total: 222 ms\n",
      "Wall time: 99 ms\n"
     ]
    }
   ],
   "source": [
    "%%time\n",
    "#X = (X - X.mean(axis=0)) / X.std(axis=0)\n",
    "\n",
    "#y = y.reshape((-1,1))\n",
    "\n",
    "#y = (y - y.mean(axis=0)) / y.std(axis=0)\n",
    "\n",
    "sel = Sel_BW(coords, y, X, constant=True)\n",
    "\n",
    "bw = sel.search(bw_min=90, bw_max=90)\n",
    "print(bw)\n",
    "r = GWR(coords, y, X, bw, constant=True).fit()"
   ]
  },
  {
   "cell_type": "code",
   "execution_count": 459,
   "metadata": {},
   "outputs": [
    {
     "name": "stdout",
     "output_type": "stream",
     "text": [
      "[157.0, 79.0, 48.0]\n"
     ]
    }
   ],
   "source": [
    "%%time\n",
    "selector = Sel_BW(coords, y, X, multi=True, constant=False)\n",
    "bw = selector.search()\n",
    "print(bw)\n",
    "mgwr = MGWR(coords, y, X, selector, constant=False).fit()"
   ]
  },
  {
   "cell_type": "code",
   "execution_count": 23,
   "metadata": {},
   "outputs": [
    {
     "data": {
      "text/plain": [
       "array([[ 0.09651155,  0.05896894,  0.04709691, ...,  0.        ,\n",
       "         0.        ,  0.        ],\n",
       "       [ 0.05414133,  0.04783928,  0.02618197, ...,  0.        ,\n",
       "         0.        ,  0.        ],\n",
       "       [ 0.04144657,  0.02642403,  0.03181652, ...,  0.        ,\n",
       "         0.        ,  0.        ],\n",
       "       ..., \n",
       "       [ 0.        ,  0.        ,  0.        , ...,  0.05440065,\n",
       "         0.029003  ,  0.02862351],\n",
       "       [ 0.        ,  0.        ,  0.        , ...,  0.02985973,\n",
       "         0.06279983,  0.02614492],\n",
       "       [ 0.        ,  0.        ,  0.        , ...,  0.03696039,\n",
       "         0.02955993,  0.03116913]])"
      ]
     },
     "execution_count": 23,
     "metadata": {},
     "output_type": "execute_result"
    }
   ],
   "source": [
    "selector.S"
   ]
  },
  {
   "cell_type": "code",
   "execution_count": 51,
   "metadata": {},
   "outputs": [],
   "source": [
    "RSS = results.resid_ss"
   ]
  },
  {
   "cell_type": "code",
   "execution_count": 63,
   "metadata": {},
   "outputs": [],
   "source": [
    "k = results.tr_S"
   ]
  },
  {
   "cell_type": "code",
   "execution_count": 64,
   "metadata": {},
   "outputs": [],
   "source": [
    "sigma = np.sqrt(results.sigma2_v1)"
   ]
  },
  {
   "cell_type": "code",
   "execution_count": 65,
   "metadata": {},
   "outputs": [],
   "source": [
    "trS = results.tr_S"
   ]
  },
  {
   "cell_type": "code",
   "execution_count": 66,
   "metadata": {},
   "outputs": [],
   "source": [
    "n = results.n"
   ]
  },
  {
   "cell_type": "code",
   "execution_count": 67,
   "metadata": {},
   "outputs": [
    {
     "data": {
      "text/plain": [
       "920.13922991009633"
      ]
     },
     "execution_count": 67,
     "metadata": {},
     "output_type": "execute_result"
    }
   ],
   "source": [
    "2.0*n*np.log(sigma) + n*np.log(2.0*np.pi) + n*(((n+trS)/(n-2-trS)))"
   ]
  },
  {
   "cell_type": "code",
   "execution_count": 68,
   "metadata": {},
   "outputs": [
    {
     "data": {
      "text/plain": [
       "920.13922991009633"
      ]
     },
     "execution_count": 68,
     "metadata": {},
     "output_type": "execute_result"
    }
   ],
   "source": [
    "n*np.log(((RSS)/(n-trS))) + n*np.log(2.0*np.pi) + n*(((n+trS)/(n-2-trS)))"
   ]
  },
  {
   "cell_type": "code",
   "execution_count": 70,
   "metadata": {},
   "outputs": [
    {
     "data": {
      "text/plain": [
       "774.94630879132217"
      ]
     },
     "execution_count": 70,
     "metadata": {},
     "output_type": "execute_result"
    }
   ],
   "source": [
    "-2.0*results.llf + 2.0*n*((k+1.)/(n-k-2.))"
   ]
  },
  {
   "cell_type": "code",
   "execution_count": 71,
   "metadata": {},
   "outputs": [
    {
     "data": {
      "text/plain": [
       "774.94630879132217"
      ]
     },
     "execution_count": 71,
     "metadata": {},
     "output_type": "execute_result"
    }
   ],
   "source": [
    "results.aicc"
   ]
  },
  {
   "cell_type": "code",
   "execution_count": 3,
   "metadata": {},
   "outputs": [],
   "source": [
    "import pysal\n",
    "data = pysal.open('/Users/toshan/Dropbox/dev/GWR4/georgia/GData_utm.csv')\n",
    "coords = list(zip(data.by_col('X'), data.by_col('Y')))\n",
    "y = np.array(data.by_col('PctBach')).reshape((-1,1))\n",
    "rural  = np.array(data.by_col('PctRural')).reshape((-1,1))\n",
    "pov = np.array(data.by_col('PctPov')).reshape((-1,1)) \n",
    "black = np.array(data.by_col('PctBlack')).reshape((-1,1))\n",
    "X = np.hstack([rural, pov, black])\n"
   ]
  },
  {
   "cell_type": "code",
   "execution_count": 4,
   "metadata": {},
   "outputs": [
    {
     "name": "stdout",
     "output_type": "stream",
     "text": [
      "93.0\n"
     ]
    }
   ],
   "source": [
    "sel = Sel_BW(coords, y, X, constant=False)\n",
    "\n",
    "bw = sel.search(bw_min=93, bw_max=93)\n",
    "print(bw)\n",
    "results = GWR(coords, y, X, bw, constant=False).fit()"
   ]
  },
  {
   "cell_type": "code",
   "execution_count": 9,
   "metadata": {},
   "outputs": [
    {
     "name": "stdout",
     "output_type": "stream",
     "text": [
      "[157.0, 65.0, 52.0]\n",
      "CPU times: user 15.7 s, sys: 1.74 s, total: 17.4 s\n",
      "Wall time: 5.21 s\n"
     ]
    }
   ],
   "source": [
    "%%time\n",
    "selector = Sel_BW(coords, y, X, multi=True, constant=False)\n",
    "bw = selector.search(tol_multi=1e-03)\n",
    "print(bw)\n",
    "mgwr = MGWR(coords, y, X, selector, constant=False)\n",
    "results = mgwr.fit()"
   ]
  },
  {
   "cell_type": "code",
   "execution_count": 6,
   "metadata": {},
   "outputs": [
    {
     "data": {
      "text/plain": [
       "6339.3497144025841"
      ]
     },
     "execution_count": 6,
     "metadata": {},
     "output_type": "execute_result"
    }
   ],
   "source": [
    "mgwr.resid_ss"
   ]
  },
  {
   "cell_type": "code",
   "execution_count": 414,
   "metadata": {},
   "outputs": [
    {
     "data": {
      "text/plain": [
       "896.34999516556695"
      ]
     },
     "execution_count": 414,
     "metadata": {},
     "output_type": "execute_result"
    }
   ],
   "source": [
    "results.aicc"
   ]
  },
  {
   "cell_type": "code",
   "execution_count": 415,
   "metadata": {},
   "outputs": [
    {
     "data": {
      "text/plain": [
       "(93.0, array([ 896.34999517]), [(93.0, array([ 896.34999517]))])"
      ]
     },
     "execution_count": 415,
     "metadata": {},
     "output_type": "execute_result"
    }
   ],
   "source": [
    "sel.bw"
   ]
  },
  {
   "cell_type": "code",
   "execution_count": 416,
   "metadata": {},
   "outputs": [
    {
     "data": {
      "text/plain": [
       "-431.04816087227829"
      ]
     },
     "execution_count": 416,
     "metadata": {},
     "output_type": "execute_result"
    }
   ],
   "source": [
    "results.llf"
   ]
  },
  {
   "cell_type": "code",
   "execution_count": 417,
   "metadata": {},
   "outputs": [
    {
     "data": {
      "text/plain": [
       "890.82463380420779"
      ]
     },
     "execution_count": 417,
     "metadata": {},
     "output_type": "execute_result"
    }
   ],
   "source": [
    "(results.tr_S*2.) + -2.*((-159./2)*(np.log(2.0*np.pi*results.sigma2_ML) + 1))"
   ]
  },
  {
   "cell_type": "code",
   "execution_count": 418,
   "metadata": {},
   "outputs": [
    {
     "data": {
      "text/plain": [
       "892.82463380420779"
      ]
     },
     "execution_count": 418,
     "metadata": {},
     "output_type": "execute_result"
    }
   ],
   "source": [
    "((results.tr_S+1)*2.) + -2.0*results.llf "
   ]
  },
  {
   "cell_type": "code",
   "execution_count": 419,
   "metadata": {},
   "outputs": [
    {
     "data": {
      "text/plain": [
       "890.82463380420779"
      ]
     },
     "execution_count": 419,
     "metadata": {},
     "output_type": "execute_result"
    }
   ],
   "source": [
    "((results.tr_S)*2.) + -2.0*results.llf "
   ]
  },
  {
   "cell_type": "code",
   "execution_count": 420,
   "metadata": {},
   "outputs": [
    {
     "data": {
      "text/plain": [
       "703.09632174455646"
      ]
     },
     "execution_count": 420,
     "metadata": {},
     "output_type": "execute_result"
    }
   ],
   "source": [
    "(2.*159.)*np.log(np.sqrt(results.sigma2_ML)) + 159.*np.log(2.*np.pi)"
   ]
  },
  {
   "cell_type": "code",
   "execution_count": 421,
   "metadata": {},
   "outputs": [
    {
     "data": {
      "text/plain": [
       "193.25367342101035"
      ]
     },
     "execution_count": 421,
     "metadata": {},
     "output_type": "execute_result"
    }
   ],
   "source": [
    "159.*((159. + results.tr_S) / (159.-2.-results.tr_S))"
   ]
  },
  {
   "cell_type": "code",
   "execution_count": 422,
   "metadata": {},
   "outputs": [
    {
     "data": {
      "text/plain": [
       "896.34999516556684"
      ]
     },
     "execution_count": 422,
     "metadata": {},
     "output_type": "execute_result"
    }
   ],
   "source": [
    "(2.*159.)*np.log(np.sqrt(results.sigma2_ML)) + 159.*np.log(2.*np.pi) + 159.*((159. + results.tr_S) / (159.-2.-results.tr_S))"
   ]
  },
  {
   "cell_type": "code",
   "execution_count": 423,
   "metadata": {},
   "outputs": [
    {
     "data": {
      "text/plain": [
       "-28.728312059651245"
      ]
     },
     "execution_count": 423,
     "metadata": {},
     "output_type": "execute_result"
    }
   ],
   "source": [
    "-2.*results.tr_S"
   ]
  },
  {
   "cell_type": "code",
   "execution_count": 424,
   "metadata": {},
   "outputs": [],
   "source": [
    "n = 159.\n",
    "k = results.tr_S"
   ]
  },
  {
   "cell_type": "code",
   "execution_count": 425,
   "metadata": {},
   "outputs": [
    {
     "data": {
      "text/plain": [
       "896.34999516556695"
      ]
     },
     "execution_count": 425,
     "metadata": {},
     "output_type": "execute_result"
    }
   ],
   "source": [
    "#Current GWR AICc - is literally -2 * llf + penalty \n",
    "-2.*results.llf + 2.*n*((k+1)/(n-k-2))"
   ]
  },
  {
   "cell_type": "code",
   "execution_count": 426,
   "metadata": {},
   "outputs": [
    {
     "data": {
      "text/plain": [
       "896.34999516556684"
      ]
     },
     "execution_count": 426,
     "metadata": {},
     "output_type": "execute_result"
    }
   ],
   "source": [
    "#From GWR book\n",
    "2.*n*np.log(np.sqrt(results.sigma2_ML)) + n*np.log(2.*np.pi) + n*((n+k)/(n-k-2))"
   ]
  },
  {
   "cell_type": "code",
   "execution_count": 427,
   "metadata": {},
   "outputs": [
    {
     "data": {
      "text/plain": [
       "896.34999516556684"
      ]
     },
     "execution_count": 427,
     "metadata": {},
     "output_type": "execute_result"
    }
   ],
   "source": [
    "#Just rewriting from the book\n",
    "n* (np.log(2.*np.pi*results.sigma2_ML) + ((n+k)/(n-k-2.)))"
   ]
  },
  {
   "cell_type": "code",
   "execution_count": 428,
   "metadata": {},
   "outputs": [
    {
     "data": {
      "text/plain": [
       "862.09632174455658"
      ]
     },
     "execution_count": 428,
     "metadata": {},
     "output_type": "execute_result"
    }
   ],
   "source": [
    "#From statsmodels\n",
    "-2*(-np.log(results.resid_ss)*(n/2.) - (1+np.log(np.pi/(n/2.)))*(n/2.)) "
   ]
  },
  {
   "cell_type": "code",
   "execution_count": null,
   "metadata": {},
   "outputs": [],
   "source": []
  },
  {
   "cell_type": "code",
   "execution_count": 429,
   "metadata": {},
   "outputs": [
    {
     "data": {
      "text/plain": [
       "896.34999516556695"
      ]
     },
     "execution_count": 429,
     "metadata": {},
     "output_type": "execute_result"
    }
   ],
   "source": [
    "-2*(-n/2 * np.log(2*np.pi*results.sigma2_ML) - (results.resid_ss/(2.*results.sigma2_ML))) + 2.*n*((k+1)/(n-k-2))"
   ]
  },
  {
   "cell_type": "code",
   "execution_count": 430,
   "metadata": {},
   "outputs": [
    {
     "data": {
      "text/plain": [
       "896.34999516556695"
      ]
     },
     "execution_count": 430,
     "metadata": {},
     "output_type": "execute_result"
    }
   ],
   "source": [
    "-2.*results.llf + 2.*n*((k+1)/(n-k-2))"
   ]
  },
  {
   "cell_type": "code",
   "execution_count": 431,
   "metadata": {},
   "outputs": [
    {
     "data": {
      "text/plain": [
       "896.34999516556695"
      ]
     },
     "execution_count": 431,
     "metadata": {},
     "output_type": "execute_result"
    }
   ],
   "source": [
    "-2.*results.llf + 2.*n*((k+1)/(n-k-2))"
   ]
  },
  {
   "cell_type": "code",
   "execution_count": 432,
   "metadata": {},
   "outputs": [
    {
     "data": {
      "text/plain": [
       "896.34999516556695"
      ]
     },
     "execution_count": 432,
     "metadata": {},
     "output_type": "execute_result"
    }
   ],
   "source": [
    "#based on log likelihood\n",
    "-2*(-n/2 * np.log(2*np.pi*results.sigma2_ML) - (results.resid_ss/(2.*results.sigma2_ML))) + 2.*n*((k+1)/(n-k-2))"
   ]
  },
  {
   "cell_type": "code",
   "execution_count": 433,
   "metadata": {},
   "outputs": [
    {
     "data": {
      "text/plain": [
       "896.34999516556695"
      ]
     },
     "execution_count": 433,
     "metadata": {},
     "output_type": "execute_result"
    }
   ],
   "source": [
    "n*np.log(2*np.pi*results.sigma2_ML) + n +2.*n*((k+1)/(n-k-2))"
   ]
  },
  {
   "cell_type": "code",
   "execution_count": 434,
   "metadata": {},
   "outputs": [
    {
     "data": {
      "text/plain": [
       "896.34999516556695"
      ]
     },
     "execution_count": 434,
     "metadata": {},
     "output_type": "execute_result"
    }
   ],
   "source": [
    "#from book\n",
    "n*(np.log(results.sigma2_ML*2.*np.pi)) + n*((n+k)/(n-k-2))"
   ]
  },
  {
   "cell_type": "code",
   "execution_count": 435,
   "metadata": {},
   "outputs": [
    {
     "data": {
      "text/plain": [
       "159.0"
      ]
     },
     "execution_count": 435,
     "metadata": {},
     "output_type": "execute_result"
    }
   ],
   "source": [
    "results.resid_ss / (results.sigma2_ML)"
   ]
  },
  {
   "cell_type": "code",
   "execution_count": 436,
   "metadata": {},
   "outputs": [
    {
     "data": {
      "text/plain": [
       "193.25367342101038"
      ]
     },
     "execution_count": 436,
     "metadata": {},
     "output_type": "execute_result"
    }
   ],
   "source": [
    "n +2.*n*((k+1)/(n-k-2))"
   ]
  },
  {
   "cell_type": "code",
   "execution_count": 437,
   "metadata": {},
   "outputs": [
    {
     "data": {
      "text/plain": [
       "193.25367342101035"
      ]
     },
     "execution_count": 437,
     "metadata": {},
     "output_type": "execute_result"
    }
   ],
   "source": [
    "n*((n+k)/(n-k-2))"
   ]
  },
  {
   "cell_type": "code",
   "execution_count": 438,
   "metadata": {},
   "outputs": [
    {
     "data": {
      "text/plain": [
       "477.0"
      ]
     },
     "execution_count": 438,
     "metadata": {},
     "output_type": "execute_result"
    }
   ],
   "source": [
    "n + 2*n"
   ]
  },
  {
   "cell_type": "code",
   "execution_count": 439,
   "metadata": {},
   "outputs": [
    {
     "data": {
      "text/plain": [
       "477.0"
      ]
     },
     "execution_count": 439,
     "metadata": {},
     "output_type": "execute_result"
    }
   ],
   "source": [
    "3*n"
   ]
  },
  {
   "cell_type": "code",
   "execution_count": 440,
   "metadata": {},
   "outputs": [
    {
     "ename": "SyntaxError",
     "evalue": "invalid syntax (<ipython-input-440-c9a9ca7082fc>, line 1)",
     "output_type": "error",
     "traceback": [
      "\u001b[0;36m  File \u001b[0;32m\"<ipython-input-440-c9a9ca7082fc>\"\u001b[0;36m, line \u001b[0;32m1\u001b[0m\n\u001b[0;31m    n +\u001b[0m\n\u001b[0m        ^\u001b[0m\n\u001b[0;31mSyntaxError\u001b[0m\u001b[0;31m:\u001b[0m invalid syntax\n"
     ]
    }
   ],
   "source": [
    "n + "
   ]
  },
  {
   "cell_type": "code",
   "execution_count": 441,
   "metadata": {},
   "outputs": [
    {
     "data": {
      "text/plain": [
       "193.25367342101035"
      ]
     },
     "execution_count": 441,
     "metadata": {},
     "output_type": "execute_result"
    }
   ],
   "source": [
    "n*((n+k)/(n-k-2))"
   ]
  },
  {
   "cell_type": "code",
   "execution_count": 453,
   "metadata": {},
   "outputs": [
    {
     "data": {
      "text/plain": [
       "896.34999516556695"
      ]
     },
     "execution_count": 453,
     "metadata": {},
     "output_type": "execute_result"
    }
   ],
   "source": [
    "n*np.log(2*np.pi*results.sigma2_ML) + n +2.*n*((k+1)/(n-k-2))"
   ]
  },
  {
   "cell_type": "code",
   "execution_count": 449,
   "metadata": {},
   "outputs": [
    {
     "data": {
      "text/plain": [
       "703.09632174455658"
      ]
     },
     "execution_count": 449,
     "metadata": {},
     "output_type": "execute_result"
    }
   ],
   "source": [
    "n*(np.log(results.sigma2_ML*2.*np.pi)) + n*((n+k)/(n-k-2))"
   ]
  },
  {
   "cell_type": "code",
   "execution_count": 452,
   "metadata": {},
   "outputs": [
    {
     "data": {
      "text/plain": [
       "896.34999516556695"
      ]
     },
     "execution_count": 452,
     "metadata": {},
     "output_type": "execute_result"
    }
   ],
   "source": [
    "-2.*results.llf + ((2*n*k + 2*n) / (n-k-2))"
   ]
  },
  {
   "cell_type": "code",
   "execution_count": 446,
   "metadata": {},
   "outputs": [
    {
     "data": {
      "text/plain": [
       "892.82463380420779"
      ]
     },
     "execution_count": 446,
     "metadata": {},
     "output_type": "execute_result"
    }
   ],
   "source": [
    "results.aic"
   ]
  },
  {
   "cell_type": "code",
   "execution_count": 458,
   "metadata": {},
   "outputs": [
    {
     "data": {
      "text/plain": [
       "892.82463380420779"
      ]
     },
     "execution_count": 458,
     "metadata": {},
     "output_type": "execute_result"
    }
   ],
   "source": [
    "-2.*results.llf + 2*(results.tr_S+1)"
   ]
  },
  {
   "cell_type": "code",
   "execution_count": 28,
   "metadata": {},
   "outputs": [
    {
     "data": {
      "text/plain": [
       "0.59241530913299911"
      ]
     },
     "execution_count": 28,
     "metadata": {},
     "output_type": "execute_result"
    }
   ],
   "source": [
    "results.R2"
   ]
  },
  {
   "cell_type": "code",
   "execution_count": 7,
   "metadata": {},
   "outputs": [
    {
     "ename": "AttributeError",
     "evalue": "'MGWRResults' object has no attribute 'mu'",
     "output_type": "error",
     "traceback": [
      "\u001b[0;31m------------------------------------------------------------------\u001b[0m",
      "\u001b[0;31mAttributeError\u001b[0m                   Traceback (most recent call last)",
      "\u001b[0;32m<ipython-input-7-23c174435ae2>\u001b[0m in \u001b[0;36m<module>\u001b[0;34m()\u001b[0m\n\u001b[0;32m----> 1\u001b[0;31m \u001b[0mmgwr\u001b[0m\u001b[0;34m.\u001b[0m\u001b[0mmu\u001b[0m\u001b[0;34m\u001b[0m\u001b[0m\n\u001b[0m",
      "\u001b[0;31mAttributeError\u001b[0m: 'MGWRResults' object has no attribute 'mu'"
     ]
    }
   ],
   "source": [
    "mgwr."
   ]
  },
  {
   "cell_type": "code",
   "execution_count": 11,
   "metadata": {},
   "outputs": [
    {
     "data": {
      "text/plain": [
       "gwr.gwr.MGWRResults"
      ]
     },
     "execution_count": 11,
     "metadata": {},
     "output_type": "execute_result"
    }
   ],
   "source": [
    "type(results)"
   ]
  },
  {
   "cell_type": "code",
   "execution_count": 92,
   "metadata": {},
   "outputs": [],
   "source": [
    "n,k = results.n, 3\n",
    "CCT = np.zeros((n,k))"
   ]
  },
  {
   "cell_type": "code",
   "execution_count": 97,
   "metadata": {},
   "outputs": [],
   "source": [
    "for j in range(results.R.shape[2]):\n",
    "    if j == 2:\n",
    "        break\n",
    "    CCT[:,j] = np.diag(np.dot(np.linalg.inv(np.diag(results.X[:,j])), results.R[:,:,j]))"
   ]
  },
  {
   "cell_type": "code",
   "execution_count": 98,
   "metadata": {},
   "outputs": [
    {
     "data": {
      "text/plain": [
       "(159, 3)"
      ]
     },
     "execution_count": 98,
     "metadata": {},
     "output_type": "execute_result"
    }
   ],
   "source": [
    "CCT.shape"
   ]
  },
  {
   "cell_type": "code",
   "execution_count": 90,
   "metadata": {},
   "outputs": [
    {
     "name": "stderr",
     "output_type": "stream",
     "text": [
      "//anaconda/envs/mgwr_dev3/lib/python3.4/site-packages/gwr-1.0.0-py3.4.egg/gwr/gwr.py:1432: RuntimeWarning: invalid value encountered in true_divide\n",
      "  Cj = Rj/self.X[:,j].reshape(-1,1)\n"
     ]
    },
    {
     "data": {
      "text/plain": [
       "array([[ 0.01866668,  0.12079867,  0.07117637],\n",
       "       [ 0.01874009,  0.12316715,  0.07373243],\n",
       "       [ 0.01868963,  0.12110181,  0.07200646],\n",
       "       [ 0.01892155,  0.13246171,  0.07130666],\n",
       "       [ 0.0185565 ,  0.13426986,  0.06384109],\n",
       "       [ 0.01834915,  0.1337748 ,  0.06451878],\n",
       "       [ 0.01834374,  0.13703668,  0.06338449],\n",
       "       [ 0.01834423,  0.12707594,  0.08437486],\n",
       "       [ 0.01871093,  0.12764823,  0.06911764],\n",
       "       [ 0.01877547,  0.12610838,  0.0725611 ],\n",
       "       [ 0.01862764,  0.1372353 ,  0.06473529],\n",
       "       [ 0.01864276,  0.13289804,  0.06607378],\n",
       "       [ 0.01871282,  0.12025698,  0.07167967],\n",
       "       [ 0.01884766,  0.12757296,  0.0735633 ],\n",
       "       [ 0.01863565,  0.12100236,  0.06761113],\n",
       "       [ 0.01859811,  0.12297822,  0.06602458],\n",
       "       [ 0.01857812,  0.12832632,  0.06342791],\n",
       "       [ 0.0184165 ,  0.13935182,  0.06165973],\n",
       "       [ 0.01897644,  0.13341606,  0.07115524],\n",
       "       [ 0.01872732,  0.12020919,  0.07216924],\n",
       "       [ 0.01859277,  0.12330871,  0.06572886],\n",
       "       [ 0.01837515,  0.13623914,  0.06697738],\n",
       "       [ 0.01835654,  0.12692851,  0.09083272],\n",
       "       [ 0.01874387,  0.12079062,  0.0732717 ],\n",
       "       [ 0.01864075,  0.12125255,  0.06792329],\n",
       "       [ 0.01880163,  0.13645512,  0.06931574],\n",
       "       [ 0.01835513,  0.12722108,  0.08337942],\n",
       "       [ 0.01833868,  0.1272877 ,  0.08404173],\n",
       "       [ 0.01835402,  0.13718681,  0.06203066],\n",
       "       [ 0.0190509 ,  0.13389782,  0.07109781],\n",
       "       [ 0.01836331,  0.13887143,  0.0642332 ],\n",
       "       [ 0.01877397,  0.12266118,  0.0744734 ],\n",
       "       [ 0.01834192,  0.1317782 ,  0.07473941],\n",
       "       [ 0.01871874,  0.12338095,  0.07240393],\n",
       "       [ 0.01884468,  0.12945446,  0.07217691],\n",
       "       [ 0.01848767,  0.13256165,  0.06261944],\n",
       "       [ 0.01881209,  0.12718553,  0.07311887],\n",
       "       [ 0.01838776,  0.1387415 ,  0.06441774],\n",
       "       [ 0.01864431,  0.13853817,  0.06611902],\n",
       "       [ 0.01877574,  0.13399824,  0.06992052],\n",
       "       [ 0.01836138,  0.12750109,  0.09079828],\n",
       "       [ 0.01833982,  0.12976058,  0.07980585],\n",
       "       [ 0.0189718 ,  0.13157424,  0.07183542],\n",
       "       [ 0.01834564,  0.13952878,  0.06816337],\n",
       "       [ 0.01865171,  0.12986627,  0.06664503],\n",
       "       [ 0.01876356,  0.13528237,  0.06898106],\n",
       "       [ 0.01886649,  0.13262919,  0.07115991],\n",
       "       [ 0.01835497,  0.13496548,  0.06865369],\n",
       "       [ 0.01902661,  0.13321015,  0.07141448],\n",
       "       [ 0.01880483,  0.12345188,  0.07589274],\n",
       "       [ 0.01861071,  0.12257981,  0.06623232],\n",
       "       [ 0.01837144,  0.13521765,  0.06287601],\n",
       "       [ 0.01857784,  0.12518968,  0.06524405],\n",
       "       [ 0.01861715,  0.12156075,  0.06729893],\n",
       "       [ 0.01835152,  0.127107  ,  0.08216987],\n",
       "       [ 0.01837646,  0.13841209,  0.06418792],\n",
       "       [ 0.01835273,  0.12786474,  0.07952756],\n",
       "       [ 0.01833618,  0.13197244,         nan],\n",
       "       [ 0.01835356,  0.13361917,  0.06346611],\n",
       "       [ 0.01834873,  0.1360985 ,  0.06839247],\n",
       "       [ 0.0183461 ,  0.12672135,  0.0840275 ],\n",
       "       [ 0.01852316,  0.1318806 ,  0.06312623],\n",
       "       [ 0.01870006,  0.1200219 ,  0.07176924],\n",
       "       [ 0.01834695,  0.12634031,  0.08862275],\n",
       "       [ 0.01890647,  0.13052126,  0.07202164],\n",
       "       [ 0.01840757,  0.1366693 ,  0.06293451],\n",
       "       [ 0.01833727,  0.13670043,  0.07182304],\n",
       "       [ 0.01835381,  0.13275417,  0.06743025],\n",
       "       [ 0.01834197,  0.13446361,  0.06599947],\n",
       "       [ 0.01852585,  0.13449986,  0.06331913],\n",
       "       [ 0.01836218,  0.13170687,  0.06978118],\n",
       "       [ 0.01854754,  0.13771067,  0.06711802],\n",
       "       [ 0.01835905,  0.13421942,  0.06314492],\n",
       "       [ 0.01840462,  0.13923114,  0.06512877],\n",
       "       [ 0.01837942,  0.1392497 ,  0.06282401],\n",
       "       [ 0.01870491,  0.13582889,  0.0670493 ],\n",
       "       [ 0.01873572,  0.12809833,  0.06993287],\n",
       "       [ 0.01834741,  0.13521769,  0.06330906],\n",
       "       [ 0.01841043,  0.1382832 ,  0.0620035 ],\n",
       "       [ 0.01866441,  0.12238947,  0.07159862],\n",
       "       [ 0.01856868,  0.12987067,  0.06324992],\n",
       "       [ 0.01857414,  0.12607869,  0.06419538],\n",
       "       [ 0.01857426,  0.12752637,  0.0647888 ],\n",
       "       [ 0.01855829,  0.13579128,  0.06353539],\n",
       "       [ 0.01845848,  0.13936711,  0.06279115],\n",
       "       [ 0.01878865,  0.12471271,  0.07440687],\n",
       "       [ 0.01860081,  0.12811649,  0.06600388],\n",
       "       [ 0.01884386,  0.13339365,  0.07086072],\n",
       "       [ 0.01864828,  0.12049166,  0.0685159 ],\n",
       "       [ 0.01842376,  0.13465383,  0.0625274 ],\n",
       "       [ 0.01866372,  0.12018064,  0.06955416],\n",
       "       [ 0.01881436,  0.12513003,  0.07466885],\n",
       "       [ 0.01834437,  0.12952598,  0.07573364],\n",
       "       [ 0.01848548,  0.13360476,  0.06254386],\n",
       "       [ 0.01867732,  0.12007309,  0.07020669],\n",
       "       [ 0.01880001,  0.13672599,  0.06861325],\n",
       "       [ 0.01835673,  0.13517715,  0.06296168],\n",
       "       [ 0.01879887,  0.13662471,  0.0690469 ],\n",
       "       [ 0.01844533,  0.13916964,  0.06442454],\n",
       "       [ 0.01899787,  0.13252876,  0.07166127],\n",
       "       [ 0.0188864 ,  0.13114232,  0.07162792],\n",
       "       [ 0.01849989,  0.13849216,  0.06314912],\n",
       "       [ 0.01862076,  0.12345839,  0.06879363],\n",
       "       [ 0.0183884 ,  0.13843025,  0.06231417],\n",
       "       [ 0.01835048,  0.12636577,  0.08748027],\n",
       "       [ 0.01867066,  0.13692666,  0.06873423],\n",
       "       [ 0.01836317,  0.14076288,  0.06229016],\n",
       "       [ 0.01835908,  0.13753896,  0.06235336],\n",
       "       [ 0.01837544,  0.13631392,  0.06293098],\n",
       "       [ 0.01834825,  0.13017813,  0.07641951],\n",
       "       [ 0.01873217,  0.13732426,  0.0666887 ],\n",
       "       [ 0.01834079,  0.127042  ,  0.08491762],\n",
       "       [ 0.01870312,  0.12048219,  0.07186899],\n",
       "       [ 0.01844059,  0.139443  ,  0.06352642],\n",
       "       [ 0.01835397,  0.12929667,  0.07470221],\n",
       "       [ 0.0186894 ,  0.13364401,  0.06711386],\n",
       "       [ 0.01844682,  0.13637602,  0.06324499],\n",
       "       [ 0.01897623,  0.13463289,  0.07087346],\n",
       "       [ 0.01835765,  0.13161496,  0.07023125],\n",
       "       [ 0.01900301,  0.13433857,  0.07103439],\n",
       "       [ 0.01851961,  0.13053721,  0.06280744],\n",
       "       [ 0.01835072,  0.14187005,  0.06446913],\n",
       "       [ 0.01884782,  0.1359681 ,  0.06948354],\n",
       "       [ 0.01858407,  0.12540907,  0.06416703],\n",
       "       [ 0.01902249,  0.13231809,  0.0717106 ],\n",
       "       [ 0.01840203,  0.13952088,  0.06279426],\n",
       "       [ 0.01835276,  0.13330779,  0.06466831],\n",
       "       [ 0.01894013,  0.13542285,  0.07024298],\n",
       "       [ 0.0188386 ,  0.13512301,  0.06998001],\n",
       "       [ 0.01857899,  0.13805785,  0.06684681],\n",
       "       [ 0.01845582,  0.13537004,  0.06281415],\n",
       "       [ 0.01862591,  0.12124521,  0.06812443],\n",
       "       [ 0.0186922 ,  0.13806041,  0.06753591],\n",
       "       [ 0.01867776,  0.12608312,  0.06863805],\n",
       "       [ 0.01890665,  0.1339785 ,  0.07090009],\n",
       "       [ 0.01887782,  0.12929489,  0.07266004],\n",
       "       [ 0.01878483,  0.12943705,  0.0711935 ],\n",
       "       [ 0.01861904,  0.12218725,  0.06861331],\n",
       "       [ 0.01835784,  0.13004971,         nan],\n",
       "       [ 0.01859408,  0.12490476,  0.06715913],\n",
       "       [ 0.01844467,  0.13881112,  0.06547405],\n",
       "       [ 0.01877393,  0.13193027,  0.07035916],\n",
       "       [ 0.01864223,  0.13456439,  0.06471574],\n",
       "       [ 0.01835116,  0.12922343,  0.07385124],\n",
       "       [ 0.0185256 ,  0.13894036,  0.06509747],\n",
       "       [ 0.01835574,  0.12667524,  0.09050434],\n",
       "       [ 0.01834953,  0.1401482 ,  0.0621747 ],\n",
       "       [ 0.01874143,  0.12119346,  0.07421831],\n",
       "       [ 0.01851884,  0.13322613,  0.0629404 ],\n",
       "       [ 0.0185755 ,  0.13008585,  0.06395947],\n",
       "       [ 0.01868507,  0.12007146,  0.07120272],\n",
       "       [ 0.01892438,  0.13500924,  0.07040971],\n",
       "       [ 0.01863332,  0.12544898,  0.06819601],\n",
       "       [ 0.01834968,  0.13146959,  0.07226453],\n",
       "       [ 0.01835306,  0.12634678,  0.08959316],\n",
       "       [ 0.01871735,  0.13131621,  0.0683412 ],\n",
       "       [ 0.01840785,  0.13592693,  0.06262734],\n",
       "       [ 0.01860151,  0.13235026,  0.064851  ],\n",
       "       [ 0.01883017,  0.13087124,  0.07138979]])"
      ]
     },
     "execution_count": 90,
     "metadata": {},
     "output_type": "execute_result"
    }
   ],
   "source": [
    "results.bse"
   ]
  },
  {
   "cell_type": "code",
   "execution_count": 71,
   "metadata": {},
   "outputs": [],
   "source": [
    "C = np.diag(np.dot(np.linalg.inv(np.diag(results.model.X[:,0])), results.R[:,:,0])).reshape((-1,1))"
   ]
  },
  {
   "cell_type": "code",
   "execution_count": 99,
   "metadata": {},
   "outputs": [
    {
     "data": {
      "text/plain": [
       "array([[  9.74137754e-05,   1.05542239e-03,   0.00000000e+00],\n",
       "       [  1.71508267e-04,   1.36840619e-03,   0.00000000e+00],\n",
       "       [ -1.93530921e-04,   3.79572931e-03,   0.00000000e+00],\n",
       "       [  4.07235994e-04,  -3.24014596e-03,   0.00000000e+00],\n",
       "       [ -1.71032207e-04,  -1.05767491e-03,   0.00000000e+00],\n",
       "       [  1.88251675e-04,   2.25599608e-03,   0.00000000e+00],\n",
       "       [ -8.79173491e-05,   3.72044278e-03,   0.00000000e+00],\n",
       "       [  1.80515168e-04,   1.12362410e-03,   0.00000000e+00],\n",
       "       [ -2.13623835e-04,   1.37262863e-03,   0.00000000e+00],\n",
       "       [  1.30902707e-05,   3.46448446e-03,   0.00000000e+00],\n",
       "       [ -5.39191924e-04,   1.18887834e-03,   0.00000000e+00],\n",
       "       [ -5.10910457e-05,   3.67518055e-03,   0.00000000e+00],\n",
       "       [  3.41323441e-04,   1.23943452e-03,   0.00000000e+00],\n",
       "       [  3.42626433e-05,   5.56962480e-04,   0.00000000e+00],\n",
       "       [  3.14928468e-04,   4.15931090e-05,   0.00000000e+00],\n",
       "       [ -8.21281068e-05,   3.29247214e-03,   0.00000000e+00],\n",
       "       [ -2.04600719e-05,   1.89565512e-03,   0.00000000e+00],\n",
       "       [  1.82553699e-04,  -5.28895721e-04,   0.00000000e+00],\n",
       "       [  2.26959466e-04,  -1.19459213e-03,   0.00000000e+00],\n",
       "       [  1.09710127e-04,   1.61494643e-04,   0.00000000e+00],\n",
       "       [ -1.76348349e-04,   2.13196209e-03,   0.00000000e+00],\n",
       "       [  1.35645696e-04,   2.61764678e-03,   0.00000000e+00],\n",
       "       [ -1.51081167e-05,   2.86630854e-03,   0.00000000e+00],\n",
       "       [  3.31128734e-04,  -3.28908279e-04,   0.00000000e+00],\n",
       "       [ -1.94076943e-04,   9.48033486e-04,   0.00000000e+00],\n",
       "       [ -5.75532990e-05,  -3.00595661e-03,   0.00000000e+00],\n",
       "       [  1.04495205e-04,   2.63024618e-03,   0.00000000e+00],\n",
       "       [  1.96346668e-04,   2.93129472e-04,   0.00000000e+00],\n",
       "       [ -1.05129182e-03,   1.01457316e-02,   0.00000000e+00],\n",
       "       [  1.59541586e-04,   8.00947130e-04,   0.00000000e+00],\n",
       "       [ -2.03846515e-04,   6.22701229e-04,   0.00000000e+00],\n",
       "       [ -1.05565021e-04,   2.43318203e-03,   0.00000000e+00],\n",
       "       [ -1.24613673e-04,   1.51526421e-03,   0.00000000e+00],\n",
       "       [ -7.96274038e-05,   1.71183735e-03,   0.00000000e+00],\n",
       "       [ -6.01887588e-05,   3.09765312e-03,   0.00000000e+00],\n",
       "       [  1.09521698e-04,   3.06249376e-04,   0.00000000e+00],\n",
       "       [  1.14563058e-05,   1.09772812e-03,   0.00000000e+00],\n",
       "       [  3.28839118e-04,  -2.80435379e-04,   0.00000000e+00],\n",
       "       [  6.17625233e-04,  -2.90598609e-03,   0.00000000e+00],\n",
       "       [ -4.73382890e-04,   4.39366335e-03,   0.00000000e+00],\n",
       "       [  2.25209192e-04,   2.73402708e-03,   0.00000000e+00],\n",
       "       [  2.35721351e-04,   1.53168564e-03,   0.00000000e+00],\n",
       "       [  8.44972137e-05,   5.72924413e-04,   0.00000000e+00],\n",
       "       [ -1.63497346e-04,  -1.41088857e-03,   0.00000000e+00],\n",
       "       [  1.24062657e-05,   2.45322020e-03,   0.00000000e+00],\n",
       "       [ -3.57844938e-04,   4.32012621e-03,   0.00000000e+00],\n",
       "       [ -4.22249047e-04,  -1.49621509e-03,   0.00000000e+00],\n",
       "       [  9.07495356e-06,   1.43035974e-03,   0.00000000e+00],\n",
       "       [ -1.56247350e-04,   3.07341572e-03,   0.00000000e+00],\n",
       "       [  4.31590950e-04,   1.69384511e-04,   0.00000000e+00],\n",
       "       [  4.08098345e-04,  -2.78998825e-05,   0.00000000e+00],\n",
       "       [ -3.40118720e-05,   2.40907102e-03,   0.00000000e+00],\n",
       "       [ -1.59601066e-04,   2.84086283e-03,   0.00000000e+00],\n",
       "       [  2.12472450e-04,   5.15240035e-04,   0.00000000e+00],\n",
       "       [  9.95273415e-05,   2.91186905e-03,   0.00000000e+00],\n",
       "       [  4.08456712e-04,  -1.56270867e-03,   0.00000000e+00],\n",
       "       [ -1.00739265e-04,   3.15832814e-03,   0.00000000e+00],\n",
       "       [  4.48642860e-04,  -5.70812495e-04,   0.00000000e+00],\n",
       "       [  9.71255551e-05,   2.51201984e-03,   0.00000000e+00],\n",
       "       [ -4.58857267e-04,   2.48854890e-03,   0.00000000e+00],\n",
       "       [  1.03607689e-04,   2.72514023e-03,   0.00000000e+00],\n",
       "       [  3.66241893e-04,   3.94186943e-03,   0.00000000e+00],\n",
       "       [ -8.76478818e-05,   7.44159753e-04,   0.00000000e+00],\n",
       "       [  1.65475741e-04,   1.40128476e-03,   0.00000000e+00],\n",
       "       [  4.41052980e-05,   1.35680898e-03,   0.00000000e+00],\n",
       "       [ -2.27160661e-04,   1.46970037e-03,   0.00000000e+00],\n",
       "       [ -4.22021726e-05,   1.03266178e-03,   0.00000000e+00],\n",
       "       [  2.34161903e-04,   1.02168861e-03,   0.00000000e+00],\n",
       "       [  2.21325473e-04,   9.18800410e-04,   0.00000000e+00],\n",
       "       [  6.35233127e-05,  -5.47904471e-03,   0.00000000e+00],\n",
       "       [  9.68596765e-05,   3.35420780e-03,   0.00000000e+00],\n",
       "       [  4.63224987e-04,  -4.57752718e-04,   0.00000000e+00],\n",
       "       [  1.49545870e-04,   1.13969058e-03,   0.00000000e+00],\n",
       "       [  2.50658393e-04,   4.23797154e-03,   0.00000000e+00],\n",
       "       [  5.11849823e-04,  -1.26003755e-03,   0.00000000e+00],\n",
       "       [ -8.00876860e-05,  -6.10435122e-04,   0.00000000e+00],\n",
       "       [ -2.69481967e-04,   3.83015842e-03,   0.00000000e+00],\n",
       "       [  6.03716859e-05,   2.58851761e-03,   0.00000000e+00],\n",
       "       [  3.36292478e-04,  -3.01082410e-05,   0.00000000e+00],\n",
       "       [  1.42335572e-06,   2.36754182e-03,   0.00000000e+00],\n",
       "       [  3.20522347e-05,   1.10773081e-03,   0.00000000e+00],\n",
       "       [ -1.90654787e-04,   2.42703368e-03,   0.00000000e+00],\n",
       "       [  3.05820153e-04,   6.09357684e-04,   0.00000000e+00],\n",
       "       [  5.19835438e-04,  -2.44991131e-03,   0.00000000e+00],\n",
       "       [  4.85873934e-05,   2.91003127e-04,   0.00000000e+00],\n",
       "       [  2.18405582e-04,   1.50818381e-03,   0.00000000e+00],\n",
       "       [ -1.17831682e-04,   1.16077963e-03,   0.00000000e+00],\n",
       "       [  4.35218999e-04,  -5.37446103e-04,   0.00000000e+00],\n",
       "       [ -1.07798398e-04,  -1.99992788e-04,   0.00000000e+00],\n",
       "       [  4.35392631e-04,  -1.04547991e-03,   0.00000000e+00],\n",
       "       [  2.38808152e-04,   1.20824997e-03,   0.00000000e+00],\n",
       "       [ -1.31466927e-05,   4.81045463e-04,   0.00000000e+00],\n",
       "       [ -1.31509695e-06,   3.03383142e-03,   0.00000000e+00],\n",
       "       [ -2.75364144e-05,   1.98535068e-03,   0.00000000e+00],\n",
       "       [  2.44734621e-04,  -2.73457551e-04,   0.00000000e+00],\n",
       "       [ -2.01908691e-04,  -1.78809075e-03,   0.00000000e+00],\n",
       "       [  2.06135883e-04,   2.59721661e-03,   0.00000000e+00],\n",
       "       [  2.20755568e-05,   4.20808812e-03,   0.00000000e+00],\n",
       "       [  6.41025217e-05,   1.27843623e-03,   0.00000000e+00],\n",
       "       [  3.69208361e-04,   1.49368389e-03,   0.00000000e+00],\n",
       "       [ -9.63035271e-05,   6.67747179e-04,   0.00000000e+00],\n",
       "       [  2.97408869e-04,  -1.52276142e-03,   0.00000000e+00],\n",
       "       [  1.98933734e-04,   1.33903630e-03,   0.00000000e+00],\n",
       "       [  1.73610053e-04,  -9.94577767e-04,   0.00000000e+00],\n",
       "       [  1.99152883e-04,   1.29226250e-03,   0.00000000e+00],\n",
       "       [ -4.45698988e-04,   1.25485142e-03,   0.00000000e+00],\n",
       "       [  1.29308222e-04,   2.15292360e-03,   0.00000000e+00],\n",
       "       [  5.40923855e-04,  -5.04868021e-04,   0.00000000e+00],\n",
       "       [  3.02794149e-04,   6.02303990e-04,   0.00000000e+00],\n",
       "       [  3.98262352e-04,   3.84955533e-04,   0.00000000e+00],\n",
       "       [ -1.43847830e-04,  -9.56822600e-05,   0.00000000e+00],\n",
       "       [  2.35336542e-04,   1.46150441e-03,   0.00000000e+00],\n",
       "       [  6.12646292e-05,   2.34978544e-03,   0.00000000e+00],\n",
       "       [  4.57953969e-04,   5.82922046e-04,   0.00000000e+00],\n",
       "       [  2.68117863e-05,   3.39445816e-03,   0.00000000e+00],\n",
       "       [ -2.50954103e-04,   4.00183548e-03,   0.00000000e+00],\n",
       "       [  3.18484832e-05,   5.22122756e-04,   0.00000000e+00],\n",
       "       [  1.75545668e-04,   2.55711279e-03,   0.00000000e+00],\n",
       "       [  2.54536425e-04,   1.56138251e-03,   0.00000000e+00],\n",
       "       [ -3.51507379e-04,   2.85590852e-03,   0.00000000e+00],\n",
       "       [ -2.96043453e-04,   5.14616437e-04,   0.00000000e+00],\n",
       "       [  3.00388518e-04,   1.71216846e-04,   0.00000000e+00],\n",
       "       [  4.06156052e-04,  -3.55391381e-04,   0.00000000e+00],\n",
       "       [  2.27198788e-04,  -1.06931194e-04,   0.00000000e+00],\n",
       "       [  8.21706145e-05,   3.17891142e-03,   0.00000000e+00],\n",
       "       [ -5.42212388e-05,   1.85645332e-03,   0.00000000e+00],\n",
       "       [ -7.21548587e-05,   3.24215543e-03,   0.00000000e+00],\n",
       "       [  2.18447601e-04,  -1.75724174e-03,   0.00000000e+00],\n",
       "       [ -2.35680309e-04,  -7.03176614e-04,   0.00000000e+00],\n",
       "       [  2.49670134e-04,  -4.55418808e-03,   0.00000000e+00],\n",
       "       [ -1.33261883e-04,   1.44421368e-03,   0.00000000e+00],\n",
       "       [  1.04697749e-04,   5.34680407e-04,   0.00000000e+00],\n",
       "       [ -1.28857086e-04,   5.48771098e-03,   0.00000000e+00],\n",
       "       [ -1.63230838e-04,   2.25628388e-03,   0.00000000e+00],\n",
       "       [ -1.71998601e-04,  -2.73481911e-03,   0.00000000e+00],\n",
       "       [  3.97394463e-05,   3.46336883e-04,   0.00000000e+00],\n",
       "       [ -2.05869674e-04,   3.19832211e-03,   0.00000000e+00],\n",
       "       [ -4.24620334e-04,   3.89971207e-03,   0.00000000e+00],\n",
       "       [  2.16837614e-04,   1.77219643e-03,   0.00000000e+00],\n",
       "       [ -3.79910634e-04,   3.70005274e-03,   0.00000000e+00],\n",
       "       [ -4.93589475e-05,   2.21238127e-03,   0.00000000e+00],\n",
       "       [ -5.88428205e-04,   5.17731687e-03,   0.00000000e+00],\n",
       "       [  1.75851118e-04,   1.53900127e-03,   0.00000000e+00],\n",
       "       [  6.14935633e-05,   3.31955994e-03,   0.00000000e+00],\n",
       "       [  1.20095819e-04,   3.65937582e-04,   0.00000000e+00],\n",
       "       [ -2.43903320e-05,   2.95941724e-03,   0.00000000e+00],\n",
       "       [  3.57662625e-06,   2.47619989e-03,   0.00000000e+00],\n",
       "       [ -4.24837998e-05,   1.25615003e-03,   0.00000000e+00],\n",
       "       [ -8.57862204e-05,   1.65094120e-03,   0.00000000e+00],\n",
       "       [  3.49561754e-05,  -2.66533412e-03,   0.00000000e+00],\n",
       "       [ -7.02106214e-06,   1.70218285e-03,   0.00000000e+00],\n",
       "       [  4.70844752e-04,  -4.70261528e-03,   0.00000000e+00],\n",
       "       [ -2.69757307e-05,   4.00572729e-03,   0.00000000e+00],\n",
       "       [  2.55600861e-04,   1.13581296e-03,   0.00000000e+00],\n",
       "       [  1.14826945e-04,   1.66971988e-03,   0.00000000e+00],\n",
       "       [  5.23549623e-05,   4.42256135e-03,   0.00000000e+00],\n",
       "       [ -1.46918514e-04,   1.12690970e-03,   0.00000000e+00],\n",
       "       [  6.89000982e-04,  -5.22259356e-03,   0.00000000e+00],\n",
       "       [ -9.04547357e-05,   3.66589677e-03,   0.00000000e+00]])"
      ]
     },
     "execution_count": 99,
     "metadata": {},
     "output_type": "execute_result"
    }
   ],
   "source": [
    "CCT"
   ]
  },
  {
   "cell_type": "code",
   "execution_count": 100,
   "metadata": {},
   "outputs": [
    {
     "ename": "SyntaxError",
     "evalue": "invalid syntax (<ipython-input-100-a58372fd90d5>, line 1)",
     "output_type": "error",
     "traceback": [
      "\u001b[0;36m  File \u001b[0;32m\"<ipython-input-100-a58372fd90d5>\"\u001b[0;36m, line \u001b[0;32m1\u001b[0m\n\u001b[0;31m    S_0 = np.dot(np.linalg.inv(np.diag(mgwr.model.X[:,0])), results.)\u001b[0m\n\u001b[0m                                                                    ^\u001b[0m\n\u001b[0;31mSyntaxError\u001b[0m\u001b[0;31m:\u001b[0m invalid syntax\n"
     ]
    }
   ],
   "source": [
    "S_0 = np.dot(np.linalg.inv(np.diag(mgwr.model.X[:,0])), results.)\n",
    "S_1 = np.dot(np.linalg.inv(np.diag(mgwr.model.X[:,1])), S_1)\n",
    "S_2 = np.dot(np.linalg.inv(np.diag(mgwr.model.X[:,2])), S_2)\n",
    "\n",
    "\n",
    "\n",
    "\n",
    "bse0 = np.sqrt(np.diag(np.dot(S_0, S_0.T)*sigma2)).reshape((-1,1))\n",
    "bse1 = np.sqrt(np.diag(np.dot(S_1, S_1.T)*sigma2)).reshape((-1,1))\n",
    "bse2 = np.sqrt(np.diag(np.dot(S_2, S_2.T)*sigma2)).reshape((-1,1))\n",
    "\n",
    "\n",
    "\n",
    "\n",
    "bse = np.hstack([bse0, bse1, bse2])"
   ]
  },
  {
   "cell_type": "raw",
   "metadata": {},
   "source": []
  }
 ],
 "metadata": {
  "anaconda-cloud": {},
  "kernelspec": {
   "display_name": "Python [mgwr_dev3]",
   "language": "python",
   "name": "Python [mgwr_dev3]"
  },
  "language_info": {
   "codemirror_mode": {
    "name": "ipython",
    "version": 3
   },
   "file_extension": ".py",
   "mimetype": "text/x-python",
   "name": "python",
   "nbconvert_exporter": "python",
   "pygments_lexer": "ipython3",
   "version": "3.4.5"
  }
 },
 "nbformat": 4,
 "nbformat_minor": 1
}
