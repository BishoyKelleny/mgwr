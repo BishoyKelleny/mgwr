{
 "cells": [
  {
   "cell_type": "code",
   "execution_count": 1,
   "metadata": {
    "nbpresent": {
     "id": "344fd99c-833f-40e1-9c3b-c23378f875d5"
    }
   },
   "outputs": [],
   "source": [
    "import math\n",
    "import sys,os\n",
    "import numpy as np\n",
    "import pandas as pd\n",
    "\n",
    "import pysal\n",
    "sys.path.append('/Users/Ziqi/Desktop/developer/gwr/')\n",
    "from gwr.gwr import GWR\n",
    "from gwr.sel_bw import Sel_BW\n",
    "from spglm.family import Gaussian, Poisson, Binomial\n",
    "%load_ext line_profiler"
   ]
  },
  {
   "cell_type": "markdown",
   "metadata": {},
   "source": [
    "## GA Data"
   ]
  },
  {
   "cell_type": "code",
   "execution_count": 2,
   "metadata": {
    "nbpresent": {
     "id": "78d6e7b0-dec8-49e8-8696-78603a65730e"
    }
   },
   "outputs": [],
   "source": [
    "data = pysal.open(pysal.examples.get_path('GData_utm.csv'))\n",
    "y = np.array(data.by_col('PctBach')).reshape((-1,1))\n",
    "fb  = np.array(data.by_col('PctFB')).reshape((-1,1))\n",
    "pov = np.array(data.by_col('PctPov')).reshape((-1,1)) \n",
    "blk = np.array(data.by_col('PctBlack')).reshape((-1,1))\n",
    "X = np.hstack([fb,pov,blk])\n",
    "coords = list(zip(data.by_col('X'), data.by_col('Y')))"
   ]
  },
  {
   "cell_type": "markdown",
   "metadata": {},
   "source": [
    "### Fixed Gaussian"
   ]
  },
  {
   "cell_type": "code",
   "execution_count": 3,
   "metadata": {
    "nbpresent": {
     "id": "bcfd2241-817b-4265-bdd3-16ea2e8adf26"
    }
   },
   "outputs": [
    {
     "name": "stdout",
     "output_type": "stream",
     "text": [
      "Using current fit func\n",
      "optimal bw found: 109647.51\n",
      "CPU times: user 925 ms, sys: 14.4 ms, total: 939 ms\n",
      "Wall time: 934 ms\n"
     ]
    }
   ],
   "source": [
    "%%time\n",
    "bw = Sel_BW(coords,y,X,fixed=True,kernel=\"gaussian\",Ziqi=False).search(search=\"golden_section\")\n",
    "print(\"optimal bw found:\", bw)"
   ]
  },
  {
   "cell_type": "code",
   "execution_count": 4,
   "metadata": {
    "nbpresent": {
     "id": "f1354231-cfc9-4605-8c01-149644b6e09f"
    }
   },
   "outputs": [
    {
     "name": "stdout",
     "output_type": "stream",
     "text": [
      "Using Ziqi's fast_search fit\n",
      "optimal bw found: 109647.51\n",
      "CPU times: user 155 ms, sys: 7.52 ms, total: 162 ms\n",
      "Wall time: 156 ms\n"
     ]
    }
   ],
   "source": [
    "%%time\n",
    "bw = Sel_BW(coords,y,X,fixed=True,kernel=\"gaussian\",Ziqi=True).search(search=\"golden_section\")\n",
    "print(\"optimal bw found:\", bw)"
   ]
  },
  {
   "cell_type": "code",
   "execution_count": 5,
   "metadata": {},
   "outputs": [
    {
     "name": "stdout",
     "output_type": "stream",
     "text": [
      "speed-up:  5.987179487179487 times\n"
     ]
    }
   ],
   "source": [
    "print(\"speed-up: \",934/156,\"times\")"
   ]
  },
  {
   "cell_type": "markdown",
   "metadata": {},
   "source": [
    "### Adaptive Bisquare"
   ]
  },
  {
   "cell_type": "code",
   "execution_count": 6,
   "metadata": {
    "nbpresent": {
     "id": "ad099b0a-2b54-4559-b524-82a859a37650"
    }
   },
   "outputs": [
    {
     "name": "stdout",
     "output_type": "stream",
     "text": [
      "Using current fit func\n",
      "optimal bw found: 117.0\n",
      "CPU times: user 348 ms, sys: 8.68 ms, total: 357 ms\n",
      "Wall time: 351 ms\n"
     ]
    }
   ],
   "source": [
    "%%time\n",
    "bw = Sel_BW(coords,y,X,fixed=False,kernel=\"bisquare\",Ziqi=False).search(search=\"golden_section\")\n",
    "print(\"optimal bw found:\", bw)"
   ]
  },
  {
   "cell_type": "code",
   "execution_count": 7,
   "metadata": {
    "nbpresent": {
     "id": "5559256a-bc68-44b5-b4e8-d636dbddfc32"
    }
   },
   "outputs": [
    {
     "name": "stdout",
     "output_type": "stream",
     "text": [
      "Using Ziqi's fast_search fit\n",
      "optimal bw found: 117.0\n",
      "CPU times: user 96 ms, sys: 5.8 ms, total: 102 ms\n",
      "Wall time: 99.6 ms\n"
     ]
    }
   ],
   "source": [
    "%%time\n",
    "bw = Sel_BW(coords,y,X,fixed=False,kernel=\"bisquare\",Ziqi=True).search(search=\"golden_section\")\n",
    "print(\"optimal bw found:\", bw)"
   ]
  },
  {
   "cell_type": "code",
   "execution_count": 8,
   "metadata": {},
   "outputs": [
    {
     "name": "stdout",
     "output_type": "stream",
     "text": [
      "speed-up:  3.524096385542169 times\n"
     ]
    }
   ],
   "source": [
    "print(\"speed-up: \",351/99.6,\"times\")"
   ]
  },
  {
   "cell_type": "markdown",
   "metadata": {},
   "source": [
    "## A bigger dataset: county-level"
   ]
  },
  {
   "cell_type": "code",
   "execution_count": 9,
   "metadata": {},
   "outputs": [],
   "source": [
    "#Reading the data\n",
    "df = pd.read_csv('/Users/Ziqi/Desktop/2016 Election Data/df_5k_z_add_3rd_party.csv')\n",
    "#Converting things into matrices\n",
    "y = df.z_new_pct_dem.as_matrix().reshape(-1,1)\n",
    "X = df.iloc[:,7:].as_matrix()\n",
    "k = X.shape[1]\n",
    "u = df.proj_X\n",
    "v = df.proj_Y\n",
    "n = X.shape[0]\n",
    "coords = list(zip(u,v))"
   ]
  },
  {
   "cell_type": "markdown",
   "metadata": {},
   "source": [
    "### Fixed Gaussian"
   ]
  },
  {
   "cell_type": "code",
   "execution_count": 10,
   "metadata": {},
   "outputs": [
    {
     "name": "stdout",
     "output_type": "stream",
     "text": [
      "Using current fit func\n",
      "optimal bw found: 156597.54\n",
      "CPU times: user 6min 4s, sys: 16.5 s, total: 6min 20s\n",
      "Wall time: 3min 46s\n"
     ]
    }
   ],
   "source": [
    "%%time\n",
    "bw = Sel_BW(coords,y,X,fixed=True,kernel=\"gaussian\",Ziqi=False).search(search=\"golden_section\")\n",
    "print(\"optimal bw found:\", bw)"
   ]
  },
  {
   "cell_type": "code",
   "execution_count": 11,
   "metadata": {},
   "outputs": [
    {
     "name": "stdout",
     "output_type": "stream",
     "text": [
      "Using Ziqi's fast_search fit\n",
      "optimal bw found: 156597.54\n",
      "CPU times: user 34.2 s, sys: 4.73 s, total: 38.9 s\n",
      "Wall time: 34.9 s\n"
     ]
    }
   ],
   "source": [
    "%%time\n",
    "bw = Sel_BW(coords,y,X,fixed=True,kernel=\"gaussian\",Ziqi=True).search(search=\"golden_section\")\n",
    "print(\"optimal bw found:\", bw)"
   ]
  },
  {
   "cell_type": "code",
   "execution_count": 12,
   "metadata": {},
   "outputs": [
    {
     "name": "stdout",
     "output_type": "stream",
     "text": [
      "speed-up:  6.4756446991404015 times\n"
     ]
    }
   ],
   "source": [
    "print(\"speed-up: \",226/34.9,\"times\")"
   ]
  },
  {
   "cell_type": "markdown",
   "metadata": {},
   "source": [
    "### Adaptive Bisquare"
   ]
  },
  {
   "cell_type": "code",
   "execution_count": 13,
   "metadata": {},
   "outputs": [
    {
     "name": "stdout",
     "output_type": "stream",
     "text": [
      "Using current fit func\n",
      "optimal bw found: 136.0\n",
      "CPU times: user 2min 34s, sys: 8 s, total: 2min 42s\n",
      "Wall time: 1min 41s\n"
     ]
    }
   ],
   "source": [
    "%%time\n",
    "bw = Sel_BW(coords,y,X,fixed=False,kernel=\"bisquare\",Ziqi=False).search(search=\"golden_section\")\n",
    "print(\"optimal bw found:\", bw)"
   ]
  },
  {
   "cell_type": "code",
   "execution_count": 14,
   "metadata": {},
   "outputs": [
    {
     "name": "stdout",
     "output_type": "stream",
     "text": [
      "Using Ziqi's fast_search fit\n",
      "optimal bw found: 136.0\n",
      "CPU times: user 14.1 s, sys: 1.22 s, total: 15.3 s\n",
      "Wall time: 15.2 s\n"
     ]
    }
   ],
   "source": [
    "%%time\n",
    "bw = Sel_BW(coords,y,X,fixed=False,kernel=\"bisquare\",Ziqi=True).search(search=\"golden_section\")\n",
    "print(\"optimal bw found:\", bw)"
   ]
  },
  {
   "cell_type": "code",
   "execution_count": 15,
   "metadata": {},
   "outputs": [
    {
     "name": "stdout",
     "output_type": "stream",
     "text": [
      "speed-up:  6.644736842105264 times\n"
     ]
    }
   ],
   "source": [
    "print(\"speed-up: \",101/15.2,\"times\")"
   ]
  },
  {
   "cell_type": "code",
   "execution_count": null,
   "metadata": {},
   "outputs": [],
   "source": []
  },
  {
   "cell_type": "code",
   "execution_count": null,
   "metadata": {},
   "outputs": [
    {
     "name": "stdout",
     "output_type": "stream",
     "text": [
      "Using current fit func\n"
     ]
    }
   ],
   "source": [
    "%lprun -f GWR.fit Sel_BW(coords,y,X,fixed=True,kernel=\"gaussian\",Ziqi=False).search(search=\"golden_section\")"
   ]
  },
  {
   "cell_type": "code",
   "execution_count": 20,
   "metadata": {},
   "outputs": [
    {
     "name": "stdout",
     "output_type": "stream",
     "text": [
      "Using Ziqi's fast_search fit\n",
      "*** KeyboardInterrupt exception caught in code being profiled."
     ]
    }
   ],
   "source": [
    "%lprun -f GWR._fast_search Sel_BW(coords,y,X,fixed=True,kernel=\"gaussian\",Ziqi=True).search(search=\"golden_section\")"
   ]
  },
  {
   "cell_type": "code",
   "execution_count": null,
   "metadata": {},
   "outputs": [],
   "source": []
  }
 ],
 "metadata": {
  "anaconda-cloud": {},
  "kernelspec": {
   "display_name": "Python [conda root]",
   "language": "python",
   "name": "conda-root-py"
  },
  "language_info": {
   "codemirror_mode": {
    "name": "ipython",
    "version": 3
   },
   "file_extension": ".py",
   "mimetype": "text/x-python",
   "name": "python",
   "nbconvert_exporter": "python",
   "pygments_lexer": "ipython3",
   "version": "3.5.4"
  }
 },
 "nbformat": 4,
 "nbformat_minor": 1
}
