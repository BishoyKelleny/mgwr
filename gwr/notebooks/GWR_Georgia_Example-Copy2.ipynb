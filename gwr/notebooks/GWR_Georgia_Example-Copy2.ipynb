{
 "cells": [
  {
   "cell_type": "code",
   "execution_count": 1,
   "metadata": {
    "collapsed": false
   },
   "outputs": [
    {
     "name": "stdout",
     "output_type": "stream",
     "text": [
      "Populating the interactive namespace from numpy and matplotlib\n"
     ]
    }
   ],
   "source": [
    "import numpy as np\n",
    "import scipy as sp\n",
    "import pandas as pd\n",
    "import geopandas as gp\n",
    "import pysal as ps\n",
    "import matplotlib\n",
    "import matplotlib.pyplot as plt\n",
    "%pylab inline\n",
    "from gwr.sel_bw import Sel_BW\n",
    "from gwr.gwr import GWR\n",
    "from spglm.family import Gaussian"
   ]
  },
  {
   "cell_type": "code",
   "execution_count": null,
   "metadata": {
    "collapsed": true
   },
   "outputs": [],
   "source": []
  },
  {
   "cell_type": "code",
   "execution_count": 2,
   "metadata": {
    "collapsed": false
   },
   "outputs": [],
   "source": [
    "#Data\n",
    "\n",
    "data = ps.open(ps.examples.get_path('GData_utm.csv'))\n",
    "shp = gp.read_file('/Users/toshan/dev/pysal/pysal/examples/georgia/G_utm.shp')\n",
    "\n",
    "\n",
    "# Prep data into design matrix and coordinates\n",
    "\n",
    "y = np.array(data.by_col['PctBach']).reshape((-1,1))\n",
    "pov = np.array(data.by_col['PctPov']).reshape((-1,1))\n",
    "rural = np.array(data.by_col['PctRural']).reshape((-1,1))\n",
    "black = np.array(data.by_col['PctBlack']).reshape((-1,1))\n",
    "X = np.hstack([pov, rural, black])\n",
    "\n",
    "\n",
    "#Coordinates for calibration points\n",
    "u = data.by_col['X']\n",
    "v = data.by_col['Y']\n",
    "coords = zip(u,v)"
   ]
  },
  {
   "cell_type": "code",
   "execution_count": 3,
   "metadata": {
    "collapsed": false
   },
   "outputs": [
    {
     "name": "stdout",
     "output_type": "stream",
     "text": [
      "93.0\n"
     ]
    }
   ],
   "source": [
    "#Find optimal bandwidth using golden section search to minimize AICc\n",
    "\n",
    "#Instantiate bandwidth selection class - bisquare NN (adaptive)\n",
    "bw = Sel_BW(coords, y, X, kernel='bisquare', fixed=False)\n",
    "\n",
    "#Find optimal bandwidth by minimizing AICc using golden section search algorithm\n",
    "bw = bw.search(search='golden_section', criterion='AICc')\n",
    "print bw"
   ]
  },
  {
   "cell_type": "code",
   "execution_count": null,
   "metadata": {
    "collapsed": true
   },
   "outputs": [],
   "source": []
  },
  {
   "cell_type": "code",
   "execution_count": 4,
   "metadata": {
    "collapsed": false
   },
   "outputs": [],
   "source": [
    "#Instantiate GWR model and then estimate parameters and diagnostics using fit method\n",
    "model = GWR(coords, y, X, 93, family=Gaussian(), fixed=False, kernel='bisquare')\n",
    "results = model.fit()"
   ]
  },
  {
   "cell_type": "code",
   "execution_count": 96,
   "metadata": {
    "collapsed": false
   },
   "outputs": [
    {
     "name": "stdout",
     "output_type": "stream",
     "text": [
      "4\n",
      "(159, 6)\n"
     ]
    }
   ],
   "source": [
    "def corr(cov):\n",
    "    sd = np.diag(np.sqrt(np.diag(cov)))\n",
    "    try:\n",
    "        invsd = np.linalg.inv(sd)\n",
    "        cors = np.dot(np.dot(invsd, cov), invsd)\n",
    "    except:\n",
    "        cors = np.zeros((sd.shape))\n",
    "    return cors\n",
    "\n",
    "def local_MC(gwr):\n",
    "    x = gwr.X\n",
    "    w = gwr.W \n",
    "    nvar = x.shape[1]\n",
    "    print nvar\n",
    "    nrow = len(w)\n",
    "    if nvar > 3:\n",
    "        corr_mat = np.ndarray((nrow, int(sp.special.factorial(nvar-1))))\n",
    "    else:\n",
    "        corr_mat = np.ndarray((nrow, nvar))\n",
    "    print corr_mat.shape\n",
    "    if gwr.model.constant:\n",
    "        vifs_mat = np.ndarray((nrow, nvar-1))\n",
    "    else: \n",
    "        vifs_mat = np.ndarray((nrow, nvar))\n",
    "    vdp_idx = np.ndarray((nrow, nvar))\n",
    "    vdp_pi = np.ndarray((nrow, nvar, nvar))\n",
    "\n",
    "    for i in range(nrow):\n",
    "        wi = w[i]\n",
    "        sw = np.sum(wi)\n",
    "        wi = wi/sw\n",
    "        tag = 0\n",
    "        for j in range(nvar-1):\n",
    "            for k in range(j+1, nvar):\n",
    "                #print j,k\n",
    "                corr_mat[i, tag] = corr(np.cov(x[:,j], x[:, k], aweights=wi))[0][1]\n",
    "                tag = tag + 1\n",
    "        if gwr.model.constant:\n",
    "            corr_mati = corr(np.cov(x[:,1:].T, aweights=wi))\n",
    "            vifs_mat[i,] = np.diag(np.linalg.solve(corr_mati, np.identity((nvar-1))))\n",
    "\n",
    "        else:\n",
    "            corr_mati = corr(np.cov(x.T, aweights=wi))\n",
    "            vifs_mat[i,] = np.diag(np.linalg.solve(corr_mati, np.identity((nvar))))\n",
    "        xw = x * wi.reshape((nrow,1))\n",
    "        sxw = np.sqrt(np.sum(xw**2, axis=0))\n",
    "        sxw = np.transpose(xw.T / sxw.reshape((nvar,1))) \n",
    "        svdx = np.linalg.svd(sxw)    \n",
    "        vdp_idx[i,] = svdx[1][0]/svdx[1]\n",
    "\n",
    "        phi = np.dot(svdx[2].T, np.diag(1/svdx[1]))\n",
    "\n",
    "        phi = np.transpose(phi**2)\n",
    "        pi_ij = phi / np.sum(phi, axis=0)\n",
    "        vdp_pi[i,:,:] = pi_ij\n",
    "    local_CN = vdp_idx[:, nvar-1]\n",
    "    VDP = vdp_pi[:,nvar-1,:]\n",
    "    return corr_mat, vifs_mat, local_CN, VDP\n",
    "    \n",
    "a, b, c, d = local_MC(results)"
   ]
  },
  {
   "cell_type": "code",
   "execution_count": 94,
   "metadata": {
    "collapsed": false
   },
   "outputs": [
    {
     "data": {
      "text/plain": [
       "array([[1.43813463, 1.08723815, 1.39045659],\n",
       "       [1.56773558, 1.08332428, 1.58317025],\n",
       "       [1.44499911, 1.09091733, 1.42425801],\n",
       "       [1.91099558, 1.05029384, 1.84397695],\n",
       "       [2.45049987, 1.08611463, 2.3423565 ]])"
      ]
     },
     "execution_count": 94,
     "metadata": {},
     "output_type": "execute_result"
    }
   ],
   "source": [
    "b[0:5]"
   ]
  },
  {
   "cell_type": "code",
   "execution_count": 97,
   "metadata": {
    "collapsed": false
   },
   "outputs": [
    {
     "data": {
      "text/plain": [
       "array([[1.43813463, 1.08723815, 1.39045659],\n",
       "       [1.56773558, 1.08332428, 1.58317025],\n",
       "       [1.44499911, 1.09091733, 1.42425801],\n",
       "       [1.91099558, 1.05029384, 1.84397695],\n",
       "       [2.45049987, 1.08611463, 2.3423565 ]])"
      ]
     },
     "execution_count": 97,
     "metadata": {},
     "output_type": "execute_result"
    }
   ],
   "source": [
    "b[0:5]"
   ]
  },
  {
   "cell_type": "code",
   "execution_count": 5,
   "metadata": {
    "collapsed": false
   },
   "outputs": [
    {
     "ename": "NameError",
     "evalue": "global name 'gwr' is not defined",
     "output_type": "error",
     "traceback": [
      "\u001b[0;31m---------------------------------------------------------------------------\u001b[0m",
      "\u001b[0;31mNameError\u001b[0m                                 Traceback (most recent call last)",
      "\u001b[0;32m<ipython-input-5-e3af688a1468>\u001b[0m in \u001b[0;36m<module>\u001b[0;34m()\u001b[0m\n\u001b[0;32m----> 1\u001b[0;31m \u001b[0mresults\u001b[0m\u001b[0;34m.\u001b[0m\u001b[0mlocal_collinearity\u001b[0m\u001b[0;34m(\u001b[0m\u001b[0;34m)\u001b[0m\u001b[0;34m\u001b[0m\u001b[0m\n\u001b[0m",
      "\u001b[0;32m//anaconda/envs/gwr_local_mc/lib/python2.7/site-packages/spglm-1.0.1-py2.7.egg/spglm/utils.pyc\u001b[0m in \u001b[0;36m__get__\u001b[0;34m(self, obj, type)\u001b[0m\n\u001b[1;32m    367\u001b[0m         \u001b[0;32mif\u001b[0m \u001b[0m_cachedval\u001b[0m \u001b[0;32mis\u001b[0m \u001b[0mNone\u001b[0m\u001b[0;34m:\u001b[0m\u001b[0;34m\u001b[0m\u001b[0m\n\u001b[1;32m    368\u001b[0m             \u001b[0;31m# Call the \"fget\" function\u001b[0m\u001b[0;34m\u001b[0m\u001b[0;34m\u001b[0m\u001b[0m\n\u001b[0;32m--> 369\u001b[0;31m             \u001b[0m_cachedval\u001b[0m \u001b[0;34m=\u001b[0m \u001b[0mself\u001b[0m\u001b[0;34m.\u001b[0m\u001b[0mfget\u001b[0m\u001b[0;34m(\u001b[0m\u001b[0mobj\u001b[0m\u001b[0;34m)\u001b[0m\u001b[0;34m\u001b[0m\u001b[0m\n\u001b[0m\u001b[1;32m    370\u001b[0m             \u001b[0;31m# Set the attribute in obj\u001b[0m\u001b[0;34m\u001b[0m\u001b[0;34m\u001b[0m\u001b[0m\n\u001b[1;32m    371\u001b[0m             \u001b[0;31m# print(\"Setting %s in cache to %s\" % (name, _cachedval))\u001b[0m\u001b[0;34m\u001b[0m\u001b[0;34m\u001b[0m\u001b[0m\n",
      "\u001b[0;32m//anaconda/envs/gwr_local_mc/lib/python2.7/site-packages/gwr-1.0.0-py2.7.egg/gwr/gwr.pyc\u001b[0m in \u001b[0;36mlocal_collinearity\u001b[0;34m(self)\u001b[0m\n\u001b[1;32m    881\u001b[0m     \u001b[0;34m@\u001b[0m\u001b[0mcache_readonly\u001b[0m\u001b[0;34m\u001b[0m\u001b[0m\n\u001b[1;32m    882\u001b[0m     \u001b[0;32mdef\u001b[0m \u001b[0mlocal_collinearity\u001b[0m\u001b[0;34m(\u001b[0m\u001b[0mself\u001b[0m\u001b[0;34m)\u001b[0m\u001b[0;34m:\u001b[0m\u001b[0;34m\u001b[0m\u001b[0m\n\u001b[0;32m--> 883\u001b[0;31m         \u001b[0mx\u001b[0m \u001b[0;34m=\u001b[0m \u001b[0mgwr\u001b[0m\u001b[0;34m.\u001b[0m\u001b[0mX\u001b[0m\u001b[0;34m\u001b[0m\u001b[0m\n\u001b[0m\u001b[1;32m    884\u001b[0m         \u001b[0mw\u001b[0m \u001b[0;34m=\u001b[0m \u001b[0mgwr\u001b[0m\u001b[0;34m.\u001b[0m\u001b[0mW\u001b[0m\u001b[0;34m\u001b[0m\u001b[0m\n\u001b[1;32m    885\u001b[0m         \u001b[0mnvar\u001b[0m \u001b[0;34m=\u001b[0m \u001b[0mx\u001b[0m\u001b[0;34m.\u001b[0m\u001b[0mshape\u001b[0m\u001b[0;34m[\u001b[0m\u001b[0;36m1\u001b[0m\u001b[0;34m]\u001b[0m\u001b[0;34m\u001b[0m\u001b[0m\n",
      "\u001b[0;31mNameError\u001b[0m: global name 'gwr' is not defined"
     ]
    }
   ],
   "source": [
    "results.local_collinearity()"
   ]
  },
  {
   "cell_type": "code",
   "execution_count": 247,
   "metadata": {
    "collapsed": false
   },
   "outputs": [
    {
     "name": "stdout",
     "output_type": "stream",
     "text": [
      "-0.6651485730332158\n",
      "-0.15337212082835333\n",
      "0.1638505688372199\n",
      "0.3755214471538651\n",
      "-0.05501956725183264\n",
      "0.21024044463298272\n"
     ]
    }
   ],
   "source": [
    "print np.mean(a[:, 0])\n",
    "\n",
    "print np.mean(a[:, 1])\n",
    "\n",
    "print np.mean(a[:, 2])\n",
    "\n",
    "print np.mean(a[:, 3])\n",
    "\n",
    "print np.mean(a[:, 4])\n",
    "\n",
    "print np.mean(a[:, 5])"
   ]
  },
  {
   "cell_type": "code",
   "execution_count": 195,
   "metadata": {
    "collapsed": false
   },
   "outputs": [
    {
     "data": {
      "text/plain": [
       "array(2.)"
      ]
     },
     "execution_count": 195,
     "metadata": {},
     "output_type": "execute_result"
    }
   ],
   "source": [
    "sp.special.factorial(2)"
   ]
  },
  {
   "cell_type": "code",
   "execution_count": null,
   "metadata": {
    "collapsed": true
   },
   "outputs": [],
   "source": [
    "inc = np.array(data.by_col['INC']).reshape((-1,1))\n",
    "crime = np.array(data.by_col['CRIME']).reshape((-1,1))\n",
    "plumb = np.array(data.by_col['PLUMB']).reshape((-1,1))\n",
    "op = np.array(data.by_col['OPEN']).reshape((-1,1))\n"
   ]
  }
 ],
 "metadata": {
  "anaconda-cloud": {},
  "kernelspec": {
   "display_name": "Python [gwr_local_mc]",
   "language": "python",
   "name": "Python [gwr_local_mc]"
  },
  "language_info": {
   "codemirror_mode": {
    "name": "ipython",
    "version": 2
   },
   "file_extension": ".py",
   "mimetype": "text/x-python",
   "name": "python",
   "nbconvert_exporter": "python",
   "pygments_lexer": "ipython2",
   "version": "2.7.13"
  }
 },
 "nbformat": 4,
 "nbformat_minor": 0
}
