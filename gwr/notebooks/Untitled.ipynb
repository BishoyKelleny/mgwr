{
 "cells": [
  {
   "cell_type": "code",
   "execution_count": 198,
   "metadata": {},
   "outputs": [],
   "source": [
    "import pysal as ps\n",
    "import numpy as np\n",
    "import scipy as sp\n",
    "from gwr.sel_bw import Sel_BW\n",
    "from gwr.gwr import GWR, MGWR\n",
    "import pandas as pd\n",
    "import statsmodels.formula.api as smf\n",
    "import statsmodels as sm\n",
    "import statsmodels.genmod.families as fam\n",
    "from statsmodels.tools import add_constant"
   ]
  },
  {
   "cell_type": "code",
   "execution_count": 195,
   "metadata": {},
   "outputs": [],
   "source": [
    "import pysal\n",
    "data = pysal.open('/Users/toshan/Dropbox/dev/GWR4/georgia/GData_utm.csv')\n",
    "coords = list(zip(data.by_col('X'), data.by_col('Y')))\n",
    "y = np.array(data.by_col('PctBach')).reshape((-1,1))\n",
    "rural  = np.array(data.by_col('PctRural')).reshape((-1,1))\n",
    "pov = np.array(data.by_col('PctPov')).reshape((-1,1)) \n",
    "black = np.array(data.by_col('PctBlack')).reshape((-1,1))\n",
    "fb = np.array(data.by_col('PctFB')).reshape((-1,1))\n",
    "pop = np.array(data.by_col('TotPop90')).reshape((-1,1))\n",
    "\n",
    "\n",
    "X = np.hstack([pov, black, rural])\n"
   ]
  },
  {
   "cell_type": "code",
   "execution_count": 241,
   "metadata": {},
   "outputs": [
    {
     "name": "stdout",
     "output_type": "stream",
     "text": [
      "93.0\n",
      "896.349995166\n"
     ]
    }
   ],
   "source": [
    "\n",
    "#X = (X - X.mean(axis=0)) / X.std(axis=0)\n",
    "\n",
    "#y = y.reshape((-1,1))\n",
    "\n",
    "#y = (y - y.mean(axis=0)) / y.std(axis=0)\n",
    "\n",
    "sel = Sel_BW(coords, y, X)\n",
    "\n",
    "bw = sel.search()\n",
    "print(bw)\n",
    "r = GWR(coords, y, X, bw, sigma2_v1=False).fit()\n",
    "print(r.aicc)"
   ]
  },
  {
   "cell_type": "code",
   "execution_count": 50,
   "metadata": {},
   "outputs": [
    {
     "name": "stdout",
     "output_type": "stream",
     "text": [
      "[101.0, 101.0, 117.0, 157.0]\n",
      "CPU times: user 11 s, sys: 1.36 s, total: 12.4 s\n",
      "Wall time: 3.71 s\n"
     ]
    }
   ],
   "source": [
    "%%time\n",
    "\n",
    "X = (X - X.mean(axis=0)) / X.std(axis=0)\n",
    "\n",
    "y = y.reshape((-1,1))\n",
    "\n",
    "y = (y - y.mean(axis=0)) / y.std(axis=0)\n",
    "\n",
    "selector = Sel_BW(coords, y, X, multi=True, constant=True)\n",
    "bw = selector.search()\n",
    "print(bw)\n",
    "mgwr = MGWR(coords, y, X, selector, constant=True)\n",
    "results = mgwr.fit()"
   ]
  },
  {
   "cell_type": "code",
   "execution_count": 35,
   "metadata": {},
   "outputs": [
    {
     "data": {
      "text/plain": [
       "[101.0, 101.0, 117.0, 157.0]"
      ]
     },
     "execution_count": 35,
     "metadata": {},
     "output_type": "execute_result"
    }
   ],
   "source": [
    "selector.bw[0]"
   ]
  },
  {
   "cell_type": "code",
   "execution_count": 46,
   "metadata": {},
   "outputs": [
    {
     "data": {
      "text/plain": [
       "297.0704149757866"
      ]
     },
     "execution_count": 46,
     "metadata": {},
     "output_type": "execute_result"
    }
   ],
   "source": [
    "results.aicc"
   ]
  },
  {
   "cell_type": "code",
   "execution_count": 231,
   "metadata": {},
   "outputs": [
    {
     "name": "stdout",
     "output_type": "stream",
     "text": [
      "4.07443284306\n"
     ]
    }
   ],
   "source": [
    "a = smf.OLS(y, add_constant(X)).fit()\n",
    "print(np.sqrt(np.sum((y.reshape((-1,1))-a.fittedvalues.reshape((-1,1)))**2)/159.))"
   ]
  },
  {
   "cell_type": "code",
   "execution_count": 180,
   "metadata": {},
   "outputs": [
    {
     "name": "stdout",
     "output_type": "stream",
     "text": [
      "19.656232000000003\n"
     ]
    }
   ],
   "source": [
    "#From GWR4\n",
    "#-2 log-likelihood:                 860.818394\n",
    "#Classic AIC:                       892.668583\n",
    "#AICc:                              896.462831\n",
    "#ENP (model: trace(S)):                    14.925095\n",
    "#ENP (variance: trace(S'S)):               10.193958\n",
    "print(2*14.925095-10.193958)\n",
    "#ML based sigma estimate:             3.625664 uses ML\n",
    "#Unbiased sigma estimate:             3.872954 Uses v1v2"
   ]
  },
  {
   "cell_type": "code",
   "execution_count": 236,
   "metadata": {},
   "outputs": [
    {
     "name": "stdout",
     "output_type": "stream",
     "text": [
      "3.64026400314\n",
      "3.87817175155\n"
     ]
    }
   ],
   "source": [
    "#From GWmodel\n",
    "#ML based global sigma estimate:             4.074433\n",
    "#Unbiased global sigma estimate:             4.126671\n",
    "\n",
    "#ML based sigma\n",
    "print(np.sqrt(2106.992 /n))\n",
    "\n",
    "#v1 based sigma - cant be computed, they don't report v1 (tr(S))\n",
    "#print(np.sqrt(2106.992 /(n - ))) #v1\n",
    "\n",
    "#v1v2 based sigma\n",
    "print(np.sqrt(2106.992 /(n - 18.90946))) #2v1-v2"
   ]
  },
  {
   "cell_type": "code",
   "execution_count": 184,
   "metadata": {},
   "outputs": [
    {
     "name": "stdout",
     "output_type": "stream",
     "text": [
      "892.824633804\n",
      "896.349995166\n",
      "862.096321745\n",
      "14.3641560298\n",
      "9.81885125674\n",
      "14.3641560298\n",
      "18.9094608029\n",
      "3.64026393728\n",
      "3.81674783937\n",
      "3.8781716925\n"
     ]
    }
   ],
   "source": [
    "print(r.aic)\n",
    "print(r.aicc)\n",
    "print(-2.*r.llf)\n",
    "print(r.tr_S)\n",
    "print(r.tr_STS)\n",
    "print(np.trace(r.S))\n",
    "print(2*r.tr_S-r.tr_STS)\n",
    "print(np.sqrt(r.sigma2_ML))\n",
    "print(np.sqrt(r.sigma2_v1))\n",
    "print(np.sqrt(r.sigma2_v1v2))\n"
   ]
  },
  {
   "cell_type": "code",
   "execution_count": 242,
   "metadata": {},
   "outputs": [
    {
     "name": "stdout",
     "output_type": "stream",
     "text": [
      "[[ 2.38331137  0.114245    0.04766552  0.02088569]\n",
      " [ 2.54225379  0.12005911  0.05011427  0.02142718]\n",
      " [ 2.50507065  0.11746268  0.04973781  0.02129682]\n",
      " [ 2.21030762  0.10716526  0.05123175  0.02045047]\n",
      " [ 1.74025983  0.10495731  0.04951642  0.01964252]]\n"
     ]
    }
   ],
   "source": [
    "print(r.bse[0:5])"
   ]
  },
  {
   "cell_type": "code",
   "execution_count": 160,
   "metadata": {},
   "outputs": [],
   "source": [
    "\n",
    "n = 159.\n",
    "k = r.tr_S"
   ]
  },
  {
   "cell_type": "code",
   "execution_count": 171,
   "metadata": {},
   "outputs": [
    {
     "data": {
      "text/plain": [
       "896.3499951655665"
      ]
     },
     "execution_count": 171,
     "metadata": {},
     "output_type": "execute_result"
    }
   ],
   "source": [
    "#Current GWR AICc - is literally -2 * llf + penalty \n",
    "-2.*r.llf + 2.*n*((k+1)/(n-k-2))"
   ]
  },
  {
   "cell_type": "code",
   "execution_count": 167,
   "metadata": {},
   "outputs": [
    {
     "data": {
      "text/plain": [
       "896.34999516556672"
      ]
     },
     "execution_count": 167,
     "metadata": {},
     "output_type": "execute_result"
    }
   ],
   "source": [
    "#From GWR book\n",
    "2.*n*np.log(np.sqrt(r.sigma2_ML)) + n*np.log(2.*np.pi) + n*((n+k)/(n-k-2))"
   ]
  },
  {
   "cell_type": "code",
   "execution_count": 164,
   "metadata": {},
   "outputs": [
    {
     "data": {
      "text/plain": [
       "896.34999516556684"
      ]
     },
     "execution_count": 164,
     "metadata": {},
     "output_type": "execute_result"
    }
   ],
   "source": [
    "#Just rewriting from the book\n",
    "n* (np.log(2.*np.pi*r.sigma2_ML) + ((n+k)/(n-k-2.)))"
   ]
  },
  {
   "cell_type": "code",
   "execution_count": 100,
   "metadata": {},
   "outputs": [
    {
     "data": {
      "text/plain": [
       "269.81329106257772"
      ]
     },
     "execution_count": 100,
     "metadata": {},
     "output_type": "execute_result"
    }
   ],
   "source": [
    "#From statsmodels\n",
    "-2*(-np.log(results.resid_ss)*(n/2.) - (1+np.log(np.pi/(n/2.)))*(n/2.)) "
   ]
  },
  {
   "cell_type": "code",
   "execution_count": null,
   "metadata": {},
   "outputs": [],
   "source": []
  },
  {
   "cell_type": "code",
   "execution_count": 101,
   "metadata": {},
   "outputs": [
    {
     "data": {
      "text/plain": [
       "297.0704149757866"
      ]
     },
     "execution_count": 101,
     "metadata": {},
     "output_type": "execute_result"
    }
   ],
   "source": [
    "-2*(-n/2 * np.log(2*np.pi*results.sigma2_ML) - (results.resid_ss/(2.*results.sigma2_ML))) + 2.*n*((k+1)/(n-k-2))"
   ]
  },
  {
   "cell_type": "code",
   "execution_count": 102,
   "metadata": {},
   "outputs": [
    {
     "data": {
      "text/plain": [
       "297.0704149757866"
      ]
     },
     "execution_count": 102,
     "metadata": {},
     "output_type": "execute_result"
    }
   ],
   "source": [
    "-2.*results.llf + 2.*n*((k+1)/(n-k-2))"
   ]
  },
  {
   "cell_type": "code",
   "execution_count": 103,
   "metadata": {},
   "outputs": [
    {
     "data": {
      "text/plain": [
       "297.0704149757866"
      ]
     },
     "execution_count": 103,
     "metadata": {},
     "output_type": "execute_result"
    }
   ],
   "source": [
    "-2.*results.llf + 2.*n*((k+1)/(n-k-2))"
   ]
  },
  {
   "cell_type": "code",
   "execution_count": 104,
   "metadata": {},
   "outputs": [
    {
     "data": {
      "text/plain": [
       "297.0704149757866"
      ]
     },
     "execution_count": 104,
     "metadata": {},
     "output_type": "execute_result"
    }
   ],
   "source": [
    "#based on log likelihood\n",
    "-2*(-n/2 * np.log(2*np.pi*results.sigma2_ML) - (results.resid_ss/(2.*results.sigma2_ML))) + 2.*n*((k+1)/(n-k-2))"
   ]
  },
  {
   "cell_type": "code",
   "execution_count": 94,
   "metadata": {},
   "outputs": [
    {
     "data": {
      "text/plain": [
       "27006.297617050568"
      ]
     },
     "execution_count": 94,
     "metadata": {},
     "output_type": "execute_result"
    }
   ],
   "source": [
    "n*np.log(2*np.pi*results.sigma2_ML) + n +2.*n*((k+1)/(n-k-2))"
   ]
  },
  {
   "cell_type": "code",
   "execution_count": 95,
   "metadata": {},
   "outputs": [
    {
     "data": {
      "text/plain": [
       "27006.297617050568"
      ]
     },
     "execution_count": 95,
     "metadata": {},
     "output_type": "execute_result"
    }
   ],
   "source": [
    "#llf\n",
    "n*np.log(2*np.pi*results.sigma2_ML) + n +2.*n*((k+1)/(n-k-2))\n",
    "#book\n",
    "n*(np.log(results.sigma2_ML*2.*np.pi)) + n*((n+k)/(n-k-2))"
   ]
  },
  {
   "cell_type": "code",
   "execution_count": 67,
   "metadata": {},
   "outputs": [
    {
     "data": {
      "text/plain": [
       "159.0"
      ]
     },
     "execution_count": 67,
     "metadata": {},
     "output_type": "execute_result"
    }
   ],
   "source": [
    "results.resid_ss / (results.sigma2_ML)"
   ]
  },
  {
   "cell_type": "code",
   "execution_count": 68,
   "metadata": {},
   "outputs": [
    {
     "data": {
      "text/plain": [
       "186.25712391320889"
      ]
     },
     "execution_count": 68,
     "metadata": {},
     "output_type": "execute_result"
    }
   ],
   "source": [
    "n +2.*n*((k+1)/(n-k-2))"
   ]
  },
  {
   "cell_type": "code",
   "execution_count": 69,
   "metadata": {},
   "outputs": [
    {
     "data": {
      "text/plain": [
       "186.25712391320889"
      ]
     },
     "execution_count": 69,
     "metadata": {},
     "output_type": "execute_result"
    }
   ],
   "source": [
    "n*((n+k)/(n-k-2))"
   ]
  },
  {
   "cell_type": "code",
   "execution_count": 92,
   "metadata": {},
   "outputs": [
    {
     "data": {
      "text/plain": [
       "11250.329106257774"
      ]
     },
     "execution_count": 92,
     "metadata": {},
     "output_type": "execute_result"
    }
   ],
   "source": [
    "-2.*results.llf + 2*(4+1)"
   ]
  },
  {
   "cell_type": "code",
   "execution_count": 74,
   "metadata": {},
   "outputs": [
    {
     "data": {
      "text/plain": [
       "4"
      ]
     },
     "execution_count": 74,
     "metadata": {},
     "output_type": "execute_result"
    }
   ],
   "source": [
    "results.k"
   ]
  },
  {
   "cell_type": "code",
   "execution_count": 440,
   "metadata": {},
   "outputs": [
    {
     "ename": "SyntaxError",
     "evalue": "invalid syntax (<ipython-input-440-c9a9ca7082fc>, line 1)",
     "output_type": "error",
     "traceback": [
      "\u001b[0;36m  File \u001b[0;32m\"<ipython-input-440-c9a9ca7082fc>\"\u001b[0;36m, line \u001b[0;32m1\u001b[0m\n\u001b[0;31m    n +\u001b[0m\n\u001b[0m        ^\u001b[0m\n\u001b[0;31mSyntaxError\u001b[0m\u001b[0;31m:\u001b[0m invalid syntax\n"
     ]
    }
   ],
   "source": [
    "n + "
   ]
  },
  {
   "cell_type": "code",
   "execution_count": 441,
   "metadata": {},
   "outputs": [
    {
     "data": {
      "text/plain": [
       "193.25367342101035"
      ]
     },
     "execution_count": 441,
     "metadata": {},
     "output_type": "execute_result"
    }
   ],
   "source": [
    "n*((n+k)/(n-k-2))"
   ]
  },
  {
   "cell_type": "code",
   "execution_count": 453,
   "metadata": {},
   "outputs": [
    {
     "data": {
      "text/plain": [
       "896.34999516556695"
      ]
     },
     "execution_count": 453,
     "metadata": {},
     "output_type": "execute_result"
    }
   ],
   "source": [
    "n*np.log(2*np.pi*results.sigma2_ML) + n +2.*n*((k+1)/(n-k-2))"
   ]
  },
  {
   "cell_type": "code",
   "execution_count": 449,
   "metadata": {},
   "outputs": [
    {
     "data": {
      "text/plain": [
       "703.09632174455658"
      ]
     },
     "execution_count": 449,
     "metadata": {},
     "output_type": "execute_result"
    }
   ],
   "source": [
    "n*(np.log(results.sigma2_ML*2.*np.pi)) + n*((n+k)/(n-k-2))"
   ]
  },
  {
   "cell_type": "code",
   "execution_count": 7,
   "metadata": {},
   "outputs": [
    {
     "ename": "NameError",
     "evalue": "name 'results' is not defined",
     "output_type": "error",
     "traceback": [
      "\u001b[0;31m------------------------------------------------------------------\u001b[0m",
      "\u001b[0;31mNameError\u001b[0m                        Traceback (most recent call last)",
      "\u001b[0;32m<ipython-input-7-da3bb3af9430>\u001b[0m in \u001b[0;36m<module>\u001b[0;34m()\u001b[0m\n\u001b[0;32m----> 1\u001b[0;31m \u001b[0;34m-\u001b[0m\u001b[0;36m2.\u001b[0m\u001b[0;34m*\u001b[0m\u001b[0mresults\u001b[0m\u001b[0;34m.\u001b[0m\u001b[0mllf\u001b[0m \u001b[0;34m+\u001b[0m \u001b[0;34m(\u001b[0m\u001b[0;34m(\u001b[0m\u001b[0;36m2\u001b[0m\u001b[0;34m*\u001b[0m\u001b[0mn\u001b[0m\u001b[0;34m*\u001b[0m\u001b[0mk\u001b[0m \u001b[0;34m+\u001b[0m \u001b[0;36m2\u001b[0m\u001b[0;34m*\u001b[0m\u001b[0mn\u001b[0m\u001b[0;34m)\u001b[0m \u001b[0;34m/\u001b[0m \u001b[0;34m(\u001b[0m\u001b[0mn\u001b[0m\u001b[0;34m-\u001b[0m\u001b[0mk\u001b[0m\u001b[0;34m-\u001b[0m\u001b[0;36m2\u001b[0m\u001b[0;34m)\u001b[0m\u001b[0;34m)\u001b[0m\u001b[0;34m\u001b[0m\u001b[0m\n\u001b[0m",
      "\u001b[0;31mNameError\u001b[0m: name 'results' is not defined"
     ]
    }
   ],
   "source": [
    "-2.*results.llf + ((2*n*k + 2*n) / (n-k-2))"
   ]
  },
  {
   "cell_type": "code",
   "execution_count": 446,
   "metadata": {},
   "outputs": [
    {
     "data": {
      "text/plain": [
       "892.82463380420779"
      ]
     },
     "execution_count": 446,
     "metadata": {},
     "output_type": "execute_result"
    }
   ],
   "source": [
    "results.aic"
   ]
  },
  {
   "cell_type": "code",
   "execution_count": 458,
   "metadata": {},
   "outputs": [
    {
     "data": {
      "text/plain": [
       "892.82463380420779"
      ]
     },
     "execution_count": 458,
     "metadata": {},
     "output_type": "execute_result"
    }
   ],
   "source": [
    "-2.*results.llf + 2*(results.tr_S+1)"
   ]
  },
  {
   "cell_type": "code",
   "execution_count": 28,
   "metadata": {},
   "outputs": [
    {
     "data": {
      "text/plain": [
       "0.59241530913299911"
      ]
     },
     "execution_count": 28,
     "metadata": {},
     "output_type": "execute_result"
    }
   ],
   "source": [
    "results.R2"
   ]
  },
  {
   "cell_type": "code",
   "execution_count": 7,
   "metadata": {},
   "outputs": [
    {
     "ename": "AttributeError",
     "evalue": "'MGWRResults' object has no attribute 'mu'",
     "output_type": "error",
     "traceback": [
      "\u001b[0;31m------------------------------------------------------------------\u001b[0m",
      "\u001b[0;31mAttributeError\u001b[0m                   Traceback (most recent call last)",
      "\u001b[0;32m<ipython-input-7-23c174435ae2>\u001b[0m in \u001b[0;36m<module>\u001b[0;34m()\u001b[0m\n\u001b[0;32m----> 1\u001b[0;31m \u001b[0mmgwr\u001b[0m\u001b[0;34m.\u001b[0m\u001b[0mmu\u001b[0m\u001b[0;34m\u001b[0m\u001b[0m\n\u001b[0m",
      "\u001b[0;31mAttributeError\u001b[0m: 'MGWRResults' object has no attribute 'mu'"
     ]
    }
   ],
   "source": [
    "mgwr."
   ]
  },
  {
   "cell_type": "code",
   "execution_count": 11,
   "metadata": {},
   "outputs": [
    {
     "data": {
      "text/plain": [
       "gwr.gwr.MGWRResults"
      ]
     },
     "execution_count": 11,
     "metadata": {},
     "output_type": "execute_result"
    }
   ],
   "source": [
    "type(results)"
   ]
  },
  {
   "cell_type": "code",
   "execution_count": 12,
   "metadata": {},
   "outputs": [],
   "source": [
    "n,k = results.n, 4\n",
    "CCT = np.zeros((n,k))"
   ]
  },
  {
   "cell_type": "code",
   "execution_count": 13,
   "metadata": {},
   "outputs": [],
   "source": [
    "for j in range(results.R.shape[2]):\n",
    "\n",
    "    C = np.dot(np.linalg.inv(np.diag(results.model.X[:,j])), results.R[:,:,j])\n",
    "    CCT[:,j] = np.diag(np.dot(C,C.T))"
   ]
  },
  {
   "cell_type": "code",
   "execution_count": 14,
   "metadata": {},
   "outputs": [
    {
     "data": {
      "text/plain": [
       "(159, 4)"
      ]
     },
     "execution_count": 14,
     "metadata": {},
     "output_type": "execute_result"
    }
   ],
   "source": [
    "CCT.shape"
   ]
  },
  {
   "cell_type": "code",
   "execution_count": 15,
   "metadata": {},
   "outputs": [
    {
     "data": {
      "text/plain": [
       "array([[ 0.,  0.,  0.,  0.],\n",
       "       [ 0.,  0.,  0.,  0.],\n",
       "       [ 0.,  0.,  0.,  0.],\n",
       "       [ 0.,  0.,  0.,  0.],\n",
       "       [ 0.,  0.,  0.,  0.],\n",
       "       [ 0.,  0.,  0.,  0.],\n",
       "       [ 0.,  0.,  0.,  0.],\n",
       "       [ 0.,  0.,  0.,  0.],\n",
       "       [ 0.,  0.,  0.,  0.],\n",
       "       [ 0.,  0.,  0.,  0.],\n",
       "       [ 0.,  0.,  0.,  0.],\n",
       "       [ 0.,  0.,  0.,  0.],\n",
       "       [ 0.,  0.,  0.,  0.],\n",
       "       [ 0.,  0.,  0.,  0.],\n",
       "       [ 0.,  0.,  0.,  0.],\n",
       "       [ 0.,  0.,  0.,  0.],\n",
       "       [ 0.,  0.,  0.,  0.],\n",
       "       [ 0.,  0.,  0.,  0.],\n",
       "       [ 0.,  0.,  0.,  0.],\n",
       "       [ 0.,  0.,  0.,  0.],\n",
       "       [ 0.,  0.,  0.,  0.],\n",
       "       [ 0.,  0.,  0.,  0.],\n",
       "       [ 0.,  0.,  0.,  0.],\n",
       "       [ 0.,  0.,  0.,  0.],\n",
       "       [ 0.,  0.,  0.,  0.],\n",
       "       [ 0.,  0.,  0.,  0.],\n",
       "       [ 0.,  0.,  0.,  0.],\n",
       "       [ 0.,  0.,  0.,  0.],\n",
       "       [ 0.,  0.,  0.,  0.],\n",
       "       [ 0.,  0.,  0.,  0.],\n",
       "       [ 0.,  0.,  0.,  0.],\n",
       "       [ 0.,  0.,  0.,  0.],\n",
       "       [ 0.,  0.,  0.,  0.],\n",
       "       [ 0.,  0.,  0.,  0.],\n",
       "       [ 0.,  0.,  0.,  0.],\n",
       "       [ 0.,  0.,  0.,  0.],\n",
       "       [ 0.,  0.,  0.,  0.],\n",
       "       [ 0.,  0.,  0.,  0.],\n",
       "       [ 0.,  0.,  0.,  0.],\n",
       "       [ 0.,  0.,  0.,  0.],\n",
       "       [ 0.,  0.,  0.,  0.],\n",
       "       [ 0.,  0.,  0.,  0.],\n",
       "       [ 0.,  0.,  0.,  0.],\n",
       "       [ 0.,  0.,  0.,  0.],\n",
       "       [ 0.,  0.,  0.,  0.],\n",
       "       [ 0.,  0.,  0.,  0.],\n",
       "       [ 0.,  0.,  0.,  0.],\n",
       "       [ 0.,  0.,  0.,  0.],\n",
       "       [ 0.,  0.,  0.,  0.],\n",
       "       [ 0.,  0.,  0.,  0.],\n",
       "       [ 0.,  0.,  0.,  0.],\n",
       "       [ 0.,  0.,  0.,  0.],\n",
       "       [ 0.,  0.,  0.,  0.],\n",
       "       [ 0.,  0.,  0.,  0.],\n",
       "       [ 0.,  0.,  0.,  0.],\n",
       "       [ 0.,  0.,  0.,  0.],\n",
       "       [ 0.,  0.,  0.,  0.],\n",
       "       [ 0.,  0.,  0.,  0.],\n",
       "       [ 0.,  0.,  0.,  0.],\n",
       "       [ 0.,  0.,  0.,  0.],\n",
       "       [ 0.,  0.,  0.,  0.],\n",
       "       [ 0.,  0.,  0.,  0.],\n",
       "       [ 0.,  0.,  0.,  0.],\n",
       "       [ 0.,  0.,  0.,  0.],\n",
       "       [ 0.,  0.,  0.,  0.],\n",
       "       [ 0.,  0.,  0.,  0.],\n",
       "       [ 0.,  0.,  0.,  0.],\n",
       "       [ 0.,  0.,  0.,  0.],\n",
       "       [ 0.,  0.,  0.,  0.],\n",
       "       [ 0.,  0.,  0.,  0.],\n",
       "       [ 0.,  0.,  0.,  0.],\n",
       "       [ 0.,  0.,  0.,  0.],\n",
       "       [ 0.,  0.,  0.,  0.],\n",
       "       [ 0.,  0.,  0.,  0.],\n",
       "       [ 0.,  0.,  0.,  0.],\n",
       "       [ 0.,  0.,  0.,  0.],\n",
       "       [ 0.,  0.,  0.,  0.],\n",
       "       [ 0.,  0.,  0.,  0.],\n",
       "       [ 0.,  0.,  0.,  0.],\n",
       "       [ 0.,  0.,  0.,  0.],\n",
       "       [ 0.,  0.,  0.,  0.],\n",
       "       [ 0.,  0.,  0.,  0.],\n",
       "       [ 0.,  0.,  0.,  0.],\n",
       "       [ 0.,  0.,  0.,  0.],\n",
       "       [ 0.,  0.,  0.,  0.],\n",
       "       [ 0.,  0.,  0.,  0.],\n",
       "       [ 0.,  0.,  0.,  0.],\n",
       "       [ 0.,  0.,  0.,  0.],\n",
       "       [ 0.,  0.,  0.,  0.],\n",
       "       [ 0.,  0.,  0.,  0.],\n",
       "       [ 0.,  0.,  0.,  0.],\n",
       "       [ 0.,  0.,  0.,  0.],\n",
       "       [ 0.,  0.,  0.,  0.],\n",
       "       [ 0.,  0.,  0.,  0.],\n",
       "       [ 0.,  0.,  0.,  0.],\n",
       "       [ 0.,  0.,  0.,  0.],\n",
       "       [ 0.,  0.,  0.,  0.],\n",
       "       [ 0.,  0.,  0.,  0.],\n",
       "       [ 0.,  0.,  0.,  0.],\n",
       "       [ 0.,  0.,  0.,  0.],\n",
       "       [ 0.,  0.,  0.,  0.],\n",
       "       [ 0.,  0.,  0.,  0.],\n",
       "       [ 0.,  0.,  0.,  0.],\n",
       "       [ 0.,  0.,  0.,  0.],\n",
       "       [ 0.,  0.,  0.,  0.],\n",
       "       [ 0.,  0.,  0.,  0.],\n",
       "       [ 0.,  0.,  0.,  0.],\n",
       "       [ 0.,  0.,  0.,  0.],\n",
       "       [ 0.,  0.,  0.,  0.],\n",
       "       [ 0.,  0.,  0.,  0.],\n",
       "       [ 0.,  0.,  0.,  0.],\n",
       "       [ 0.,  0.,  0.,  0.],\n",
       "       [ 0.,  0.,  0.,  0.],\n",
       "       [ 0.,  0.,  0.,  0.],\n",
       "       [ 0.,  0.,  0.,  0.],\n",
       "       [ 0.,  0.,  0.,  0.],\n",
       "       [ 0.,  0.,  0.,  0.],\n",
       "       [ 0.,  0.,  0.,  0.],\n",
       "       [ 0.,  0.,  0.,  0.],\n",
       "       [ 0.,  0.,  0.,  0.],\n",
       "       [ 0.,  0.,  0.,  0.],\n",
       "       [ 0.,  0.,  0.,  0.],\n",
       "       [ 0.,  0.,  0.,  0.],\n",
       "       [ 0.,  0.,  0.,  0.],\n",
       "       [ 0.,  0.,  0.,  0.],\n",
       "       [ 0.,  0.,  0.,  0.],\n",
       "       [ 0.,  0.,  0.,  0.],\n",
       "       [ 0.,  0.,  0.,  0.],\n",
       "       [ 0.,  0.,  0.,  0.],\n",
       "       [ 0.,  0.,  0.,  0.],\n",
       "       [ 0.,  0.,  0.,  0.],\n",
       "       [ 0.,  0.,  0.,  0.],\n",
       "       [ 0.,  0.,  0.,  0.],\n",
       "       [ 0.,  0.,  0.,  0.],\n",
       "       [ 0.,  0.,  0.,  0.],\n",
       "       [ 0.,  0.,  0.,  0.],\n",
       "       [ 0.,  0.,  0.,  0.],\n",
       "       [ 0.,  0.,  0.,  0.],\n",
       "       [ 0.,  0.,  0.,  0.],\n",
       "       [ 0.,  0.,  0.,  0.],\n",
       "       [ 0.,  0.,  0.,  0.],\n",
       "       [ 0.,  0.,  0.,  0.],\n",
       "       [ 0.,  0.,  0.,  0.],\n",
       "       [ 0.,  0.,  0.,  0.],\n",
       "       [ 0.,  0.,  0.,  0.],\n",
       "       [ 0.,  0.,  0.,  0.],\n",
       "       [ 0.,  0.,  0.,  0.],\n",
       "       [ 0.,  0.,  0.,  0.],\n",
       "       [ 0.,  0.,  0.,  0.],\n",
       "       [ 0.,  0.,  0.,  0.],\n",
       "       [ 0.,  0.,  0.,  0.],\n",
       "       [ 0.,  0.,  0.,  0.],\n",
       "       [ 0.,  0.,  0.,  0.],\n",
       "       [ 0.,  0.,  0.,  0.],\n",
       "       [ 0.,  0.,  0.,  0.],\n",
       "       [ 0.,  0.,  0.,  0.],\n",
       "       [ 0.,  0.,  0.,  0.],\n",
       "       [ 0.,  0.,  0.,  0.],\n",
       "       [ 0.,  0.,  0.,  0.]])"
      ]
     },
     "execution_count": 15,
     "metadata": {},
     "output_type": "execute_result"
    }
   ],
   "source": [
    "np.sqrt(CCT*results.sigma2_v1)"
   ]
  },
  {
   "cell_type": "code",
   "execution_count": 157,
   "metadata": {},
   "outputs": [],
   "source": [
    "C0 = np.dot(np.linalg.inv(np.diag(results.model.X[:,0])), results.R[:,:,0])\n",
    "C1 = np.dot(np.linalg.inv(np.diag(results.model.X[:,1])), results.R[:,:,1])\n",
    "C2 = np.dot(np.linalg.inv(np.diag(results.model.X[:,2])), results.R[:,:,2])\n",
    "C3 = np.dot(np.linalg.inv(np.diag(results.model.X[:,3])), results.R[:,:,3])\n",
    "\n",
    "\n",
    "sigma2 = results.sigma2_v1\n",
    "\n",
    "\n",
    "bse0 = np.sqrt(np.diag(np.dot(C0, C0.T)*sigma2)).reshape((-1,1))\n",
    "bse1 = np.sqrt(np.diag(np.dot(C1, C1.T)*sigma2)).reshape((-1,1))\n",
    "bse2 = np.sqrt(np.diag(np.dot(C2, C2.T)*sigma2)).reshape((-1,1))\n",
    "bse3 = np.sqrt(np.diag(np.dot(C3, C3.T)*sigma2)).reshape((-1,1))\n",
    "\n",
    "\n",
    "\n",
    "\n",
    "bse = np.hstack([bse0, bse1, bse2, bse3])"
   ]
  },
  {
   "cell_type": "code",
   "execution_count": 158,
   "metadata": {},
   "outputs": [
    {
     "data": {
      "text/plain": [
       "array([[ 0.07665169,  0.10936918,  0.06988981,  0.06163678],\n",
       "       [ 0.07845054,  0.09683867,  0.06937882,  0.06172297],\n",
       "       [ 0.07705403,  0.11049481,  0.06925705,  0.06161956],\n",
       "       [ 0.08150328,  0.08015845,  0.07779232,  0.06554729],\n",
       "       [ 0.07989354,  0.08052692,  0.07126017,  0.06660044],\n",
       "       [ 0.07712909,  0.07827973,  0.06025873,  0.06641665],\n",
       "       [ 0.0771068 ,  0.07836167,  0.06002917,  0.06622345],\n",
       "       [ 0.07624666,  0.07627269,  0.05874826,  0.06623631],\n",
       "       [ 0.08240539,  0.10654023,  0.06886561,  0.06164584],\n",
       "       [ 0.0791478 ,  0.08602031,  0.07035505,  0.0619705 ],\n",
       "       [ 0.0828697 ,  0.07599296,  0.0690824 ,  0.06637866],\n",
       "       [ 0.08433025,  0.10017878,  0.07121151,  0.06302227],\n",
       "       [ 0.07899741,  0.11366543,  0.07143428,  0.0621857 ],\n",
       "       [ 0.08020327,  0.08206745,  0.07251739,  0.06275246],\n",
       "       [ 0.08008347,  0.11132913,  0.0752955 ,  0.06284956],\n",
       "       [ 0.08086542,  0.10852503,  0.07686972,  0.06292096],\n",
       "       [ 0.08191242,  0.10323129,  0.0758465 ,  0.06475862],\n",
       "       [ 0.08301159,  0.0771218 ,  0.06385777,  0.06562018],\n",
       "       [ 0.08198877,  0.07919276,  0.07800793,  0.066536  ],\n",
       "       [ 0.0802928 ,  0.11390358,  0.07229137,  0.06256423],\n",
       "       [ 0.07884077,  0.10770634,  0.07520349,  0.06241484],\n",
       "       [ 0.0831459 ,  0.07443592,  0.05868061,  0.06550795],\n",
       "       [ 0.07684981,  0.07637721,  0.0593284 ,  0.06686573],\n",
       "       [ 0.08009128,  0.10679449,  0.07065812,  0.06221112],\n",
       "       [ 0.08206662,  0.11262605,  0.07783956,  0.06349909],\n",
       "       [ 0.08215672,  0.07660228,  0.07415412,  0.06745555],\n",
       "       [ 0.07801487,  0.07546629,  0.05907048,  0.06636885],\n",
       "       [ 0.07470556,  0.07626309,  0.05889887,  0.06635024],\n",
       "       [ 0.08099879,  0.07910238,  0.06134414,  0.06618241],\n",
       "       [ 0.08215907,  0.07860918,  0.07836822,  0.06760554],\n",
       "       [ 0.08259138,  0.07738564,  0.05978167,  0.06550728],\n",
       "       [ 0.07861958,  0.09343705,  0.07047889,  0.06205646],\n",
       "       [ 0.07611344,  0.0765092 ,  0.05867187,  0.06589807],\n",
       "       [ 0.07944037,  0.10329137,  0.06873648,  0.06158293],\n",
       "       [ 0.08075865,  0.08060713,  0.07304767,  0.06298029],\n",
       "       [ 0.08201202,  0.08937326,  0.07203824,  0.06514645],\n",
       "       [ 0.07934779,  0.08282014,  0.07138568,  0.06235997],\n",
       "       [ 0.08406528,  0.07545912,  0.05967549,  0.06537077],\n",
       "       [ 0.08366517,  0.0754187 ,  0.06944341,  0.06654349],\n",
       "       [ 0.08209565,  0.08469554,  0.07266991,  0.06328619],\n",
       "       [ 0.07817865,  0.07579299,  0.05940497,  0.06671498],\n",
       "       [ 0.07500723,  0.07769297,  0.05925317,  0.06661327],\n",
       "       [ 0.08342099,  0.08230392,  0.07814968,  0.0654181 ],\n",
       "       [ 0.07920605,  0.07728753,  0.05925737,  0.0657824 ],\n",
       "       [ 0.08437357,  0.11298163,  0.06904239,  0.0619161 ],\n",
       "       [ 0.08472924,  0.08650868,  0.07293202,  0.06412894],\n",
       "       [ 0.08060477,  0.07957173,  0.07597111,  0.06492116],\n",
       "       [ 0.07915786,  0.07561049,  0.05874454,  0.06562087],\n",
       "       [ 0.08280009,  0.08028887,  0.07915093,  0.06678114],\n",
       "       [ 0.07881119,  0.08727822,  0.07117929,  0.06229496],\n",
       "       [ 0.08088473,  0.10997658,  0.07790956,  0.06350419],\n",
       "       [ 0.08344678,  0.07991388,  0.06272768,  0.06599786],\n",
       "       [ 0.07952525,  0.10595143,  0.07498407,  0.06260457],\n",
       "       [ 0.07849083,  0.10924251,  0.07365857,  0.0623009 ],\n",
       "       [ 0.07526585,  0.07755223,  0.05964879,  0.06704764],\n",
       "       [ 0.08438179,  0.0768004 ,  0.05979512,  0.06540211],\n",
       "       [ 0.07784904,  0.07513878,  0.05885928,  0.06615111],\n",
       "       [ 0.07515209,  0.07777025,  0.05919846,  0.06645383],\n",
       "       [ 0.07954559,  0.07866456,  0.0608091 ,  0.0664165 ],\n",
       "       [ 0.07929962,  0.07688425,  0.05894471,  0.06566905],\n",
       "       [ 0.07482956,  0.07692778,  0.05948162,  0.066927  ],\n",
       "       [ 0.07952434,  0.08915328,  0.07367433,  0.06564492],\n",
       "       [ 0.0805772 ,  0.11516704,  0.07219321,  0.06265006],\n",
       "       [ 0.07608628,  0.07634748,  0.05890835,  0.06653303],\n",
       "       [ 0.08306029,  0.0819721 ,  0.07590132,  0.06442124],\n",
       "       [ 0.08089482,  0.07932294,  0.06559459,  0.0663342 ],\n",
       "       [ 0.07661081,  0.07807028,  0.0592946 ,  0.06620106],\n",
       "       [ 0.0765734 ,  0.07819453,  0.06017734,  0.06666381],\n",
       "       [ 0.07517136,  0.07763049,  0.05965615,  0.06645059],\n",
       "       [ 0.07900027,  0.08066296,  0.07008316,  0.06641569],\n",
       "       [ 0.07927083,  0.07436925,  0.05836652,  0.0657189 ],\n",
       "       [ 0.08370384,  0.07693315,  0.0690048 ,  0.06566061],\n",
       "       [ 0.08175642,  0.07951781,  0.06167988,  0.06630396],\n",
       "       [ 0.08386216,  0.07467548,  0.05999094,  0.06539858],\n",
       "       [ 0.08264124,  0.07773924,  0.06108575,  0.06550402],\n",
       "       [ 0.08433413,  0.08709698,  0.07174154,  0.06425248],\n",
       "       [ 0.08119657,  0.09468738,  0.06951642,  0.06178782],\n",
       "       [ 0.07745431,  0.0784665 ,  0.06016796,  0.0662836 ],\n",
       "       [ 0.08145686,  0.07920497,  0.06393202,  0.06604949],\n",
       "       [ 0.07752817,  0.10891985,  0.06879382,  0.06145128],\n",
       "       [ 0.08012367,  0.094393  ,  0.07505391,  0.0647827 ],\n",
       "       [ 0.08104755,  0.10745996,  0.07689366,  0.06371171],\n",
       "       [ 0.07891504,  0.10578573,  0.0746937 ,  0.06285432],\n",
       "       [ 0.08418724,  0.07716322,  0.06887208,  0.06684179],\n",
       "       [ 0.0833549 ,  0.07549239,  0.06552563,  0.06550425],\n",
       "       [ 0.07913018,  0.08715436,  0.07069056,  0.06206537],\n",
       "       [ 0.07968603,  0.11208198,  0.07109683,  0.06215098],\n",
       "       [ 0.08004672,  0.08007241,  0.07528698,  0.06492986],\n",
       "       [ 0.07938416,  0.11095042,  0.07362561,  0.0626048 ],\n",
       "       [ 0.08366441,  0.08255988,  0.06753361,  0.06526307],\n",
       "       [ 0.07913229,  0.11169899,  0.07287602,  0.0623959 ],\n",
       "       [ 0.07911448,  0.08421505,  0.07132743,  0.06230495],\n",
       "       [ 0.07502027,  0.07757456,  0.05954592,  0.06671259],\n",
       "       [ 0.08132754,  0.08511739,  0.07052281,  0.06538738],\n",
       "       [ 0.08017436,  0.11371145,  0.0739481 ,  0.06274344],\n",
       "       [ 0.08504428,  0.083248  ,  0.07245507,  0.06641597],\n",
       "       [ 0.08097845,  0.07890754,  0.06139951,  0.06628384],\n",
       "       [ 0.08171362,  0.07870972,  0.07281109,  0.06744452],\n",
       "       [ 0.08416107,  0.07496441,  0.06368915,  0.06534877],\n",
       "       [ 0.08252273,  0.08121678,  0.0785916 ,  0.06614319],\n",
       "       [ 0.08158189,  0.08096931,  0.07568721,  0.06448174],\n",
       "       [ 0.08313357,  0.07581887,  0.06622216,  0.06586   ],\n",
       "       [ 0.07790751,  0.10640053,  0.07010218,  0.06157694],\n",
       "       [ 0.08153445,  0.07918035,  0.06333981,  0.0661649 ],\n",
       "       [ 0.07549319,  0.07639485,  0.05949527,  0.06691462],\n",
       "       [ 0.08185325,  0.07730138,  0.0724891 ,  0.06647918],\n",
       "       [ 0.08151459,  0.07951017,  0.06122031,  0.06592483],\n",
       "       [ 0.08079389,  0.07923581,  0.06165864,  0.0661481 ],\n",
       "       [ 0.08197633,  0.0791948 ,  0.06347074,  0.06616067],\n",
       "       [ 0.07717528,  0.07572506,  0.05867408,  0.06586644],\n",
       "       [ 0.08455175,  0.07824423,  0.07062011,  0.06621124],\n",
       "       [ 0.07485731,  0.0765279 ,  0.05927114,  0.06656762],\n",
       "       [ 0.07782405,  0.11210979,  0.07034144,  0.06187796],\n",
       "       [ 0.08404247,  0.07525705,  0.06438276,  0.06536649],\n",
       "       [ 0.07825461,  0.07487642,  0.05850817,  0.06592258],\n",
       "       [ 0.08537604,  0.0994582 ,  0.07016232,  0.0626094 ],\n",
       "       [ 0.08061788,  0.07929871,  0.0673584 ,  0.06624212],\n",
       "       [ 0.08211687,  0.07685986,  0.0767236 ,  0.06848081],\n",
       "       [ 0.07698903,  0.07815661,  0.06028183,  0.06693654],\n",
       "       [ 0.08164082,  0.07760405,  0.07697173,  0.06757125],\n",
       "       [ 0.08263787,  0.09494952,  0.07411907,  0.06539958],\n",
       "       [ 0.08161082,  0.07849053,  0.05990818,  0.06584996],\n",
       "       [ 0.08177106,  0.07940789,  0.07368728,  0.06731218],\n",
       "       [ 0.08202814,  0.10889862,  0.07743133,  0.0641989 ],\n",
       "       [ 0.08319482,  0.08268262,  0.07886901,  0.06614694],\n",
       "       [ 0.08381733,  0.07634279,  0.06211046,  0.06539853],\n",
       "       [ 0.07890557,  0.07861581,  0.0605797 ,  0.06656479],\n",
       "       [ 0.08029215,  0.07656839,  0.07567289,  0.06865828],\n",
       "       [ 0.0811249 ,  0.08041254,  0.07515685,  0.06618458],\n",
       "       [ 0.08389436,  0.07658287,  0.07073036,  0.06571553],\n",
       "       [ 0.08007341,  0.08046647,  0.06765937,  0.06585418],\n",
       "       [ 0.07732566,  0.10863406,  0.07226365,  0.06194802],\n",
       "       [ 0.08356026,  0.07818413,  0.07118885,  0.06643162],\n",
       "       [ 0.08065934,  0.11432982,  0.06796186,  0.06145783],\n",
       "       [ 0.08097271,  0.07841775,  0.07701725,  0.06652876],\n",
       "       [ 0.08068627,  0.08151942,  0.07411007,  0.06347386],\n",
       "       [ 0.08125474,  0.08320126,  0.07085152,  0.06228899],\n",
       "       [ 0.07726056,  0.10699045,  0.07089343,  0.06173876],\n",
       "       [ 0.07610001,  0.07795692,  0.06000723,  0.06687485],\n",
       "       [ 0.08015158,  0.10538545,  0.07202064,  0.06192614],\n",
       "       [ 0.08579474,  0.07498017,  0.06248063,  0.06535897],\n",
       "       [ 0.08085608,  0.08449425,  0.07131883,  0.06259037],\n",
       "       [ 0.08357864,  0.0830109 ,  0.07224502,  0.06511212],\n",
       "       [ 0.07501111,  0.07750958,  0.05967815,  0.06686151],\n",
       "       [ 0.08482413,  0.07513887,  0.06893036,  0.06567218],\n",
       "       [ 0.07744066,  0.07590493,  0.05938763,  0.0666459 ],\n",
       "       [ 0.0802769 ,  0.07895914,  0.06035447,  0.06610662],\n",
       "       [ 0.07908138,  0.10361205,  0.06976765,  0.06198778],\n",
       "       [ 0.08007061,  0.08567483,  0.0717768 ,  0.06574952],\n",
       "       [ 0.07892175,  0.09236865,  0.07500324,  0.06455416],\n",
       "       [ 0.07874796,  0.11244472,  0.07120125,  0.06217211],\n",
       "       [ 0.08087642,  0.07830577,  0.07599072,  0.06755668],\n",
       "       [ 0.07905493,  0.1112027 ,  0.06919528,  0.06148554],\n",
       "       [ 0.07583362,  0.07790315,  0.05973909,  0.06668548],\n",
       "       [ 0.0761799 ,  0.07639413,  0.05924229,  0.06684874],\n",
       "       [ 0.08392619,  0.09586419,  0.06955043,  0.06212127],\n",
       "       [ 0.08243701,  0.08040394,  0.06574563,  0.06566665],\n",
       "       [ 0.07891821,  0.08836675,  0.0731721 ,  0.06493353],\n",
       "       [ 0.07995703,  0.0809665 ,  0.07321779,  0.06317107]])"
      ]
     },
     "execution_count": 158,
     "metadata": {},
     "output_type": "execute_result"
    }
   ],
   "source": [
    "bse"
   ]
  },
  {
   "cell_type": "code",
   "execution_count": 12,
   "metadata": {},
   "outputs": [
    {
     "data": {
      "text/plain": [
       "[92.0, 101.0, 136.0, 158.0]"
      ]
     },
     "execution_count": 12,
     "metadata": {},
     "output_type": "execute_result"
    }
   ],
   "source": [
    "selector.bw[0]"
   ]
  },
  {
   "cell_type": "code",
   "execution_count": 6,
   "metadata": {},
   "outputs": [
    {
     "data": {
      "text/plain": [
       "array([[ 1.],\n",
       "       [ 1.],\n",
       "       [ 1.],\n",
       "       [ 1.],\n",
       "       [ 1.],\n",
       "       [ 1.],\n",
       "       [ 1.],\n",
       "       [ 1.],\n",
       "       [ 1.],\n",
       "       [ 1.],\n",
       "       [ 1.],\n",
       "       [ 1.],\n",
       "       [ 1.],\n",
       "       [ 1.],\n",
       "       [ 1.],\n",
       "       [ 1.],\n",
       "       [ 1.],\n",
       "       [ 1.],\n",
       "       [ 1.],\n",
       "       [ 1.],\n",
       "       [ 1.],\n",
       "       [ 1.],\n",
       "       [ 1.],\n",
       "       [ 1.],\n",
       "       [ 1.],\n",
       "       [ 1.],\n",
       "       [ 1.],\n",
       "       [ 1.],\n",
       "       [ 1.],\n",
       "       [ 1.],\n",
       "       [ 1.],\n",
       "       [ 1.],\n",
       "       [ 1.],\n",
       "       [ 1.],\n",
       "       [ 1.],\n",
       "       [ 1.],\n",
       "       [ 1.],\n",
       "       [ 1.],\n",
       "       [ 1.],\n",
       "       [ 1.],\n",
       "       [ 1.],\n",
       "       [ 1.],\n",
       "       [ 1.],\n",
       "       [ 1.],\n",
       "       [ 1.],\n",
       "       [ 1.],\n",
       "       [ 1.],\n",
       "       [ 1.],\n",
       "       [ 1.],\n",
       "       [ 1.],\n",
       "       [ 1.],\n",
       "       [ 1.],\n",
       "       [ 1.],\n",
       "       [ 1.],\n",
       "       [ 1.],\n",
       "       [ 1.],\n",
       "       [ 1.],\n",
       "       [ 1.],\n",
       "       [ 1.],\n",
       "       [ 1.],\n",
       "       [ 1.],\n",
       "       [ 1.],\n",
       "       [ 1.],\n",
       "       [ 1.],\n",
       "       [ 1.],\n",
       "       [ 1.],\n",
       "       [ 1.],\n",
       "       [ 1.],\n",
       "       [ 1.],\n",
       "       [ 1.],\n",
       "       [ 1.],\n",
       "       [ 1.],\n",
       "       [ 1.],\n",
       "       [ 1.],\n",
       "       [ 1.],\n",
       "       [ 1.],\n",
       "       [ 1.],\n",
       "       [ 1.],\n",
       "       [ 1.],\n",
       "       [ 1.],\n",
       "       [ 1.],\n",
       "       [ 1.],\n",
       "       [ 1.],\n",
       "       [ 1.],\n",
       "       [ 1.],\n",
       "       [ 1.],\n",
       "       [ 1.],\n",
       "       [ 1.],\n",
       "       [ 1.],\n",
       "       [ 1.],\n",
       "       [ 1.],\n",
       "       [ 1.],\n",
       "       [ 1.],\n",
       "       [ 1.],\n",
       "       [ 1.],\n",
       "       [ 1.],\n",
       "       [ 1.],\n",
       "       [ 1.],\n",
       "       [ 1.],\n",
       "       [ 1.],\n",
       "       [ 1.],\n",
       "       [ 1.],\n",
       "       [ 1.],\n",
       "       [ 1.],\n",
       "       [ 1.],\n",
       "       [ 1.],\n",
       "       [ 1.],\n",
       "       [ 1.],\n",
       "       [ 1.],\n",
       "       [ 1.],\n",
       "       [ 1.],\n",
       "       [ 1.],\n",
       "       [ 1.],\n",
       "       [ 1.],\n",
       "       [ 1.],\n",
       "       [ 1.],\n",
       "       [ 1.],\n",
       "       [ 1.],\n",
       "       [ 1.],\n",
       "       [ 1.],\n",
       "       [ 1.],\n",
       "       [ 1.],\n",
       "       [ 1.],\n",
       "       [ 1.],\n",
       "       [ 1.],\n",
       "       [ 1.],\n",
       "       [ 1.],\n",
       "       [ 1.],\n",
       "       [ 1.],\n",
       "       [ 1.],\n",
       "       [ 1.],\n",
       "       [ 1.],\n",
       "       [ 1.],\n",
       "       [ 1.],\n",
       "       [ 1.],\n",
       "       [ 1.],\n",
       "       [ 1.],\n",
       "       [ 1.],\n",
       "       [ 1.],\n",
       "       [ 1.],\n",
       "       [ 1.],\n",
       "       [ 1.],\n",
       "       [ 1.],\n",
       "       [ 1.],\n",
       "       [ 1.],\n",
       "       [ 1.],\n",
       "       [ 1.],\n",
       "       [ 1.],\n",
       "       [ 1.],\n",
       "       [ 1.],\n",
       "       [ 1.],\n",
       "       [ 1.],\n",
       "       [ 1.],\n",
       "       [ 1.],\n",
       "       [ 1.],\n",
       "       [ 1.],\n",
       "       [ 1.],\n",
       "       [ 1.],\n",
       "       [ 1.]])"
      ]
     },
     "execution_count": 6,
     "metadata": {},
     "output_type": "execute_result"
    }
   ],
   "source": [
    "r.w"
   ]
  },
  {
   "cell_type": "code",
   "execution_count": 16,
   "metadata": {},
   "outputs": [
    {
     "data": {
      "text/plain": [
       "0.0"
      ]
     },
     "execution_count": 16,
     "metadata": {},
     "output_type": "execute_result"
    }
   ],
   "source": [
    "results.sigma2_v1"
   ]
  },
  {
   "cell_type": "code",
   "execution_count": 7,
   "metadata": {},
   "outputs": [
    {
     "data": {
      "text/plain": [
       "11.36825087269831"
      ]
     },
     "execution_count": 7,
     "metadata": {},
     "output_type": "execute_result"
    }
   ],
   "source": [
    "results.tr_S"
   ]
  },
  {
   "cell_type": "code",
   "execution_count": 5,
   "metadata": {},
   "outputs": [
    {
     "data": {
      "text/plain": [
       "0.6798781165542741"
      ]
     },
     "execution_count": 5,
     "metadata": {},
     "output_type": "execute_result"
    }
   ],
   "source": [
    "results.R2"
   ]
  },
  {
   "cell_type": "code",
   "execution_count": 6,
   "metadata": {},
   "outputs": [
    {
     "data": {
      "text/plain": [
       "0.46401819400418309"
      ]
     },
     "execution_count": 6,
     "metadata": {},
     "output_type": "execute_result"
    }
   ],
   "source": [
    "r.R2"
   ]
  },
  {
   "cell_type": "code",
   "execution_count": 8,
   "metadata": {},
   "outputs": [
    {
     "data": {
      "text/plain": [
       "array([ -1.19971695e-01,  -2.72059429e-01,  -4.79822934e-01,\n",
       "         3.70219954e-01,  -9.51827921e-02,  -3.31825929e-01,\n",
       "        -5.61229455e-01,  -2.84968957e-01,  -4.39814593e-01,\n",
       "        -4.34021065e-01,   5.19487984e-01,  -8.44284863e-02,\n",
       "        -1.84030082e-01,  -1.86259838e-01,   5.40987832e-01,\n",
       "         1.55094126e+00,   2.29241167e-01,  -5.56656317e-01,\n",
       "         4.95041372e-01,   1.49808154e-01,  -2.51380599e-01,\n",
       "         1.72300023e-01,  -5.32412355e-01,  -5.76875380e-02,\n",
       "         4.26401297e-01,  -4.18045628e-01,  -3.64861873e-01,\n",
       "         6.85831175e-01,   1.85877168e+00,   6.34544513e-01,\n",
       "        -1.99671965e+00,  -4.72795049e-01,   1.25467674e+00,\n",
       "         1.34713140e-01,  -2.97685577e-01,   2.16768556e-01,\n",
       "        -7.28527988e-01,   4.99882887e-01,  -6.12780654e-01,\n",
       "        -7.67652430e-02,  -1.50330021e-01,  -3.41343065e-02,\n",
       "         1.74388136e-01,  -2.46358410e-01,  -1.61696390e-01,\n",
       "         6.30447413e-02,   6.49937235e-01,  -6.09604071e-01,\n",
       "        -1.67828433e-01,  -5.58608264e-01,  -2.07565946e-01,\n",
       "        -5.94832357e-01,  -6.60666283e-02,   2.86957766e-01,\n",
       "        -1.18735164e-01,   1.24317691e+00,   3.78472825e-03,\n",
       "         7.68385540e-01,   1.75295411e-02,   1.12418863e+00,\n",
       "         9.45949986e-02,  -5.42340000e-01,   1.07313515e+00,\n",
       "        -1.01164888e-01,  -4.73209641e-01,  -3.26459575e-02,\n",
       "         6.20985019e-02,  -9.36304703e-01,  -1.39292230e+00,\n",
       "         3.27803256e-01,  -5.47177824e-01,   6.82597630e-01,\n",
       "        -1.01448303e-01,  -3.58268624e-01,  -1.96304832e-01,\n",
       "         4.17092299e-02,  -1.11558283e-01,  -2.77878093e-01,\n",
       "         1.95351937e-01,  -2.33059892e-01,   5.15186860e-03,\n",
       "        -3.20293457e-01,  -3.30147398e-01,   4.50347971e-01,\n",
       "         4.09699816e-02,  -3.19987988e-01,   3.05567194e-01,\n",
       "         7.47898036e-01,  -5.40054334e-01,   2.13493080e-01,\n",
       "        -6.98087035e-01,   8.85208622e-01,   7.51886627e-02,\n",
       "         2.48203055e-01,   3.98175856e-01,  -6.96706655e-03,\n",
       "        -5.60413987e-02,  -5.57564673e-01,  -2.69647766e-01,\n",
       "         7.81189615e-02,  -4.19834021e-01,   3.64078205e-01,\n",
       "         2.55368445e-01,   5.09466211e-04,  -5.81159254e-01,\n",
       "        -3.84886503e-01,  -2.72247105e-01,   3.05510709e+00,\n",
       "         6.81243128e-01,  -2.61013925e-01,   5.69540461e-01,\n",
       "         2.96996407e-01,  -4.82329036e-01,   1.20582544e-03,\n",
       "        -8.06161911e-01,  -2.50044822e-01,  -5.14381288e-01,\n",
       "        -1.67681006e-01,   1.56597290e-01,  -8.15693539e-01,\n",
       "        -5.67773344e-01,   2.85513330e-01,   5.78295482e-02,\n",
       "         1.30518992e-02,  -8.03632639e-01,  -1.33250738e-01,\n",
       "         4.19013250e-02,   1.52665719e-01,   8.60432441e-01,\n",
       "         3.01489883e-02,  -3.54832244e-01,  -7.63598010e-01,\n",
       "        -1.02897816e-01,   1.23161803e-01,  -1.81344054e-01,\n",
       "         5.48288657e-01,   2.87302157e-01,  -1.51660433e-01,\n",
       "         1.43414680e-02,  -5.70436881e-01,   1.80844778e-01,\n",
       "        -5.98576638e-01,  -3.16851932e-01,   7.59638174e-02,\n",
       "        -2.44380804e-01,  -4.69563726e-01,  -4.02059847e-01,\n",
       "         4.31700274e-02,  -3.94579180e-01,   3.36221912e-01,\n",
       "        -4.68303163e-02,  -3.18514793e-01,   3.27476243e-01,\n",
       "         4.96382950e-01,  -8.02342669e-01,   1.66362024e-01,\n",
       "         7.93671631e-02,   3.88141477e-01,  -5.32332822e-01])"
      ]
     },
     "execution_count": 8,
     "metadata": {},
     "output_type": "execute_result"
    }
   ],
   "source": [
    "results.resid_response"
   ]
  },
  {
   "cell_type": "code",
   "execution_count": 15,
   "metadata": {},
   "outputs": [
    {
     "data": {
      "text/plain": [
       "50.899379467870425"
      ]
     },
     "execution_count": 15,
     "metadata": {},
     "output_type": "execute_result"
    }
   ],
   "source": [
    "results.resid_ss"
   ]
  },
  {
   "cell_type": "code",
   "execution_count": 19,
   "metadata": {},
   "outputs": [
    {
     "data": {
      "text/plain": [
       "0.34477258292171481"
      ]
     },
     "execution_count": 19,
     "metadata": {},
     "output_type": "execute_result"
    }
   ],
   "source": [
    "results.sigma2_v1"
   ]
  },
  {
   "cell_type": "code",
   "execution_count": 17,
   "metadata": {},
   "outputs": [
    {
     "data": {
      "text/plain": [
       "297.12013812258783"
      ]
     },
     "execution_count": 17,
     "metadata": {},
     "output_type": "execute_result"
    }
   ],
   "source": [
    "results.aicc"
   ]
  },
  {
   "cell_type": "code",
   "execution_count": 20,
   "metadata": {},
   "outputs": [
    {
     "data": {
      "text/plain": [
       "11.36825087269831"
      ]
     },
     "execution_count": 20,
     "metadata": {},
     "output_type": "execute_result"
    }
   ],
   "source": [
    "results.tr_S"
   ]
  },
  {
   "cell_type": "code",
   "execution_count": 22,
   "metadata": {},
   "outputs": [
    {
     "data": {
      "text/plain": [
       "50.899379467870418"
      ]
     },
     "execution_count": 22,
     "metadata": {},
     "output_type": "execute_result"
    }
   ],
   "source": [
    "results.resid_ss"
   ]
  },
  {
   "cell_type": "code",
   "execution_count": 21,
   "metadata": {},
   "outputs": [
    {
     "data": {
      "text/plain": [
       "0.34477258292171475"
      ]
     },
     "execution_count": 21,
     "metadata": {},
     "output_type": "execute_result"
    }
   ],
   "source": [
    "results.sigma2_v1"
   ]
  },
  {
   "cell_type": "code",
   "execution_count": 20,
   "metadata": {},
   "outputs": [
    {
     "data": {
      "text/plain": [
       "308.91526862334547"
      ]
     },
     "execution_count": 20,
     "metadata": {},
     "output_type": "execute_result"
    }
   ],
   "source": [
    "results.aicc"
   ]
  },
  {
   "cell_type": "code",
   "execution_count": 18,
   "metadata": {},
   "outputs": [
    {
     "data": {
      "text/plain": [
       "11.368250872698308"
      ]
     },
     "execution_count": 18,
     "metadata": {},
     "output_type": "execute_result"
    }
   ],
   "source": [
    "results.tr_S"
   ]
  },
  {
   "cell_type": "code",
   "execution_count": 19,
   "metadata": {},
   "outputs": [
    {
     "data": {
      "text/plain": [
       "0.3201218834457259"
      ]
     },
     "execution_count": 19,
     "metadata": {},
     "output_type": "execute_result"
    }
   ],
   "source": [
    "results.sigma2_ML"
   ]
  },
  {
   "cell_type": "code",
   "execution_count": 9,
   "metadata": {},
   "outputs": [
    {
     "data": {
      "text/plain": [
       "309.99614902284145"
      ]
     },
     "execution_count": 9,
     "metadata": {},
     "output_type": "execute_result"
    }
   ],
   "source": [
    "r.aicc"
   ]
  },
  {
   "cell_type": "code",
   "execution_count": 21,
   "metadata": {},
   "outputs": [
    {
     "name": "stdout",
     "output_type": "stream",
     "text": [
      "310.704621011\n"
     ]
    }
   ],
   "source": [
    "print((2.*159*np.log(np.sqrt(r.sigma2_v1))) + (159*np.log(2.*np.pi)) + (159*((159 + r.tr_S)/(159 - 2. - r.tr_S))))\n"
   ]
  },
  {
   "cell_type": "code",
   "execution_count": 17,
   "metadata": {},
   "outputs": [
    {
     "data": {
      "text/plain": [
       "11.804769716730094"
      ]
     },
     "execution_count": 17,
     "metadata": {},
     "output_type": "execute_result"
    }
   ],
   "source": [
    "r.tr_S"
   ]
  },
  {
   "cell_type": "code",
   "execution_count": 5,
   "metadata": {},
   "outputs": [
    {
     "name": "stdout",
     "output_type": "stream",
     "text": [
      "117.0\n",
      "11.8047697167\n",
      "0.589697844237\n",
      "311.31676819\n"
     ]
    }
   ],
   "source": [
    "X = (X - X.mean(axis=0)) / X.std(axis=0)\n",
    "\n",
    "y = y.reshape((-1,1))\n",
    "\n",
    "y = (y - y.mean(axis=0)) / y.std(axis=0)\n",
    "\n",
    "sel = Sel_BW(coords, y, X)\n",
    "\n",
    "bw = sel.search()\n",
    "print(bw)\n",
    "results = GWR(coords, y, X, bw, sigma2_v1=True).fit()\n",
    "n = int(results.n)\n",
    "sig = np.sqrt(results.sigma2_v1)\n",
    "print(results.tr_S)\n",
    "print(sig)\n",
    "print((2.*n*np.log(sig)) + (n*np.log(2.*np.pi)) + (n*((n + results.tr_S)/(n - 2. - results.tr_S))))\n"
   ]
  },
  {
   "cell_type": "code",
   "execution_count": 138,
   "metadata": {},
   "outputs": [],
   "source": [
    "n = 159.\n",
    "k = results.tr_S"
   ]
  },
  {
   "cell_type": "code",
   "execution_count": 139,
   "metadata": {},
   "outputs": [
    {
     "data": {
      "text/plain": [
       "186.25712391320889"
      ]
     },
     "execution_count": 139,
     "metadata": {},
     "output_type": "execute_result"
    }
   ],
   "source": [
    "\n",
    "\n",
    "n + ((2.*n*k + 2*n)/(n-2.-k))"
   ]
  },
  {
   "cell_type": "code",
   "execution_count": 140,
   "metadata": {},
   "outputs": [
    {
     "data": {
      "text/plain": [
       "186.25712391320889"
      ]
     },
     "execution_count": 140,
     "metadata": {},
     "output_type": "execute_result"
    }
   ],
   "source": [
    "n*((n+k)/(n-k-2.))"
   ]
  },
  {
   "cell_type": "code",
   "execution_count": 142,
   "metadata": {},
   "outputs": [
    {
     "data": {
      "text/plain": [
       "310.60505810131076"
      ]
     },
     "execution_count": 142,
     "metadata": {},
     "output_type": "execute_result"
    }
   ],
   "source": [
    "n*"
   ]
  },
  {
   "cell_type": "code",
   "execution_count": 134,
   "metadata": {},
   "outputs": [
    {
     "data": {
      "text/plain": [
       "280.2054479253228"
      ]
     },
     "execution_count": 134,
     "metadata": {},
     "output_type": "execute_result"
    }
   ],
   "source": [
    "#llf\n",
    "n*np.log(2*np.pi*results.sigma2_ML) + n +2.*n*((k+1)/(n-k-2))"
   ]
  },
  {
   "cell_type": "code",
   "execution_count": 135,
   "metadata": {},
   "outputs": [
    {
     "data": {
      "text/plain": [
       "280.2054479253228"
      ]
     },
     "execution_count": 135,
     "metadata": {},
     "output_type": "execute_result"
    }
   ],
   "source": [
    "#book\n",
    "n*(np.log(results.sigma2_ML*2.*np.pi)) + n*((n+k)/(n-k-2))"
   ]
  },
  {
   "cell_type": "code",
   "execution_count": 136,
   "metadata": {},
   "outputs": [
    {
     "data": {
      "text/plain": [
       "294.76064351384593"
      ]
     },
     "execution_count": 136,
     "metadata": {},
     "output_type": "execute_result"
    }
   ],
   "source": [
    "results.aic"
   ]
  },
  {
   "cell_type": "code",
   "execution_count": 146,
   "metadata": {},
   "outputs": [
    {
     "data": {
      "text/plain": [
       "296.71413444530072"
      ]
     },
     "execution_count": 146,
     "metadata": {},
     "output_type": "execute_result"
    }
   ],
   "source": [
    "-2*results.llf + 2*(k+1) + 2*k*((k+1)/(n-k-1))"
   ]
  },
  {
   "cell_type": "code",
   "execution_count": null,
   "metadata": {},
   "outputs": [],
   "source": []
  }
 ],
 "metadata": {
  "anaconda-cloud": {},
  "kernelspec": {
   "display_name": "Python [mgwr_dev3]",
   "language": "python",
   "name": "Python [mgwr_dev3]"
  },
  "language_info": {
   "codemirror_mode": {
    "name": "ipython",
    "version": 3
   },
   "file_extension": ".py",
   "mimetype": "text/x-python",
   "name": "python",
   "nbconvert_exporter": "python",
   "pygments_lexer": "ipython3",
   "version": "3.4.5"
  }
 },
 "nbformat": 4,
 "nbformat_minor": 1
}
