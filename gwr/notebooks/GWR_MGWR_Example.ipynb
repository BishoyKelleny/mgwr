{
 "cells": [
  {
   "cell_type": "code",
   "execution_count": 3,
   "metadata": {},
   "outputs": [],
   "source": [
    "import pysal as ps\n",
    "import numpy as np\n",
    "import scipy as sp\n",
    "from gwr.sel_bw import Sel_BW\n",
    "from gwr.gwr import GWR, MGWR\n",
    "import pandas as pd\n",
    "import pysal\n",
    "import libpysal as ps\n",
    "import pickle as pk"
   ]
  },
  {
   "cell_type": "code",
   "execution_count": 4,
   "metadata": {},
   "outputs": [],
   "source": [
    "data = pysal.open('/Users/toshan/Dropbox/dev/GWR4/georgia/GData_utm.csv')\n",
    "coords = list(zip(data.by_col('X'), data.by_col('Y')))\n",
    "y = np.array(data.by_col('PctBach')).reshape((-1,1))\n",
    "rural  = np.array(data.by_col('PctRural')).reshape((-1,1))\n",
    "pov = np.array(data.by_col('PctPov')).reshape((-1,1)) \n",
    "black = np.array(data.by_col('PctBlack')).reshape((-1,1))\n",
    "fb = np.array(data.by_col('PctFB')).reshape((-1,1))\n",
    "pop = np.array(data.by_col('TotPop90')).reshape((-1,1))\n",
    "\n",
    "\n",
    "X = np.hstack([fb, black, rural])\n"
   ]
  },
  {
   "cell_type": "code",
   "execution_count": 3,
   "metadata": {},
   "outputs": [
    {
     "name": "stdout",
     "output_type": "stream",
     "text": [
      "117.0\n"
     ]
    }
   ],
   "source": [
    "X = (X - X.mean(axis=0)) / X.std(axis=0)\n",
    "\n",
    "y = y.reshape((-1,1))\n",
    "\n",
    "y = (y - y.mean(axis=0)) / y.std(axis=0)\n",
    "\n",
    "sel = Sel_BW(coords, y, X, sigma2='ml')\n",
    "\n",
    "bw = sel.search()\n",
    "print(bw)\n",
    "gwr = GWR(coords, y, X, bw, sigma2='v1')\n",
    "gwr_results = gwr.fit()"
   ]
  },
  {
   "cell_type": "code",
   "execution_count": 4,
   "metadata": {},
   "outputs": [
    {
     "name": "stdout",
     "output_type": "stream",
     "text": [
      "[92.0, 101.0, 136.0, 158.0]\n"
     ]
    }
   ],
   "source": [
    "X = (X - X.mean(axis=0)) / X.std(axis=0)\n",
    "\n",
    "y = y.reshape((-1,1))\n",
    "\n",
    "y = (y - y.mean(axis=0)) / y.std(axis=0)\n",
    "\n",
    "selector = Sel_BW(coords, y, X, multi=True, constant=True, sigma2='ml')\n",
    "bw = selector.search(bw_min=2, bw_max=159)\n",
    "print(bw)\n",
    "mgwr = MGWR(coords, y, X, selector, constant=True, sigma2='v1')\n",
    "mgwr_results = mgwr.fit()"
   ]
  },
  {
   "cell_type": "code",
   "execution_count": 38,
   "metadata": {},
   "outputs": [
    {
     "name": "stdout",
     "output_type": "stream",
     "text": [
      "311.31676819 311.539771245\n"
     ]
    }
   ],
   "source": [
    "print(gwr_results.aicc, mgwr_results.aicc)"
   ]
  }
 ],
 "metadata": {
  "anaconda-cloud": {},
  "kernelspec": {
   "display_name": "Python [mgwr_dev3]",
   "language": "python",
   "name": "Python [mgwr_dev3]"
  },
  "language_info": {
   "codemirror_mode": {
    "name": "ipython",
    "version": 3
   },
   "file_extension": ".py",
   "mimetype": "text/x-python",
   "name": "python",
   "nbconvert_exporter": "python",
   "pygments_lexer": "ipython3",
   "version": "3.4.5"
  }
 },
 "nbformat": 4,
 "nbformat_minor": 1
}
