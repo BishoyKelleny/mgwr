{
 "cells": [
  {
   "cell_type": "code",
   "execution_count": 2,
   "metadata": {
    "collapsed": false
   },
   "outputs": [],
   "source": [
    "import pysal as ps\n",
    "import numpy as np\n",
    "import scipy as sp\n",
    "import pandas as pd\n",
    "from gwr.sel_bw import Sel_BW\n",
    "from gwr.gwr import GWR, MGWR\n",
    "import statsmodels.api as smf\n",
    "from statsmodels.tools import add_constant"
   ]
  },
  {
   "cell_type": "code",
   "execution_count": 3,
   "metadata": {
    "collapsed": true
   },
   "outputs": [],
   "source": [
    "#A single covariate for simulated data"
   ]
  },
  {
   "cell_type": "code",
   "execution_count": 4,
   "metadata": {
    "collapsed": true
   },
   "outputs": [],
   "source": [
    "X1 = np.random.normal(0, 1, 625).reshape((-1,1))\n",
    "X = np.hstack([X1])\n",
    "B1 = 5\n",
    "B2 = -2\n",
    "epsilon = np.random.normal(0,1)\n",
    "y = X1*B1 + epsilon"
   ]
  },
  {
   "cell_type": "code",
   "execution_count": 5,
   "metadata": {
    "collapsed": false
   },
   "outputs": [
    {
     "data": {
      "text/html": [
       "<table class=\"simpletable\">\n",
       "<caption>OLS Regression Results</caption>\n",
       "<tr>\n",
       "  <th>Dep. Variable:</th>            <td>y</td>        <th>  R-squared:         </th> <td>   0.944</td> \n",
       "</tr>\n",
       "<tr>\n",
       "  <th>Model:</th>                   <td>OLS</td>       <th>  Adj. R-squared:    </th> <td>   0.944</td> \n",
       "</tr>\n",
       "<tr>\n",
       "  <th>Method:</th>             <td>Least Squares</td>  <th>  F-statistic:       </th> <td>1.050e+04</td>\n",
       "</tr>\n",
       "<tr>\n",
       "  <th>Date:</th>             <td>Tue, 20 Mar 2018</td> <th>  Prob (F-statistic):</th>  <td>  0.00</td>  \n",
       "</tr>\n",
       "<tr>\n",
       "  <th>Time:</th>                 <td>15:50:01</td>     <th>  Log-Likelihood:    </th> <td> -1014.2</td> \n",
       "</tr>\n",
       "<tr>\n",
       "  <th>No. Observations:</th>      <td>   625</td>      <th>  AIC:               </th> <td>   2030.</td> \n",
       "</tr>\n",
       "<tr>\n",
       "  <th>Df Residuals:</th>          <td>   624</td>      <th>  BIC:               </th> <td>   2035.</td> \n",
       "</tr>\n",
       "<tr>\n",
       "  <th>Df Model:</th>              <td>     1</td>      <th>                     </th>     <td> </td>    \n",
       "</tr>\n",
       "<tr>\n",
       "  <th>Covariance Type:</th>      <td>nonrobust</td>    <th>                     </th>     <td> </td>    \n",
       "</tr>\n",
       "</table>\n",
       "<table class=\"simpletable\">\n",
       "<tr>\n",
       "   <td></td>     <th>coef</th>     <th>std err</th>      <th>t</th>      <th>P>|t|</th>  <th>[0.025</th>    <th>0.975]</th>  \n",
       "</tr>\n",
       "<tr>\n",
       "  <th>x1</th> <td>    4.9402</td> <td>    0.048</td> <td>  102.486</td> <td> 0.000</td> <td>    4.846</td> <td>    5.035</td>\n",
       "</tr>\n",
       "</table>\n",
       "<table class=\"simpletable\">\n",
       "<tr>\n",
       "  <th>Omnibus:</th>       <td> 0.005</td> <th>  Durbin-Watson:     </th> <td>   0.005</td>\n",
       "</tr>\n",
       "<tr>\n",
       "  <th>Prob(Omnibus):</th> <td> 0.998</td> <th>  Jarque-Bera (JB):  </th> <td>   0.028</td>\n",
       "</tr>\n",
       "<tr>\n",
       "  <th>Skew:</th>          <td> 0.006</td> <th>  Prob(JB):          </th> <td>   0.986</td>\n",
       "</tr>\n",
       "<tr>\n",
       "  <th>Kurtosis:</th>      <td> 2.970</td> <th>  Cond. No.          </th> <td>    1.00</td>\n",
       "</tr>\n",
       "</table>"
      ],
      "text/plain": [
       "<class 'statsmodels.iolib.summary.Summary'>\n",
       "\"\"\"\n",
       "                            OLS Regression Results                            \n",
       "==============================================================================\n",
       "Dep. Variable:                      y   R-squared:                       0.944\n",
       "Model:                            OLS   Adj. R-squared:                  0.944\n",
       "Method:                 Least Squares   F-statistic:                 1.050e+04\n",
       "Date:                Tue, 20 Mar 2018   Prob (F-statistic):               0.00\n",
       "Time:                        15:50:01   Log-Likelihood:                -1014.2\n",
       "No. Observations:                 625   AIC:                             2030.\n",
       "Df Residuals:                     624   BIC:                             2035.\n",
       "Df Model:                           1                                         \n",
       "Covariance Type:            nonrobust                                         \n",
       "==============================================================================\n",
       "                 coef    std err          t      P>|t|      [0.025      0.975]\n",
       "------------------------------------------------------------------------------\n",
       "x1             4.9402      0.048    102.486      0.000       4.846       5.035\n",
       "==============================================================================\n",
       "Omnibus:                        0.005   Durbin-Watson:                   0.005\n",
       "Prob(Omnibus):                  0.998   Jarque-Bera (JB):                0.028\n",
       "Skew:                           0.006   Prob(JB):                        0.986\n",
       "Kurtosis:                       2.970   Cond. No.                         1.00\n",
       "==============================================================================\n",
       "\n",
       "Warnings:\n",
       "[1] Standard Errors assume that the covariance matrix of the errors is correctly specified.\n",
       "\"\"\""
      ]
     },
     "execution_count": 5,
     "metadata": {},
     "output_type": "execute_result"
    }
   ],
   "source": [
    "smf.OLS(y, X).fit().summary()"
   ]
  },
  {
   "cell_type": "code",
   "execution_count": 6,
   "metadata": {
    "collapsed": false
   },
   "outputs": [],
   "source": [
    "x_coord = np.repeat(range(1,26), 25).astype(float)\n",
    "y_coord = np.tile(range(1,26), 25).astype(float)\n",
    "coords = zip(x_coord, y_coord)"
   ]
  },
  {
   "cell_type": "code",
   "execution_count": 7,
   "metadata": {
    "collapsed": false
   },
   "outputs": [
    {
     "name": "stdout",
     "output_type": "stream",
     "text": [
      "624.0\n"
     ]
    }
   ],
   "source": [
    "sel = Sel_BW(coords, y, X, constant=False)\n",
    "\n",
    "bw = sel.search()\n",
    "print bw\n",
    "results = GWR(coords, y, X, bw, constant=False).fit()"
   ]
  },
  {
   "cell_type": "code",
   "execution_count": 8,
   "metadata": {
    "collapsed": false
   },
   "outputs": [
    {
     "data": {
      "text/plain": [
       "array([[4.93920094],\n",
       "       [4.93930817],\n",
       "       [4.93944166],\n",
       "       [4.9396059 ],\n",
       "       [4.93980616]])"
      ]
     },
     "execution_count": 8,
     "metadata": {},
     "output_type": "execute_result"
    }
   ],
   "source": [
    "results.params[0:5]"
   ]
  },
  {
   "cell_type": "code",
   "execution_count": 9,
   "metadata": {
    "collapsed": false
   },
   "outputs": [],
   "source": [
    "selector = Sel_BW(coords, y, X, multi=True, constant=False)\n",
    "bw = selector.search(tol_multi=.00001)\n",
    "err = selector.err\n",
    "XB = selector.XB\n",
    "gwr = MGWR(coords, y, X, bw, XB, err, constant=False).fit()"
   ]
  },
  {
   "cell_type": "code",
   "execution_count": 10,
   "metadata": {
    "collapsed": false
   },
   "outputs": [
    {
     "name": "stdout",
     "output_type": "stream",
     "text": [
      "[624.0]\n"
     ]
    }
   ],
   "source": [
    "print gwr.model.bws"
   ]
  },
  {
   "cell_type": "code",
   "execution_count": 11,
   "metadata": {
    "collapsed": false
   },
   "outputs": [
    {
     "data": {
      "text/plain": [
       "array([[4.93920094],\n",
       "       [4.93930817],\n",
       "       [4.93944166],\n",
       "       [4.9396059 ],\n",
       "       [4.93980616]])"
      ]
     },
     "execution_count": 11,
     "metadata": {},
     "output_type": "execute_result"
    }
   ],
   "source": [
    "gwr.params[0:5]"
   ]
  },
  {
   "cell_type": "code",
   "execution_count": 12,
   "metadata": {
    "collapsed": false
   },
   "outputs": [],
   "source": [
    "#MGWR hat matrix\n",
    "S = selector.bw[-1]\n",
    "\n",
    "#lets manually compute sigma**2. We can define it based on H+T or as that from GWR\n",
    "sigma1 = gwr.resid_ss /np.trace(np.dot(S, S.T))\n",
    "sigma2 = gwr.resid_ss / (len(gwr.model.y) - (2*np.trace(S)) + np.trace(np.dot(S.T, S)))"
   ]
  },
  {
   "cell_type": "code",
   "execution_count": 13,
   "metadata": {
    "collapsed": false
   },
   "outputs": [
    {
     "data": {
      "text/plain": [
       "(1.5079700659504651, 729.544674360347, 1.5079700659504651)"
      ]
     },
     "execution_count": 13,
     "metadata": {},
     "output_type": "execute_result"
    }
   ],
   "source": [
    "#GWR vs MGWR for sigma**2\n",
    "results.sigma2_v1v2, sigma1, sigma2"
   ]
  },
  {
   "cell_type": "code",
   "execution_count": 14,
   "metadata": {
    "collapsed": false
   },
   "outputs": [
    {
     "data": {
      "text/plain": [
       "array([[0.05593041],\n",
       "       [0.05584191],\n",
       "       [0.05577079],\n",
       "       [0.05572122],\n",
       "       [0.05569806]])"
      ]
     },
     "execution_count": 14,
     "metadata": {},
     "output_type": "execute_result"
    }
   ],
   "source": [
    "#GWR standard errors\n",
    "results.bse[0:5]"
   ]
  },
  {
   "cell_type": "code",
   "execution_count": 15,
   "metadata": {
    "collapsed": false
   },
   "outputs": [
    {
     "data": {
      "text/plain": [
       "array([[1.23665961],\n",
       "       [1.07858322],\n",
       "       [0.24608715],\n",
       "       [2.62055707],\n",
       "       [1.08406403]])"
      ]
     },
     "execution_count": 15,
     "metadata": {},
     "output_type": "execute_result"
    }
   ],
   "source": [
    "#MGWR standard errors according to H+T\n",
    "S_0 = gwr.S[0]\n",
    "bse = np.sqrt(np.diag(np.dot(S_0, S_0.T)*sigma1))\n",
    "bse[0:5].reshape((-1,1))"
   ]
  },
  {
   "cell_type": "code",
   "execution_count": 16,
   "metadata": {
    "collapsed": false
   },
   "outputs": [
    {
     "data": {
      "text/plain": [
       "array([[0.05622385],\n",
       "       [0.04903702],\n",
       "       [0.01118818],\n",
       "       [0.11914177],\n",
       "       [0.0492862 ]])"
      ]
     },
     "execution_count": 16,
     "metadata": {},
     "output_type": "execute_result"
    }
   ],
   "source": [
    "#MGWR standard errors according to H+T but using GWR type DOF\n",
    "S_0 = gwr.S[0]\n",
    "bse = np.sqrt(np.diag(np.dot(S_0, S_0.T)*sigma2))\n",
    "bse[0:5].reshape((-1,1))"
   ]
  },
  {
   "cell_type": "code",
   "execution_count": 17,
   "metadata": {
    "collapsed": false
   },
   "outputs": [
    {
     "data": {
      "text/plain": [
       "array([[0.09143401],\n",
       "       [0.07828983],\n",
       "       [0.01756454],\n",
       "       [0.18425109],\n",
       "       [0.0752289 ]])"
      ]
     },
     "execution_count": 17,
     "metadata": {},
     "output_type": "execute_result"
    }
   ],
   "source": [
    "#MGWR standard errors according to H+T and using Hanchen's suggestion to factor out Xj\n",
    "X_0 = gwr.model.X[:,0]\n",
    "S_0 = gwr.S[0]\n",
    "S_0 = np.linalg.inv(np.diag(X_0)) * S_0\n",
    "\n",
    "\n",
    "bse = np.sqrt(np.diag(np.dot(S_0, S_0.T)*sigma1))\n",
    "bse[0:5].reshape((-1,1))"
   ]
  },
  {
   "cell_type": "code",
   "execution_count": 18,
   "metadata": {
    "collapsed": false
   },
   "outputs": [
    {
     "data": {
      "text/plain": [
       "array([[0.00415698],\n",
       "       [0.00355939],\n",
       "       [0.00079856],\n",
       "       [0.00837684],\n",
       "       [0.00342023]])"
      ]
     },
     "execution_count": 18,
     "metadata": {},
     "output_type": "execute_result"
    }
   ],
   "source": [
    "#MGWR standard errors according to H+T but using GWR type DOF and using Hanchen's suggestion to factor out Xj\n",
    "X_0 = gwr.model.X[:,0]\n",
    "S_0 = gwr.S[0]\n",
    "S_0 = np.linalg.inv(np.diag(X_0)) * S_0\n",
    "\n",
    "\n",
    "bse = np.sqrt(np.diag(np.dot(S_0, S_0.T)*sigma2))\n",
    "bse[0:5].reshape((-1,1))"
   ]
  },
  {
   "cell_type": "code",
   "execution_count": 19,
   "metadata": {
    "collapsed": false
   },
   "outputs": [
    {
     "data": {
      "text/plain": [
       "array([[0.05593041],\n",
       "       [0.05584191],\n",
       "       [0.05577079],\n",
       "       [0.05572122],\n",
       "       [0.05569806]])"
      ]
     },
     "execution_count": 19,
     "metadata": {},
     "output_type": "execute_result"
    }
   ],
   "source": [
    "#MGWR standard errors if we just pull out the individual GWR standard error for the single component\n",
    "gwr.SE[0][0:5]"
   ]
  },
  {
   "cell_type": "code",
   "execution_count": 20,
   "metadata": {
    "collapsed": true
   },
   "outputs": [],
   "source": [
    "#Two covariates for simulated data"
   ]
  },
  {
   "cell_type": "code",
   "execution_count": 58,
   "metadata": {
    "collapsed": true
   },
   "outputs": [],
   "source": [
    "X1 = np.random.normal(0, 1, 625).reshape((-1,1))\n",
    "X2 = np.random.normal(0, 1, 625).reshape((-1,1))\n",
    "X = np.hstack([X1, X2])\n",
    "B1 = 5\n",
    "B2 = -2\n",
    "epsilon = np.random.normal(0,1)\n",
    "y = X1*B1 + X2*B2 + epsilon"
   ]
  },
  {
   "cell_type": "code",
   "execution_count": 59,
   "metadata": {
    "collapsed": false
   },
   "outputs": [
    {
     "data": {
      "text/html": [
       "<table class=\"simpletable\">\n",
       "<caption>OLS Regression Results</caption>\n",
       "<tr>\n",
       "  <th>Dep. Variable:</th>            <td>y</td>        <th>  R-squared:         </th> <td>   0.982</td> \n",
       "</tr>\n",
       "<tr>\n",
       "  <th>Model:</th>                   <td>OLS</td>       <th>  Adj. R-squared:    </th> <td>   0.982</td> \n",
       "</tr>\n",
       "<tr>\n",
       "  <th>Method:</th>             <td>Least Squares</td>  <th>  F-statistic:       </th> <td>1.711e+04</td>\n",
       "</tr>\n",
       "<tr>\n",
       "  <th>Date:</th>             <td>Tue, 20 Mar 2018</td> <th>  Prob (F-statistic):</th>  <td>  0.00</td>  \n",
       "</tr>\n",
       "<tr>\n",
       "  <th>Time:</th>                 <td>11:39:30</td>     <th>  Log-Likelihood:    </th> <td> -689.16</td> \n",
       "</tr>\n",
       "<tr>\n",
       "  <th>No. Observations:</th>      <td>   625</td>      <th>  AIC:               </th> <td>   1382.</td> \n",
       "</tr>\n",
       "<tr>\n",
       "  <th>Df Residuals:</th>          <td>   623</td>      <th>  BIC:               </th> <td>   1391.</td> \n",
       "</tr>\n",
       "<tr>\n",
       "  <th>Df Model:</th>              <td>     2</td>      <th>                     </th>     <td> </td>    \n",
       "</tr>\n",
       "<tr>\n",
       "  <th>Covariance Type:</th>      <td>nonrobust</td>    <th>                     </th>     <td> </td>    \n",
       "</tr>\n",
       "</table>\n",
       "<table class=\"simpletable\">\n",
       "<tr>\n",
       "   <td></td>     <th>coef</th>     <th>std err</th>      <th>t</th>      <th>P>|t|</th>  <th>[0.025</th>    <th>0.975]</th>  \n",
       "</tr>\n",
       "<tr>\n",
       "  <th>x1</th> <td>    5.0089</td> <td>    0.029</td> <td>  171.911</td> <td> 0.000</td> <td>    4.952</td> <td>    5.066</td>\n",
       "</tr>\n",
       "<tr>\n",
       "  <th>x2</th> <td>   -1.9843</td> <td>    0.028</td> <td>  -71.154</td> <td> 0.000</td> <td>   -2.039</td> <td>   -1.930</td>\n",
       "</tr>\n",
       "</table>\n",
       "<table class=\"simpletable\">\n",
       "<tr>\n",
       "  <th>Omnibus:</th>       <td> 0.442</td> <th>  Durbin-Watson:     </th> <td>   0.001</td>\n",
       "</tr>\n",
       "<tr>\n",
       "  <th>Prob(Omnibus):</th> <td> 0.802</td> <th>  Jarque-Bera (JB):  </th> <td>   0.524</td>\n",
       "</tr>\n",
       "<tr>\n",
       "  <th>Skew:</th>          <td> 0.056</td> <th>  Prob(JB):          </th> <td>   0.770</td>\n",
       "</tr>\n",
       "<tr>\n",
       "  <th>Kurtosis:</th>      <td> 2.914</td> <th>  Cond. No.          </th> <td>    1.05</td>\n",
       "</tr>\n",
       "</table>"
      ],
      "text/plain": [
       "<class 'statsmodels.iolib.summary.Summary'>\n",
       "\"\"\"\n",
       "                            OLS Regression Results                            \n",
       "==============================================================================\n",
       "Dep. Variable:                      y   R-squared:                       0.982\n",
       "Model:                            OLS   Adj. R-squared:                  0.982\n",
       "Method:                 Least Squares   F-statistic:                 1.711e+04\n",
       "Date:                Tue, 20 Mar 2018   Prob (F-statistic):               0.00\n",
       "Time:                        11:39:30   Log-Likelihood:                -689.16\n",
       "No. Observations:                 625   AIC:                             1382.\n",
       "Df Residuals:                     623   BIC:                             1391.\n",
       "Df Model:                           2                                         \n",
       "Covariance Type:            nonrobust                                         \n",
       "==============================================================================\n",
       "                 coef    std err          t      P>|t|      [0.025      0.975]\n",
       "------------------------------------------------------------------------------\n",
       "x1             5.0089      0.029    171.911      0.000       4.952       5.066\n",
       "x2            -1.9843      0.028    -71.154      0.000      -2.039      -1.930\n",
       "==============================================================================\n",
       "Omnibus:                        0.442   Durbin-Watson:                   0.001\n",
       "Prob(Omnibus):                  0.802   Jarque-Bera (JB):                0.524\n",
       "Skew:                           0.056   Prob(JB):                        0.770\n",
       "Kurtosis:                       2.914   Cond. No.                         1.05\n",
       "==============================================================================\n",
       "\n",
       "Warnings:\n",
       "[1] Standard Errors assume that the covariance matrix of the errors is correctly specified.\n",
       "\"\"\""
      ]
     },
     "execution_count": 59,
     "metadata": {},
     "output_type": "execute_result"
    }
   ],
   "source": [
    "smf.OLS(y, X).fit().summary()"
   ]
  },
  {
   "cell_type": "code",
   "execution_count": 60,
   "metadata": {
    "collapsed": false
   },
   "outputs": [],
   "source": [
    "x_coord = np.repeat(range(1,26), 25).astype(float)\n",
    "y_coord = np.tile(range(1,26), 25).astype(float)\n",
    "coords = zip(x_coord, y_coord)"
   ]
  },
  {
   "cell_type": "code",
   "execution_count": 61,
   "metadata": {
    "collapsed": false
   },
   "outputs": [
    {
     "name": "stdout",
     "output_type": "stream",
     "text": [
      "621.0\n"
     ]
    }
   ],
   "source": [
    "sel = Sel_BW(coords, y, X, constant=False)\n",
    "\n",
    "bw = sel.search()\n",
    "print bw\n",
    "results = GWR(coords, y, X, bw, constant=False).fit()"
   ]
  },
  {
   "cell_type": "code",
   "execution_count": 62,
   "metadata": {
    "collapsed": false
   },
   "outputs": [
    {
     "data": {
      "text/plain": [
       "array([[ 5.03392247, -1.96840842],\n",
       "       [ 5.03467376, -1.96722223],\n",
       "       [ 5.03537019, -1.96601055],\n",
       "       [ 5.03607808, -1.96473485],\n",
       "       [ 5.03679231, -1.96339331]])"
      ]
     },
     "execution_count": 62,
     "metadata": {},
     "output_type": "execute_result"
    }
   ],
   "source": [
    "results.params[0:5]"
   ]
  },
  {
   "cell_type": "code",
   "execution_count": 63,
   "metadata": {
    "collapsed": false
   },
   "outputs": [],
   "source": [
    "selector = Sel_BW(coords, y, X, multi=True, constant=False)\n",
    "bw = selector.search(tol_multi=.00001)\n",
    "err = selector.err\n",
    "XB = selector.XB\n",
    "gwr = MGWR(coords, y, X, bw, XB, err, constant=False).fit()"
   ]
  },
  {
   "cell_type": "code",
   "execution_count": 64,
   "metadata": {
    "collapsed": false
   },
   "outputs": [
    {
     "name": "stdout",
     "output_type": "stream",
     "text": [
      "[624.0, 620.0]\n"
     ]
    }
   ],
   "source": [
    "print gwr.model.bws"
   ]
  },
  {
   "cell_type": "code",
   "execution_count": 65,
   "metadata": {
    "collapsed": false
   },
   "outputs": [
    {
     "data": {
      "text/plain": [
       "array([[ 5.03251248, -1.96857167],\n",
       "       [ 5.03310937, -1.96742374],\n",
       "       [ 5.03371685, -1.96616986],\n",
       "       [ 5.03433179, -1.9648413 ],\n",
       "       [ 5.03494995, -1.96343464]])"
      ]
     },
     "execution_count": 65,
     "metadata": {},
     "output_type": "execute_result"
    }
   ],
   "source": [
    "gwr.params[0:5]"
   ]
  },
  {
   "cell_type": "code",
   "execution_count": 96,
   "metadata": {
    "collapsed": false
   },
   "outputs": [],
   "source": [
    "#MGWR hat matrix\n",
    "S = selector.bw[-1]\n",
    "\n",
    "#lets manually compute sigma**2. We can define it based on H+T or as that from GWR\n",
    "sigma1 = gwr.resid_ss / np.trace(np.dot(S, S.T))\n",
    "sigma2 = gwr.resid_ss / (len(gwr.model.y) - (2*np.trace(S)) + np.trace(np.dot(S.T, S)))"
   ]
  },
  {
   "cell_type": "code",
   "execution_count": 97,
   "metadata": {
    "collapsed": false
   },
   "outputs": [
    {
     "data": {
      "text/plain": [
       "(0.5323786548390854, 126.0676413945019, 0.5323753796207696)"
      ]
     },
     "execution_count": 97,
     "metadata": {},
     "output_type": "execute_result"
    }
   ],
   "source": [
    "#GWR vs MGWR for sigma**2\n",
    "results.sigma2_v1v2, sigma1, sigma2"
   ]
  },
  {
   "cell_type": "code",
   "execution_count": 70,
   "metadata": {
    "collapsed": false
   },
   "outputs": [
    {
     "data": {
      "text/plain": [
       "array([[0.03448996, 0.03270217],\n",
       "       [0.03442739, 0.03265254],\n",
       "       [0.03435185, 0.03259237],\n",
       "       [0.03428892, 0.03254319],\n",
       "       [0.0342421 , 0.03250807]])"
      ]
     },
     "execution_count": 70,
     "metadata": {},
     "output_type": "execute_result"
    }
   ],
   "source": [
    "#GWR standard errors\n",
    "results.bse[0:5]"
   ]
  },
  {
   "cell_type": "code",
   "execution_count": 90,
   "metadata": {
    "collapsed": false
   },
   "outputs": [
    {
     "data": {
      "text/plain": [
       "array([[1.1036064 , 0.61579235],\n",
       "       [0.2580416 , 0.10862743],\n",
       "       [0.68667834, 1.88472969],\n",
       "       [0.72188349, 0.39252593],\n",
       "       [0.03292367, 0.28571795]])"
      ]
     },
     "execution_count": 90,
     "metadata": {},
     "output_type": "execute_result"
    }
   ],
   "source": [
    "#MGWR standard errors according to H+T\n",
    "S_0 = gwr.S[0]\n",
    "S_1 = gwr.S[1]\n",
    "bse0 = np.sqrt(np.diag(np.dot(S_0, S_0.T)*sigma1)).reshape((-1,1))\n",
    "bse1 = np.sqrt(np.diag(np.dot(S_1, S_1.T)*sigma1)).reshape((-1,1))\n",
    "\n",
    "bse = np.hstack([bse0, bse1])\n",
    "\n",
    "bse[0:5]"
   ]
  },
  {
   "cell_type": "code",
   "execution_count": 91,
   "metadata": {
    "collapsed": false
   },
   "outputs": [
    {
     "data": {
      "text/plain": [
       "array([[0.07171688, 0.04001672],\n",
       "       [0.0167686 , 0.00705906],\n",
       "       [0.04462318, 0.12247748],\n",
       "       [0.04691096, 0.02550795],\n",
       "       [0.00213952, 0.01856713]])"
      ]
     },
     "execution_count": 91,
     "metadata": {},
     "output_type": "execute_result"
    }
   ],
   "source": [
    "#MGWR standard errors according to H+T but using GWR type DOF\n",
    "S_0 = gwr.S[0]\n",
    "S_1 = gwr.S[1]\n",
    "bse0 = np.sqrt(np.diag(np.dot(S_0, S_0.T)*sigma2)).reshape((-1,1))\n",
    "bse1 = np.sqrt(np.diag(np.dot(S_1, S_1.T)*sigma2)).reshape((-1,1))\n",
    "\n",
    "bse = np.hstack([bse0, bse1])\n",
    "\n",
    "bse[0:5]"
   ]
  },
  {
   "cell_type": "code",
   "execution_count": 93,
   "metadata": {
    "collapsed": false
   },
   "outputs": [
    {
     "data": {
      "text/plain": [
       "array([[0.08310743, 0.0432959 ],\n",
       "       [0.01912749, 0.00751512],\n",
       "       [0.05018995, 0.12865381],\n",
       "       [0.05212497, 0.02649321],\n",
       "       [0.00235337, 0.01911187]])"
      ]
     },
     "execution_count": 93,
     "metadata": {},
     "output_type": "execute_result"
    }
   ],
   "source": [
    "#MGWR standard errors according to H+T and using Hanchen's suggestion to factor out Xj\n",
    "X_0 = gwr.model.X[:,0]\n",
    "S_0 = gwr.S[0]\n",
    "S_0 = np.linalg.inv(np.diag(X_0)) * S_0\n",
    "X_1 = gwr.model.X[:,1]\n",
    "S_1 = gwr.S[1]\n",
    "S_1 = np.linalg.inv(np.diag(X_1)) * S_1\n",
    "\n",
    "bse0 = np.sqrt(np.diag(np.dot(S_0, S_0.T)*sigma1)).reshape((-1,1))\n",
    "bse1 = np.sqrt(np.diag(np.dot(S_1, S_1.T)*sigma1)).reshape((-1,1))\n",
    "\n",
    "bse = np.hstack([bse0, bse1])\n",
    "\n",
    "bse[0:5]"
   ]
  },
  {
   "cell_type": "code",
   "execution_count": 94,
   "metadata": {
    "collapsed": false
   },
   "outputs": [
    {
     "data": {
      "text/plain": [
       "array([[0.00540066, 0.00281355],\n",
       "       [0.00124298, 0.00048836],\n",
       "       [0.00326155, 0.00836045],\n",
       "       [0.00338729, 0.00172164],\n",
       "       [0.00015293, 0.00124197]])"
      ]
     },
     "execution_count": 94,
     "metadata": {},
     "output_type": "execute_result"
    }
   ],
   "source": [
    "#MGWR standard errors according to H+T but using GWR type DOF and using Hanchen's suggestion to factor out Xj\n",
    "X_0 = gwr.model.X[:,0]\n",
    "S_0 = gwr.S[0]\n",
    "S_0 = np.linalg.inv(np.diag(X_0)) * S_0\n",
    "X_1 = gwr.model.X[:,1]\n",
    "S_1 = gwr.S[1]\n",
    "S_1 = np.linalg.inv(np.diag(X_1)) * S_1\n",
    "\n",
    "bse0 = np.sqrt(np.diag(np.dot(S_0, S_0.T)*sigma2)).reshape((-1,1))\n",
    "bse1 = np.sqrt(np.diag(np.dot(S_1, S_1.T)*sigma2)).reshape((-1,1))\n",
    "\n",
    "bse = np.hstack([bse0, bse1])\n",
    "\n",
    "bse[0:5]"
   ]
  },
  {
   "cell_type": "code",
   "execution_count": 95,
   "metadata": {
    "collapsed": false
   },
   "outputs": [
    {
     "data": {
      "text/plain": [
       "array([[0.03394429, 0.0326568 ],\n",
       "       [0.03385135, 0.03258816],\n",
       "       [0.03376745, 0.03254779],\n",
       "       [0.03369531, 0.03251936],\n",
       "       [0.03363816, 0.03250609]])"
      ]
     },
     "execution_count": 95,
     "metadata": {},
     "output_type": "execute_result"
    }
   ],
   "source": [
    "#MGWR standard errors if we just pull out the individual GWR standard error for the single component\n",
    "np.hstack([gwr.SE[0], gwr.SE[1]])[0:5]"
   ]
  },
  {
   "cell_type": "code",
   "execution_count": 98,
   "metadata": {
    "collapsed": true
   },
   "outputs": [],
   "source": [
    "#Now an empirical data example"
   ]
  },
  {
   "cell_type": "code",
   "execution_count": 140,
   "metadata": {
    "collapsed": true
   },
   "outputs": [],
   "source": [
    "data = ps.open(ps.examples.get_path('GData_utm.csv'))\n",
    "\n",
    "\n",
    "y = np.array(data.by_col['PctBach']).reshape((-1,1))\n",
    "#pov = np.array(data.by_col['PctPov']).reshape((-1,1))\n",
    "rural = np.array(data.by_col['PctRural']).reshape((-1,1))\n",
    "#black = np.array(data.by_col['PctBlack']).reshape((-1,1))\n",
    "fb = np.array(data.by_col['PctFB']).reshape((-1,1))\n",
    "\n",
    "X = np.hstack([fb, rural])\n",
    "\n",
    "#Coordinates for calibration points\n",
    "u = data.by_col['X']\n",
    "v = data.by_col['Y']\n",
    "coords = zip(u,v)"
   ]
  },
  {
   "cell_type": "code",
   "execution_count": 141,
   "metadata": {
    "collapsed": false
   },
   "outputs": [
    {
     "data": {
      "text/html": [
       "<table class=\"simpletable\">\n",
       "<caption>OLS Regression Results</caption>\n",
       "<tr>\n",
       "  <th>Dep. Variable:</th>            <td>y</td>        <th>  R-squared:         </th> <td>   0.823</td>\n",
       "</tr>\n",
       "<tr>\n",
       "  <th>Model:</th>                   <td>OLS</td>       <th>  Adj. R-squared:    </th> <td>   0.821</td>\n",
       "</tr>\n",
       "<tr>\n",
       "  <th>Method:</th>             <td>Least Squares</td>  <th>  F-statistic:       </th> <td>   364.4</td>\n",
       "</tr>\n",
       "<tr>\n",
       "  <th>Date:</th>             <td>Tue, 20 Mar 2018</td> <th>  Prob (F-statistic):</th> <td>1.03e-59</td>\n",
       "</tr>\n",
       "<tr>\n",
       "  <th>Time:</th>                 <td>12:23:15</td>     <th>  Log-Likelihood:    </th> <td> -487.50</td>\n",
       "</tr>\n",
       "<tr>\n",
       "  <th>No. Observations:</th>      <td>   159</td>      <th>  AIC:               </th> <td>   979.0</td>\n",
       "</tr>\n",
       "<tr>\n",
       "  <th>Df Residuals:</th>          <td>   157</td>      <th>  BIC:               </th> <td>   985.1</td>\n",
       "</tr>\n",
       "<tr>\n",
       "  <th>Df Model:</th>              <td>     2</td>      <th>                     </th>     <td> </td>   \n",
       "</tr>\n",
       "<tr>\n",
       "  <th>Covariance Type:</th>      <td>nonrobust</td>    <th>                     </th>     <td> </td>   \n",
       "</tr>\n",
       "</table>\n",
       "<table class=\"simpletable\">\n",
       "<tr>\n",
       "   <td></td>     <th>coef</th>     <th>std err</th>      <th>t</th>      <th>P>|t|</th>  <th>[0.025</th>    <th>0.975]</th>  \n",
       "</tr>\n",
       "<tr>\n",
       "  <th>x1</th> <td>    4.5877</td> <td>    0.283</td> <td>   16.183</td> <td> 0.000</td> <td>    4.028</td> <td>    5.148</td>\n",
       "</tr>\n",
       "<tr>\n",
       "  <th>x2</th> <td>    0.0694</td> <td>    0.006</td> <td>   11.011</td> <td> 0.000</td> <td>    0.057</td> <td>    0.082</td>\n",
       "</tr>\n",
       "</table>\n",
       "<table class=\"simpletable\">\n",
       "<tr>\n",
       "  <th>Omnibus:</th>       <td>20.998</td> <th>  Durbin-Watson:     </th> <td>   1.986</td>\n",
       "</tr>\n",
       "<tr>\n",
       "  <th>Prob(Omnibus):</th> <td> 0.000</td> <th>  Jarque-Bera (JB):  </th> <td>  78.796</td>\n",
       "</tr>\n",
       "<tr>\n",
       "  <th>Skew:</th>          <td>-0.315</td> <th>  Prob(JB):          </th> <td>7.76e-18</td>\n",
       "</tr>\n",
       "<tr>\n",
       "  <th>Kurtosis:</th>      <td> 6.391</td> <th>  Cond. No.          </th> <td>    51.5</td>\n",
       "</tr>\n",
       "</table>"
      ],
      "text/plain": [
       "<class 'statsmodels.iolib.summary.Summary'>\n",
       "\"\"\"\n",
       "                            OLS Regression Results                            \n",
       "==============================================================================\n",
       "Dep. Variable:                      y   R-squared:                       0.823\n",
       "Model:                            OLS   Adj. R-squared:                  0.821\n",
       "Method:                 Least Squares   F-statistic:                     364.4\n",
       "Date:                Tue, 20 Mar 2018   Prob (F-statistic):           1.03e-59\n",
       "Time:                        12:23:15   Log-Likelihood:                -487.50\n",
       "No. Observations:                 159   AIC:                             979.0\n",
       "Df Residuals:                     157   BIC:                             985.1\n",
       "Df Model:                           2                                         \n",
       "Covariance Type:            nonrobust                                         \n",
       "==============================================================================\n",
       "                 coef    std err          t      P>|t|      [0.025      0.975]\n",
       "------------------------------------------------------------------------------\n",
       "x1             4.5877      0.283     16.183      0.000       4.028       5.148\n",
       "x2             0.0694      0.006     11.011      0.000       0.057       0.082\n",
       "==============================================================================\n",
       "Omnibus:                       20.998   Durbin-Watson:                   1.986\n",
       "Prob(Omnibus):                  0.000   Jarque-Bera (JB):               78.796\n",
       "Skew:                          -0.315   Prob(JB):                     7.76e-18\n",
       "Kurtosis:                       6.391   Cond. No.                         51.5\n",
       "==============================================================================\n",
       "\n",
       "Warnings:\n",
       "[1] Standard Errors assume that the covariance matrix of the errors is correctly specified.\n",
       "\"\"\""
      ]
     },
     "execution_count": 141,
     "metadata": {},
     "output_type": "execute_result"
    }
   ],
   "source": [
    "smf.OLS(y, X).fit().summary()"
   ]
  },
  {
   "cell_type": "code",
   "execution_count": 142,
   "metadata": {
    "collapsed": false
   },
   "outputs": [
    {
     "name": "stdout",
     "output_type": "stream",
     "text": [
      "116.0\n"
     ]
    }
   ],
   "source": [
    "sel = Sel_BW(coords, y, X, constant=False)\n",
    "\n",
    "bw = sel.search()\n",
    "print bw\n",
    "results = GWR(coords, y, X, bw, constant=False).fit()"
   ]
  },
  {
   "cell_type": "code",
   "execution_count": 143,
   "metadata": {
    "collapsed": false
   },
   "outputs": [
    {
     "data": {
      "text/plain": [
       "array([[4.10854216, 0.0686757 ],\n",
       "       [3.2914029 , 0.07591392],\n",
       "       [3.86347867, 0.07057871],\n",
       "       [2.78077223, 0.08451004],\n",
       "       [5.74472239, 0.06879297]])"
      ]
     },
     "execution_count": 143,
     "metadata": {},
     "output_type": "execute_result"
    }
   ],
   "source": [
    "results.params[0:5]"
   ]
  },
  {
   "cell_type": "code",
   "execution_count": 146,
   "metadata": {
    "collapsed": false
   },
   "outputs": [],
   "source": [
    "selector = Sel_BW(coords, y, X, multi=True, constant=False)\n",
    "bw = selector.search(bw_min=116, bw_max=116, tol_multi=.00001)\n",
    "err = selector.err\n",
    "XB = selector.XB\n",
    "gwr = MGWR(coords, y, X, bw, XB, err, constant=False).fit()"
   ]
  },
  {
   "cell_type": "code",
   "execution_count": 147,
   "metadata": {
    "collapsed": false
   },
   "outputs": [
    {
     "name": "stdout",
     "output_type": "stream",
     "text": [
      "[116.0, 116.0]\n"
     ]
    }
   ],
   "source": [
    "print gwr.model.bws"
   ]
  },
  {
   "cell_type": "code",
   "execution_count": 148,
   "metadata": {
    "collapsed": false
   },
   "outputs": [
    {
     "data": {
      "text/plain": [
       "array([[4.03334434, 0.06890593],\n",
       "       [3.44447653, 0.07016332],\n",
       "       [3.85225066, 0.06921807],\n",
       "       [3.0296313 , 0.07483795],\n",
       "       [5.68267915, 0.07326189]])"
      ]
     },
     "execution_count": 148,
     "metadata": {},
     "output_type": "execute_result"
    }
   ],
   "source": [
    "gwr.params[0:5]"
   ]
  },
  {
   "cell_type": "code",
   "execution_count": 149,
   "metadata": {
    "collapsed": false
   },
   "outputs": [],
   "source": [
    "#MGWR hat matrix\n",
    "S = selector.bw[-1]\n",
    "\n",
    "#lets manually compute sigma**2. We can define it based on H+T or as that from GWR\n",
    "sigma1 = gwr.resid_ss / np.trace(np.dot(S, S.T))\n",
    "sigma2 = gwr.resid_ss / (len(gwr.model.y) - (2*np.trace(S)) + np.trace(np.dot(S.T, S)))"
   ]
  },
  {
   "cell_type": "code",
   "execution_count": 150,
   "metadata": {
    "collapsed": false
   },
   "outputs": [
    {
     "data": {
      "text/plain": [
       "(23.228755996597254, 841.2714610691412, 23.394349843221303)"
      ]
     },
     "execution_count": 150,
     "metadata": {},
     "output_type": "execute_result"
    }
   ],
   "source": [
    "#GWR vs MGWR for sigma**2\n",
    "results.sigma2_v1v2, sigma1, sigma2"
   ]
  },
  {
   "cell_type": "code",
   "execution_count": 151,
   "metadata": {
    "collapsed": false
   },
   "outputs": [
    {
     "data": {
      "text/plain": [
       "array([[0.55407423, 0.0094543 ],\n",
       "       [0.46580558, 0.00873035],\n",
       "       [0.52377   , 0.00919138],\n",
       "       [0.42558204, 0.00900781],\n",
       "       [0.34132921, 0.00832654]])"
      ]
     },
     "execution_count": 151,
     "metadata": {},
     "output_type": "execute_result"
    }
   ],
   "source": [
    "#GWR standard errors\n",
    "results.bse[0:5]"
   ]
  },
  {
   "cell_type": "code",
   "execution_count": 152,
   "metadata": {
    "collapsed": false
   },
   "outputs": [
    {
     "data": {
      "text/plain": [
       "array([[1.71969794, 3.46334654],\n",
       "       [3.74559544, 4.42224048],\n",
       "       [0.69573198, 2.78461077],\n",
       "       [0.24394397, 4.69218778],\n",
       "       [2.699523  , 1.95399106]])"
      ]
     },
     "execution_count": 152,
     "metadata": {},
     "output_type": "execute_result"
    }
   ],
   "source": [
    "#MGWR standard errors according to H+T\n",
    "S_0 = gwr.S[0]\n",
    "S_1 = gwr.S[1]\n",
    "bse0 = np.sqrt(np.diag(np.dot(S_0, S_0.T)*sigma1)).reshape((-1,1))\n",
    "bse1 = np.sqrt(np.diag(np.dot(S_1, S_1.T)*sigma1)).reshape((-1,1))\n",
    "\n",
    "bse = np.hstack([bse0, bse1])\n",
    "\n",
    "bse[0:5]"
   ]
  },
  {
   "cell_type": "code",
   "execution_count": 153,
   "metadata": {
    "collapsed": false
   },
   "outputs": [
    {
     "data": {
      "text/plain": [
       "array([[0.28677387, 0.57754172],\n",
       "       [0.62460906, 0.73744523],\n",
       "       [0.11601907, 0.46435691],\n",
       "       [0.04067968, 0.78246117],\n",
       "       [0.45016782, 0.32584419]])"
      ]
     },
     "execution_count": 153,
     "metadata": {},
     "output_type": "execute_result"
    }
   ],
   "source": [
    "#MGWR standard errors according to H+T but using GWR type DOF\n",
    "S_0 = gwr.S[0]\n",
    "S_1 = gwr.S[1]\n",
    "bse0 = np.sqrt(np.diag(np.dot(S_0, S_0.T)*sigma2)).reshape((-1,1))\n",
    "bse1 = np.sqrt(np.diag(np.dot(S_1, S_1.T)*sigma2)).reshape((-1,1))\n",
    "\n",
    "bse = np.hstack([bse0, bse1])\n",
    "\n",
    "bse[0:5]"
   ]
  },
  {
   "cell_type": "code",
   "execution_count": 154,
   "metadata": {
    "collapsed": false
   },
   "outputs": [
    {
     "data": {
      "text/plain": [
       "array([[0.24091971, 0.00803093],\n",
       "       [0.49676555, 0.01018216],\n",
       "       [0.09526546, 0.00638057],\n",
       "       [0.02577187, 0.01117829],\n",
       "       [0.36687855, 0.00481712]])"
      ]
     },
     "execution_count": 154,
     "metadata": {},
     "output_type": "execute_result"
    }
   ],
   "source": [
    "#MGWR standard errors according to H+T and using Hanchen's suggestion to factor out Xj\n",
    "X_0 = gwr.model.X[:,0]\n",
    "S_0 = gwr.S[0]\n",
    "S_0 = np.linalg.inv(np.diag(X_0)) * S_0\n",
    "X_1 = gwr.model.X[:,1]\n",
    "S_1 = gwr.S[1]\n",
    "S_1 = np.linalg.inv(np.diag(X_1)) * S_1\n",
    "\n",
    "bse0 = np.sqrt(np.diag(np.dot(S_0, S_0.T)*sigma1)).reshape((-1,1))\n",
    "bse1 = np.sqrt(np.diag(np.dot(S_1, S_1.T)*sigma1)).reshape((-1,1))\n",
    "\n",
    "bse = np.hstack([bse0, bse1])\n",
    "\n",
    "bse[0:5]"
   ]
  },
  {
   "cell_type": "code",
   "execution_count": 155,
   "metadata": {
    "collapsed": false
   },
   "outputs": [
    {
     "data": {
      "text/plain": [
       "array([[0.04017536, 0.00133922],\n",
       "       [0.08283977, 0.00169796],\n",
       "       [0.0158863 , 0.00106401],\n",
       "       [0.00429767, 0.00186407],\n",
       "       [0.06118004, 0.00080329]])"
      ]
     },
     "execution_count": 155,
     "metadata": {},
     "output_type": "execute_result"
    }
   ],
   "source": [
    "#MGWR standard errors according to H+T but using GWR type DOF and using Hanchen's suggestion to factor out Xj\n",
    "X_0 = gwr.model.X[:,0]\n",
    "S_0 = gwr.S[0]\n",
    "S_0 = np.linalg.inv(np.diag(X_0)) * S_0\n",
    "X_1 = gwr.model.X[:,1]\n",
    "S_1 = gwr.S[1]\n",
    "S_1 = np.linalg.inv(np.diag(X_1)) * S_1\n",
    "\n",
    "bse0 = np.sqrt(np.diag(np.dot(S_0, S_0.T)*sigma2)).reshape((-1,1))\n",
    "bse1 = np.sqrt(np.diag(np.dot(S_1, S_1.T)*sigma2)).reshape((-1,1))\n",
    "\n",
    "bse = np.hstack([bse0, bse1])\n",
    "\n",
    "bse[0:5]"
   ]
  },
  {
   "cell_type": "code",
   "execution_count": 156,
   "metadata": {
    "collapsed": false
   },
   "outputs": [
    {
     "data": {
      "text/plain": [
       "array([[0.44233896, 0.00754668],\n",
       "       [0.39025347, 0.00728491],\n",
       "       [0.42419076, 0.00743466],\n",
       "       [0.36507357, 0.0077296 ],\n",
       "       [0.31076635, 0.00753835]])"
      ]
     },
     "execution_count": 156,
     "metadata": {},
     "output_type": "execute_result"
    }
   ],
   "source": [
    "#MGWR standard errors if we just pull out the individual GWR standard error for the single component\n",
    "np.hstack([gwr.SE[0], gwr.SE[1]])[0:5]"
   ]
  },
  {
   "cell_type": "code",
   "execution_count": 157,
   "metadata": {
    "collapsed": true
   },
   "outputs": [],
   "source": [
    "#Now lets try with adding in a constant"
   ]
  },
  {
   "cell_type": "code",
   "execution_count": 240,
   "metadata": {
    "collapsed": true
   },
   "outputs": [],
   "source": [
    "data = ps.open(ps.examples.get_path('GData_utm.csv'))\n",
    "\n",
    "\n",
    "y = np.array(data.by_col['PctBach']).reshape((-1,1))\n",
    "#pov = np.array(data.by_col['PctPov']).reshape((-1,1))\n",
    "rural = np.array(data.by_col['PctRural']).reshape((-1,1))\n",
    "#black = np.array(data.by_col['PctBlack']).reshape((-1,1))\n",
    "fb = np.array(data.by_col['PctFB']).reshape((-1,1))\n",
    "\n",
    "X = np.hstack([fb, rural])\n",
    "\n",
    "#Coordinates for calibration points\n",
    "u = data.by_col['X']\n",
    "v = data.by_col['Y']\n",
    "coords = zip(u,v)"
   ]
  },
  {
   "cell_type": "code",
   "execution_count": 241,
   "metadata": {
    "collapsed": false
   },
   "outputs": [
    {
     "data": {
      "text/html": [
       "<table class=\"simpletable\">\n",
       "<caption>OLS Regression Results</caption>\n",
       "<tr>\n",
       "  <th>Dep. Variable:</th>            <td>y</td>        <th>  R-squared:         </th> <td>   0.542</td>\n",
       "</tr>\n",
       "<tr>\n",
       "  <th>Model:</th>                   <td>OLS</td>       <th>  Adj. R-squared:    </th> <td>   0.536</td>\n",
       "</tr>\n",
       "<tr>\n",
       "  <th>Method:</th>             <td>Least Squares</td>  <th>  F-statistic:       </th> <td>   92.19</td>\n",
       "</tr>\n",
       "<tr>\n",
       "  <th>Date:</th>             <td>Tue, 20 Mar 2018</td> <th>  Prob (F-statistic):</th> <td>3.71e-27</td>\n",
       "</tr>\n",
       "<tr>\n",
       "  <th>Time:</th>                 <td>12:42:25</td>     <th>  Log-Likelihood:    </th> <td> -439.73</td>\n",
       "</tr>\n",
       "<tr>\n",
       "  <th>No. Observations:</th>      <td>   159</td>      <th>  AIC:               </th> <td>   885.5</td>\n",
       "</tr>\n",
       "<tr>\n",
       "  <th>Df Residuals:</th>          <td>   156</td>      <th>  BIC:               </th> <td>   894.7</td>\n",
       "</tr>\n",
       "<tr>\n",
       "  <th>Df Model:</th>              <td>     2</td>      <th>                     </th>     <td> </td>   \n",
       "</tr>\n",
       "<tr>\n",
       "  <th>Covariance Type:</th>      <td>nonrobust</td>    <th>                     </th>     <td> </td>   \n",
       "</tr>\n",
       "</table>\n",
       "<table class=\"simpletable\">\n",
       "<tr>\n",
       "    <td></td>       <th>coef</th>     <th>std err</th>      <th>t</th>      <th>P>|t|</th>  <th>[0.025</th>    <th>0.975]</th>  \n",
       "</tr>\n",
       "<tr>\n",
       "  <th>const</th> <td>   13.7589</td> <td>    1.214</td> <td>   11.336</td> <td> 0.000</td> <td>   11.361</td> <td>   16.156</td>\n",
       "</tr>\n",
       "<tr>\n",
       "  <th>x1</th>    <td>    2.1927</td> <td>    0.298</td> <td>    7.350</td> <td> 0.000</td> <td>    1.603</td> <td>    2.782</td>\n",
       "</tr>\n",
       "<tr>\n",
       "  <th>x2</th>    <td>   -0.0754</td> <td>    0.014</td> <td>   -5.541</td> <td> 0.000</td> <td>   -0.102</td> <td>   -0.049</td>\n",
       "</tr>\n",
       "</table>\n",
       "<table class=\"simpletable\">\n",
       "<tr>\n",
       "  <th>Omnibus:</th>       <td>55.516</td> <th>  Durbin-Watson:     </th> <td>   1.932</td>\n",
       "</tr>\n",
       "<tr>\n",
       "  <th>Prob(Omnibus):</th> <td> 0.000</td> <th>  Jarque-Bera (JB):  </th> <td> 242.124</td>\n",
       "</tr>\n",
       "<tr>\n",
       "  <th>Skew:</th>          <td> 1.215</td> <th>  Prob(JB):          </th> <td>2.65e-53</td>\n",
       "</tr>\n",
       "<tr>\n",
       "  <th>Kurtosis:</th>      <td> 8.536</td> <th>  Cond. No.          </th> <td>    301.</td>\n",
       "</tr>\n",
       "</table>"
      ],
      "text/plain": [
       "<class 'statsmodels.iolib.summary.Summary'>\n",
       "\"\"\"\n",
       "                            OLS Regression Results                            \n",
       "==============================================================================\n",
       "Dep. Variable:                      y   R-squared:                       0.542\n",
       "Model:                            OLS   Adj. R-squared:                  0.536\n",
       "Method:                 Least Squares   F-statistic:                     92.19\n",
       "Date:                Tue, 20 Mar 2018   Prob (F-statistic):           3.71e-27\n",
       "Time:                        12:42:25   Log-Likelihood:                -439.73\n",
       "No. Observations:                 159   AIC:                             885.5\n",
       "Df Residuals:                     156   BIC:                             894.7\n",
       "Df Model:                           2                                         \n",
       "Covariance Type:            nonrobust                                         \n",
       "==============================================================================\n",
       "                 coef    std err          t      P>|t|      [0.025      0.975]\n",
       "------------------------------------------------------------------------------\n",
       "const         13.7589      1.214     11.336      0.000      11.361      16.156\n",
       "x1             2.1927      0.298      7.350      0.000       1.603       2.782\n",
       "x2            -0.0754      0.014     -5.541      0.000      -0.102      -0.049\n",
       "==============================================================================\n",
       "Omnibus:                       55.516   Durbin-Watson:                   1.932\n",
       "Prob(Omnibus):                  0.000   Jarque-Bera (JB):              242.124\n",
       "Skew:                           1.215   Prob(JB):                     2.65e-53\n",
       "Kurtosis:                       8.536   Cond. No.                         301.\n",
       "==============================================================================\n",
       "\n",
       "Warnings:\n",
       "[1] Standard Errors assume that the covariance matrix of the errors is correctly specified.\n",
       "\"\"\""
      ]
     },
     "execution_count": 241,
     "metadata": {},
     "output_type": "execute_result"
    }
   ],
   "source": [
    "smf.OLS(y, add_constant(X)).fit().summary()"
   ]
  },
  {
   "cell_type": "code",
   "execution_count": 242,
   "metadata": {
    "collapsed": false
   },
   "outputs": [
    {
     "name": "stdout",
     "output_type": "stream",
     "text": [
      "116.0\n"
     ]
    }
   ],
   "source": [
    "\n",
    "sel = Sel_BW(coords, y, X)\n",
    "\n",
    "bw = sel.search()\n",
    "print bw\n",
    "results = GWR(coords, y, X, bw).fit()"
   ]
  },
  {
   "cell_type": "code",
   "execution_count": 243,
   "metadata": {
    "collapsed": false
   },
   "outputs": [
    {
     "data": {
      "text/plain": [
       "array([[14.89171769,  1.00531085, -0.09052556],\n",
       "       [14.90243157,  0.68375976, -0.08828597],\n",
       "       [14.95911994,  0.88789566, -0.09068385],\n",
       "       [14.36068699,  0.64815011, -0.0756069 ],\n",
       "       [11.18322329,  3.53249027, -0.04908478]])"
      ]
     },
     "execution_count": 243,
     "metadata": {},
     "output_type": "execute_result"
    }
   ],
   "source": [
    "results.params[0:5]"
   ]
  },
  {
   "cell_type": "code",
   "execution_count": 244,
   "metadata": {
    "collapsed": false
   },
   "outputs": [],
   "source": [
    "selector = Sel_BW(coords, y, X, multi=True)\n",
    "bw = selector.search(bw_min=116, bw_max=116, tol_multi=.00001)\n",
    "err = selector.err\n",
    "XB = selector.XB\n",
    "gwr = MGWR(coords, y, X, bw, XB, err).fit()"
   ]
  },
  {
   "cell_type": "code",
   "execution_count": 245,
   "metadata": {
    "collapsed": false
   },
   "outputs": [
    {
     "name": "stdout",
     "output_type": "stream",
     "text": [
      "[116.0, 116.0, 116.0]\n"
     ]
    }
   ],
   "source": [
    "print gwr.model.bws"
   ]
  },
  {
   "cell_type": "code",
   "execution_count": 246,
   "metadata": {
    "collapsed": false
   },
   "outputs": [
    {
     "data": {
      "text/plain": [
       "array([[12.69228613,  1.44645508, -0.06932414],\n",
       "       [12.66488349,  1.15750432, -0.06858848],\n",
       "       [12.6869407 ,  1.35180529, -0.06917044],\n",
       "       [12.68413603,  1.05254214, -0.06386853],\n",
       "       [13.00327741,  3.07701635, -0.06428163]])"
      ]
     },
     "execution_count": 246,
     "metadata": {},
     "output_type": "execute_result"
    }
   ],
   "source": [
    "gwr.params[0:5]"
   ]
  },
  {
   "cell_type": "code",
   "execution_count": 247,
   "metadata": {
    "collapsed": false
   },
   "outputs": [],
   "source": [
    "#MGWR hat matrix\n",
    "S = selector.bw[-1]\n",
    "\n",
    "#lets manually compute sigma**2. We can define it based on H+T or as that from GWR\n",
    "sigma1 = gwr.resid_ss / np.trace(np.dot(S, S.T))\n",
    "sigma2 = gwr.resid_ss / (len(gwr.model.y) - (2*np.trace(S)) + np.trace(np.dot(S.T, S)))"
   ]
  },
  {
   "cell_type": "code",
   "execution_count": 248,
   "metadata": {
    "collapsed": false
   },
   "outputs": [
    {
     "data": {
      "text/plain": [
       "(11.565017720788457, 287.40196998705403, 11.611276586360756)"
      ]
     },
     "execution_count": 248,
     "metadata": {},
     "output_type": "execute_result"
    }
   ],
   "source": [
    "#GWR vs MGWR for sigma**2\n",
    "results.sigma2_v1v2, sigma1, sigma2"
   ]
  },
  {
   "cell_type": "code",
   "execution_count": 249,
   "metadata": {
    "collapsed": false
   },
   "outputs": [
    {
     "data": {
      "text/plain": [
       "array([[1.51548627, 0.51691193, 0.01729984],\n",
       "       [1.39609778, 0.41515309, 0.01635002],\n",
       "       [1.46518838, 0.48102361, 0.0168942 ],\n",
       "       [1.51082863, 0.38324097, 0.01782204],\n",
       "       [1.70691315, 0.39529175, 0.01921924]])"
      ]
     },
     "execution_count": 249,
     "metadata": {},
     "output_type": "execute_result"
    }
   ],
   "source": [
    "#GWR standard errors\n",
    "results.bse[0:5]"
   ]
  },
  {
   "cell_type": "code",
   "execution_count": 250,
   "metadata": {
    "collapsed": false
   },
   "outputs": [
    {
     "data": {
      "text/plain": [
       "array([[1.96407491, 1.00514557, 2.02429005],\n",
       "       [1.90732819, 2.1892616 , 2.5847536 ],\n",
       "       [1.93549612, 0.40664811, 1.62757605],\n",
       "       [2.02879045, 0.14258271, 2.74253499],\n",
       "       [1.97758725, 1.57784313, 1.14208746]])"
      ]
     },
     "execution_count": 250,
     "metadata": {},
     "output_type": "execute_result"
    }
   ],
   "source": [
    "#MGWR standard errors according to H+T\n",
    "S_0 = gwr.S[0]\n",
    "S_1 = gwr.S[1]\n",
    "S_2 = gwr.S[2]\n",
    "bse0 = np.sqrt(np.diag(np.dot(S_0, S_0.T)*sigma1)).reshape((-1,1))\n",
    "bse1 = np.sqrt(np.diag(np.dot(S_1, S_1.T)*sigma1)).reshape((-1,1))\n",
    "bse2 = np.sqrt(np.diag(np.dot(S_2, S_2.T)*sigma1)).reshape((-1,1))\n",
    "\n",
    "\n",
    "bse = np.hstack([bse0, bse1, bse2])\n",
    "\n",
    "bse[0:5]"
   ]
  },
  {
   "cell_type": "code",
   "execution_count": 251,
   "metadata": {
    "collapsed": false
   },
   "outputs": [
    {
     "data": {
      "text/plain": [
       "array([[0.3947782 , 0.20203382, 0.40688142],\n",
       "       [0.38337213, 0.44004063, 0.51953435],\n",
       "       [0.38903388, 0.08173609, 0.32714208],\n",
       "       [0.407786  , 0.02865906, 0.55124834],\n",
       "       [0.39749417, 0.31714578, 0.22955908]])"
      ]
     },
     "execution_count": 251,
     "metadata": {},
     "output_type": "execute_result"
    }
   ],
   "source": [
    "#MGWR standard errors according to H+T but using GWR type DOF\n",
    "S_0 = gwr.S[0]\n",
    "S_1 = gwr.S[1]\n",
    "S_2 = gwr.S[2]\n",
    "bse0 = np.sqrt(np.diag(np.dot(S_0, S_0.T)*sigma2)).reshape((-1,1))\n",
    "bse1 = np.sqrt(np.diag(np.dot(S_1, S_1.T)*sigma2)).reshape((-1,1))\n",
    "bse2 = np.sqrt(np.diag(np.dot(S_2, S_2.T)*sigma2)).reshape((-1,1))\n",
    "\n",
    "\n",
    "bse = np.hstack([bse0, bse1, bse2])\n",
    "\n",
    "bse[0:5]"
   ]
  },
  {
   "cell_type": "code",
   "execution_count": 252,
   "metadata": {
    "collapsed": false
   },
   "outputs": [
    {
     "data": {
      "text/plain": [
       "array([[0.33424266, 0.14081507, 0.00469399],\n",
       "       [0.31786451, 0.2903543 , 0.00595136],\n",
       "       [0.32419619, 0.05568167, 0.00372938],\n",
       "       [0.35370109, 0.01506339, 0.00653359],\n",
       "       [0.37472465, 0.2144367 , 0.00281555]])"
      ]
     },
     "execution_count": 252,
     "metadata": {},
     "output_type": "execute_result"
    }
   ],
   "source": [
    "#MGWR standard errors according to H+T and using Hanchen's suggestion to factor out Xj\n",
    "X_0 = gwr.model.X[:,0]\n",
    "S_0 = gwr.S[0]\n",
    "S_0 = np.linalg.inv(np.diag(X_0)) * S_0\n",
    "X_1 = gwr.model.X[:,1]\n",
    "S_1 = gwr.S[1]\n",
    "S_1 = np.linalg.inv(np.diag(X_1)) * S_1\n",
    "X_2 = gwr.model.X[:,2]\n",
    "S_2 = gwr.S[2]\n",
    "S_2 = np.linalg.inv(np.diag(X_2)) * S_2\n",
    "\n",
    "bse0 = np.sqrt(np.diag(np.dot(S_0, S_0.T)*sigma1)).reshape((-1,1))\n",
    "bse1 = np.sqrt(np.diag(np.dot(S_1, S_1.T)*sigma1)).reshape((-1,1))\n",
    "bse2 = np.sqrt(np.diag(np.dot(S_2, S_2.T)*sigma1)).reshape((-1,1))\n",
    "\n",
    "\n",
    "bse = np.hstack([bse0, bse1, bse2])\n",
    "\n",
    "bse[0:5]"
   ]
  },
  {
   "cell_type": "code",
   "execution_count": 253,
   "metadata": {
    "collapsed": false
   },
   "outputs": [
    {
     "data": {
      "text/plain": [
       "array([[0.06718263, 0.02830377, 0.00094349],\n",
       "       [0.06389063, 0.05836109, 0.00119622],\n",
       "       [0.06516329, 0.01119199, 0.0007496 ],\n",
       "       [0.07109376, 0.00302774, 0.00131325],\n",
       "       [0.07531949, 0.04310168, 0.00056593]])"
      ]
     },
     "execution_count": 253,
     "metadata": {},
     "output_type": "execute_result"
    }
   ],
   "source": [
    "#MGWR standard errors according to H+T but using GWR type DOF and using Hanchen's suggestion to factor out Xj\n",
    "X_0 = gwr.model.X[:,0]\n",
    "S_0 = gwr.S[0]\n",
    "S_0 = np.linalg.inv(np.diag(X_0)) * S_0\n",
    "X_1 = gwr.model.X[:,1]\n",
    "S_1 = gwr.S[1]\n",
    "S_1 = np.linalg.inv(np.diag(X_1)) * S_1\n",
    "X_2 = gwr.model.X[:,2]\n",
    "S_2 = gwr.S[2]\n",
    "S_2 = np.linalg.inv(np.diag(X_2)) * S_2\n",
    "\n",
    "bse0 = np.sqrt(np.diag(np.dot(S_0, S_0.T)*sigma2)).reshape((-1,1))\n",
    "bse1 = np.sqrt(np.diag(np.dot(S_1, S_1.T)*sigma2)).reshape((-1,1))\n",
    "bse2 = np.sqrt(np.diag(np.dot(S_2, S_2.T)*sigma2)).reshape((-1,1))\n",
    "\n",
    "\n",
    "bse = np.hstack([bse0, bse1, bse2])\n",
    "\n",
    "bse[0:5]"
   ]
  },
  {
   "cell_type": "code",
   "execution_count": 254,
   "metadata": {
    "collapsed": false
   },
   "outputs": [
    {
     "data": {
      "text/plain": [
       "array([[0.38743249, 0.30962013, 0.00528237],\n",
       "       [0.37623866, 0.27316231, 0.00509914],\n",
       "       [0.38179505, 0.29691709, 0.00520396],\n",
       "       [0.40019825, 0.25553735, 0.00541041],\n",
       "       [0.39009793, 0.2175244 , 0.00527654]])"
      ]
     },
     "execution_count": 254,
     "metadata": {},
     "output_type": "execute_result"
    }
   ],
   "source": [
    "#MGWR standard errors if we just pull out the individual GWR standard error for the single component\n",
    "np.hstack([gwr.SE[0], gwr.SE[1], gwr.SE[2]])[0:5]"
   ]
  },
  {
   "cell_type": "code",
   "execution_count": 255,
   "metadata": {
    "collapsed": true
   },
   "outputs": [],
   "source": [
    "#Finally, lets try this with a constant but with standardized variables"
   ]
  },
  {
   "cell_type": "code",
   "execution_count": 256,
   "metadata": {
    "collapsed": true
   },
   "outputs": [],
   "source": [
    "data = ps.open(ps.examples.get_path('GData_utm.csv'))\n",
    "\n",
    "\n",
    "y = np.array(data.by_col['PctBach']).reshape((-1,1))\n",
    "#pov = np.array(data.by_col['PctPov']).reshape((-1,1))\n",
    "rural = np.array(data.by_col['PctRural']).reshape((-1,1))\n",
    "#black = np.array(data.by_col['PctBlack']).reshape((-1,1))\n",
    "fb = np.array(data.by_col['PctFB']).reshape((-1,1))\n",
    "\n",
    "X = np.hstack([fb, rural])\n",
    "\n",
    "#Coordinates for calibration points\n",
    "u = data.by_col['X']\n",
    "v = data.by_col['Y']\n",
    "coords = zip(u,v)\n",
    "\n",
    "X = (X - X.mean()) / X.std()\n",
    "y = (y - y.mean()) / y.std()"
   ]
  },
  {
   "cell_type": "code",
   "execution_count": 257,
   "metadata": {
    "collapsed": false
   },
   "outputs": [
    {
     "data": {
      "text/html": [
       "<table class=\"simpletable\">\n",
       "<caption>OLS Regression Results</caption>\n",
       "<tr>\n",
       "  <th>Dep. Variable:</th>            <td>y</td>        <th>  R-squared:         </th> <td>   0.542</td>\n",
       "</tr>\n",
       "<tr>\n",
       "  <th>Model:</th>                   <td>OLS</td>       <th>  Adj. R-squared:    </th> <td>   0.536</td>\n",
       "</tr>\n",
       "<tr>\n",
       "  <th>Method:</th>             <td>Least Squares</td>  <th>  F-statistic:       </th> <td>   92.19</td>\n",
       "</tr>\n",
       "<tr>\n",
       "  <th>Date:</th>             <td>Tue, 20 Mar 2018</td> <th>  Prob (F-statistic):</th> <td>3.71e-27</td>\n",
       "</tr>\n",
       "<tr>\n",
       "  <th>Time:</th>                 <td>12:42:32</td>     <th>  Log-Likelihood:    </th> <td> -163.58</td>\n",
       "</tr>\n",
       "<tr>\n",
       "  <th>No. Observations:</th>      <td>   159</td>      <th>  AIC:               </th> <td>   333.2</td>\n",
       "</tr>\n",
       "<tr>\n",
       "  <th>Df Residuals:</th>          <td>   156</td>      <th>  BIC:               </th> <td>   342.4</td>\n",
       "</tr>\n",
       "<tr>\n",
       "  <th>Df Model:</th>              <td>     2</td>      <th>                     </th>     <td> </td>   \n",
       "</tr>\n",
       "<tr>\n",
       "  <th>Covariance Type:</th>      <td>nonrobust</td>    <th>                     </th>     <td> </td>   \n",
       "</tr>\n",
       "</table>\n",
       "<table class=\"simpletable\">\n",
       "<tr>\n",
       "    <td></td>       <th>coef</th>     <th>std err</th>      <th>t</th>      <th>P>|t|</th>  <th>[0.025</th>    <th>0.975]</th>  \n",
       "</tr>\n",
       "<tr>\n",
       "  <th>const</th> <td>   13.7881</td> <td>    1.770</td> <td>    7.788</td> <td> 0.000</td> <td>   10.291</td> <td>   17.285</td>\n",
       "</tr>\n",
       "<tr>\n",
       "  <th>x1</th>    <td>   15.2377</td> <td>    2.073</td> <td>    7.350</td> <td> 0.000</td> <td>   11.143</td> <td>   19.333</td>\n",
       "</tr>\n",
       "<tr>\n",
       "  <th>x2</th>    <td>   -0.5240</td> <td>    0.095</td> <td>   -5.541</td> <td> 0.000</td> <td>   -0.711</td> <td>   -0.337</td>\n",
       "</tr>\n",
       "</table>\n",
       "<table class=\"simpletable\">\n",
       "<tr>\n",
       "  <th>Omnibus:</th>       <td>55.516</td> <th>  Durbin-Watson:     </th> <td>   1.932</td>\n",
       "</tr>\n",
       "<tr>\n",
       "  <th>Prob(Omnibus):</th> <td> 0.000</td> <th>  Jarque-Bera (JB):  </th> <td> 242.124</td>\n",
       "</tr>\n",
       "<tr>\n",
       "  <th>Skew:</th>          <td> 1.215</td> <th>  Prob(JB):          </th> <td>2.65e-53</td>\n",
       "</tr>\n",
       "<tr>\n",
       "  <th>Kurtosis:</th>      <td> 8.536</td> <th>  Cond. No.          </th> <td>    82.6</td>\n",
       "</tr>\n",
       "</table>"
      ],
      "text/plain": [
       "<class 'statsmodels.iolib.summary.Summary'>\n",
       "\"\"\"\n",
       "                            OLS Regression Results                            \n",
       "==============================================================================\n",
       "Dep. Variable:                      y   R-squared:                       0.542\n",
       "Model:                            OLS   Adj. R-squared:                  0.536\n",
       "Method:                 Least Squares   F-statistic:                     92.19\n",
       "Date:                Tue, 20 Mar 2018   Prob (F-statistic):           3.71e-27\n",
       "Time:                        12:42:32   Log-Likelihood:                -163.58\n",
       "No. Observations:                 159   AIC:                             333.2\n",
       "Df Residuals:                     156   BIC:                             342.4\n",
       "Df Model:                           2                                         \n",
       "Covariance Type:            nonrobust                                         \n",
       "==============================================================================\n",
       "                 coef    std err          t      P>|t|      [0.025      0.975]\n",
       "------------------------------------------------------------------------------\n",
       "const         13.7881      1.770      7.788      0.000      10.291      17.285\n",
       "x1            15.2377      2.073      7.350      0.000      11.143      19.333\n",
       "x2            -0.5240      0.095     -5.541      0.000      -0.711      -0.337\n",
       "==============================================================================\n",
       "Omnibus:                       55.516   Durbin-Watson:                   1.932\n",
       "Prob(Omnibus):                  0.000   Jarque-Bera (JB):              242.124\n",
       "Skew:                           1.215   Prob(JB):                     2.65e-53\n",
       "Kurtosis:                       8.536   Cond. No.                         82.6\n",
       "==============================================================================\n",
       "\n",
       "Warnings:\n",
       "[1] Standard Errors assume that the covariance matrix of the errors is correctly specified.\n",
       "\"\"\""
      ]
     },
     "execution_count": 257,
     "metadata": {},
     "output_type": "execute_result"
    }
   ],
   "source": [
    "smf.OLS(y, add_constant(X)).fit().summary()"
   ]
  },
  {
   "cell_type": "code",
   "execution_count": 258,
   "metadata": {
    "collapsed": false
   },
   "outputs": [
    {
     "name": "stdout",
     "output_type": "stream",
     "text": [
      "116.0\n"
     ]
    }
   ],
   "source": [
    "\n",
    "sel = Sel_BW(coords, y, X)\n",
    "\n",
    "bw = sel.search()\n",
    "print bw\n",
    "results = GWR(coords, y, X, bw).fit()"
   ]
  },
  {
   "cell_type": "code",
   "execution_count": 259,
   "metadata": {
    "collapsed": false
   },
   "outputs": [
    {
     "data": {
      "text/plain": [
       "array([[ 6.43794765,  6.98627247, -0.6290952 ],\n",
       "       [ 4.43507389,  4.75169646, -0.61353149],\n",
       "       [ 5.71164464,  6.17031141, -0.63019523],\n",
       "       [ 4.19571403,  4.50423195, -0.52541996],\n",
       "       [21.91172376, 24.54856585, -0.34110805]])"
      ]
     },
     "execution_count": 259,
     "metadata": {},
     "output_type": "execute_result"
    }
   ],
   "source": [
    "results.params[0:5]"
   ]
  },
  {
   "cell_type": "code",
   "execution_count": 260,
   "metadata": {
    "collapsed": false
   },
   "outputs": [],
   "source": [
    "selector = Sel_BW(coords, y, X, multi=True)\n",
    "bw = selector.search(bw_min=116, bw_max=116, tol_multi=.00001)\n",
    "err = selector.err\n",
    "XB = selector.XB\n",
    "gwr = MGWR(coords, y, X, bw, XB, err).fit()"
   ]
  },
  {
   "cell_type": "code",
   "execution_count": 261,
   "metadata": {
    "collapsed": false
   },
   "outputs": [
    {
     "name": "stdout",
     "output_type": "stream",
     "text": [
      "[116.0, 116.0, 116.0]\n"
     ]
    }
   ],
   "source": [
    "print gwr.model.bws"
   ]
  },
  {
   "cell_type": "code",
   "execution_count": 262,
   "metadata": {
    "collapsed": false
   },
   "outputs": [
    {
     "data": {
      "text/plain": [
       "array([[14.94031916, 16.77654707, -0.5461347 ],\n",
       "       [14.91127895, 16.80255771, -0.53373777],\n",
       "       [14.93091434, 16.78495429, -0.54377117],\n",
       "       [14.90128811, 16.80653358, -0.45013835],\n",
       "       [15.11982444, 16.60979377, -0.5242825 ]])"
      ]
     },
     "execution_count": 262,
     "metadata": {},
     "output_type": "execute_result"
    }
   ],
   "source": [
    "gwr.params[0:5]"
   ]
  },
  {
   "cell_type": "code",
   "execution_count": 263,
   "metadata": {
    "collapsed": false
   },
   "outputs": [],
   "source": [
    "#MGWR hat matrix\n",
    "S = selector.bw[-1]\n",
    "\n",
    "#lets manually compute sigma**2. We can define it based on H+T or as that from GWR\n",
    "sigma1 = gwr.resid_ss / np.trace(np.dot(S, S.T))\n",
    "sigma2 = gwr.resid_ss / (len(gwr.model.y) - (2*np.trace(S)) + np.trace(np.dot(S.T, S)))"
   ]
  },
  {
   "cell_type": "code",
   "execution_count": 264,
   "metadata": {
    "collapsed": false
   },
   "outputs": [
    {
     "data": {
      "text/plain": [
       "(0.35858238770583906, 11.023087731791867, 0.42722706487641793)"
      ]
     },
     "execution_count": 264,
     "metadata": {},
     "output_type": "execute_result"
    }
   ],
   "source": [
    "#GWR vs MGWR for sigma**2\n",
    "results.sigma2_v1v2, sigma1, sigma2"
   ]
  },
  {
   "cell_type": "code",
   "execution_count": 265,
   "metadata": {
    "collapsed": false
   },
   "outputs": [
    {
     "data": {
      "text/plain": [
       "array([[3.11948908, 3.59220989, 0.12022288],\n",
       "       [2.50026944, 2.88505052, 0.11362229],\n",
       "       [2.90158004, 3.34280886, 0.11740394],\n",
       "       [2.29309935, 2.66328155, 0.12385184],\n",
       "       [2.3275286 , 2.74702682, 0.13356154]])"
      ]
     },
     "execution_count": 265,
     "metadata": {},
     "output_type": "execute_result"
    }
   ],
   "source": [
    "#GWR standard errors\n",
    "results.bse[0:5]"
   ]
  },
  {
   "cell_type": "code",
   "execution_count": 266,
   "metadata": {
    "collapsed": false
   },
   "outputs": [
    {
     "data": {
      "text/plain": [
       "array([[0.38464918, 0.38768027, 0.36856511],\n",
       "       [0.37353576, 0.36660641, 0.57033735],\n",
       "       [0.37905224, 0.3861454 , 0.23662455],\n",
       "       [0.39732323, 0.40760734, 0.60419175],\n",
       "       [0.38729547, 0.38381436, 0.06335296]])"
      ]
     },
     "execution_count": 266,
     "metadata": {},
     "output_type": "execute_result"
    }
   ],
   "source": [
    "#MGWR standard errors according to H+T\n",
    "S_0 = gwr.S[0]\n",
    "S_1 = gwr.S[1]\n",
    "S_2 = gwr.S[2]\n",
    "bse0 = np.sqrt(np.diag(np.dot(S_0, S_0.T)*sigma1)).reshape((-1,1))\n",
    "bse1 = np.sqrt(np.diag(np.dot(S_1, S_1.T)*sigma1)).reshape((-1,1))\n",
    "bse2 = np.sqrt(np.diag(np.dot(S_2, S_2.T)*sigma1)).reshape((-1,1))\n",
    "\n",
    "\n",
    "bse = np.hstack([bse0, bse1, bse2])\n",
    "\n",
    "bse[0:5]"
   ]
  },
  {
   "cell_type": "code",
   "execution_count": 267,
   "metadata": {
    "collapsed": false
   },
   "outputs": [
    {
     "data": {
      "text/plain": [
       "array([[0.07572557, 0.0763223 , 0.07255911],\n",
       "       [0.07353768, 0.07217351, 0.11228185],\n",
       "       [0.07462371, 0.07602013, 0.04658408],\n",
       "       [0.0782207 , 0.08024533, 0.11894674],\n",
       "       [0.07624654, 0.07556122, 0.01247225]])"
      ]
     },
     "execution_count": 267,
     "metadata": {},
     "output_type": "execute_result"
    }
   ],
   "source": [
    "#MGWR standard errors according to H+T but using GWR type DOF\n",
    "S_0 = gwr.S[0]\n",
    "S_1 = gwr.S[1]\n",
    "S_2 = gwr.S[2]\n",
    "bse0 = np.sqrt(np.diag(np.dot(S_0, S_0.T)*sigma2)).reshape((-1,1))\n",
    "bse1 = np.sqrt(np.diag(np.dot(S_1, S_1.T)*sigma2)).reshape((-1,1))\n",
    "bse2 = np.sqrt(np.diag(np.dot(S_2, S_2.T)*sigma2)).reshape((-1,1))\n",
    "\n",
    "\n",
    "bse = np.hstack([bse0, bse1, bse2])\n",
    "\n",
    "bse[0:5]"
   ]
  },
  {
   "cell_type": "code",
   "execution_count": 268,
   "metadata": {
    "collapsed": false
   },
   "outputs": [
    {
     "data": {
      "text/plain": [
       "array([[0.06545889, 0.07491731, 0.0601281 ],\n",
       "       [0.06225136, 0.06944765, 0.09379481],\n",
       "       [0.06349137, 0.07347428, 0.03831354],\n",
       "       [0.06926968, 0.08095787, 0.09967733],\n",
       "       [0.07338698, 0.0826819 , 0.01052659]])"
      ]
     },
     "execution_count": 268,
     "metadata": {},
     "output_type": "execute_result"
    }
   ],
   "source": [
    "#MGWR standard errors according to H+T and using Hanchen's suggestion to factor out Xj\n",
    "X_0 = gwr.model.X[:,0]\n",
    "S_0 = gwr.S[0]\n",
    "S_0 = np.linalg.inv(np.diag(X_0)) * S_0\n",
    "X_1 = gwr.model.X[:,1]\n",
    "S_1 = gwr.S[1]\n",
    "S_1 = np.linalg.inv(np.diag(X_1)) * S_1\n",
    "X_2 = gwr.model.X[:,2]\n",
    "S_2 = gwr.S[2]\n",
    "S_2 = np.linalg.inv(np.diag(X_2)) * S_2\n",
    "\n",
    "bse0 = np.sqrt(np.diag(np.dot(S_0, S_0.T)*sigma1)).reshape((-1,1))\n",
    "bse1 = np.sqrt(np.diag(np.dot(S_1, S_1.T)*sigma1)).reshape((-1,1))\n",
    "bse2 = np.sqrt(np.diag(np.dot(S_2, S_2.T)*sigma1)).reshape((-1,1))\n",
    "\n",
    "\n",
    "bse = np.hstack([bse0, bse1, bse2])\n",
    "\n",
    "bse[0:5]"
   ]
  },
  {
   "cell_type": "code",
   "execution_count": 269,
   "metadata": {
    "collapsed": false
   },
   "outputs": [
    {
     "data": {
      "text/plain": [
       "array([[0.01288684, 0.01474891, 0.01183737],\n",
       "       [0.01225537, 0.0136721 , 0.01846531],\n",
       "       [0.01249949, 0.01446482, 0.00754276],\n",
       "       [0.01363706, 0.01593811, 0.01962339],\n",
       "       [0.01444764, 0.01627752, 0.00207236]])"
      ]
     },
     "execution_count": 269,
     "metadata": {},
     "output_type": "execute_result"
    }
   ],
   "source": [
    "#MGWR standard errors according to H+T but using GWR type DOF and using Hanchen's suggestion to factor out Xj\n",
    "X_0 = gwr.model.X[:,0]\n",
    "S_0 = gwr.S[0]\n",
    "S_0 = np.linalg.inv(np.diag(X_0)) * S_0\n",
    "X_1 = gwr.model.X[:,1]\n",
    "S_1 = gwr.S[1]\n",
    "S_1 = np.linalg.inv(np.diag(X_1)) * S_1\n",
    "X_2 = gwr.model.X[:,2]\n",
    "S_2 = gwr.S[2]\n",
    "S_2 = np.linalg.inv(np.diag(X_2)) * S_2\n",
    "\n",
    "bse0 = np.sqrt(np.diag(np.dot(S_0, S_0.T)*sigma2)).reshape((-1,1))\n",
    "bse1 = np.sqrt(np.diag(np.dot(S_1, S_1.T)*sigma2)).reshape((-1,1))\n",
    "bse2 = np.sqrt(np.diag(np.dot(S_2, S_2.T)*sigma2)).reshape((-1,1))\n",
    "\n",
    "\n",
    "bse = np.hstack([bse0, bse1, bse2])\n",
    "\n",
    "bse[0:5]"
   ]
  },
  {
   "cell_type": "code",
   "execution_count": 271,
   "metadata": {
    "collapsed": false
   },
   "outputs": [
    {
     "data": {
      "text/plain": [
       "array([[0.07451606, 0.08464774, 0.07055087],\n",
       "       [0.07236312, 0.08225453, 0.06777438],\n",
       "       [0.0734318 , 0.08343102, 0.06946867],\n",
       "       [0.07697134, 0.08767169, 0.07179737],\n",
       "       [0.07502872, 0.08573802, 0.06876415]])"
      ]
     },
     "execution_count": 271,
     "metadata": {},
     "output_type": "execute_result"
    }
   ],
   "source": [
    "#MGWR standard errors if we just pull out the individual GWR standard error for the single component\n",
    "np.hstack([gwr.SE[0], gwr.SE[1], gwr.SE[2]])[0:5]"
   ]
  },
  {
   "cell_type": "code",
   "execution_count": null,
   "metadata": {
    "collapsed": true
   },
   "outputs": [],
   "source": []
  }
 ],
 "metadata": {
  "anaconda-cloud": {},
  "kernelspec": {
   "display_name": "Python [mgwr_hat]",
   "language": "python",
   "name": "Python [mgwr_hat]"
  },
  "language_info": {
   "codemirror_mode": {
    "name": "ipython",
    "version": 2
   },
   "file_extension": ".py",
   "mimetype": "text/x-python",
   "name": "python",
   "nbconvert_exporter": "python",
   "pygments_lexer": "ipython2",
   "version": "2.7.13"
  }
 },
 "nbformat": 4,
 "nbformat_minor": 0
}
